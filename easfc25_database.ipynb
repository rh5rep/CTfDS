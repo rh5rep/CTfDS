{
 "cells": [
  {
   "cell_type": "code",
   "execution_count": 2,
   "metadata": {},
   "outputs": [
    {
     "name": "stdout",
     "output_type": "stream",
     "text": [
      "Dataset URL: https://www.kaggle.com/datasets/nyagami/ea-sports-fc-25-database-ratings-and-stats\n"
     ]
    }
   ],
   "source": [
    "import kaggle\n",
    "\n",
    "# Download the dataset\n",
    "kaggle.api.dataset_download_files('nyagami/ea-sports-fc-25-database-ratings-and-stats', path='.', unzip=True)\n"
   ]
  },
  {
   "cell_type": "code",
   "execution_count": 17,
   "metadata": {},
   "outputs": [
    {
     "name": "stdout",
     "output_type": "stream",
     "text": [
      "   Unnamed: 0.1  Unnamed: 0  Rank             Name  OVR  PAC  SHO  PAS  DRI  \\\n",
      "0             0           0     1    Kylian Mbappé   91   97   90   80   92   \n",
      "1             1           1     2            Rodri   91   66   80   86   84   \n",
      "2             2           2     4   Erling Haaland   91   88   92   70   81   \n",
      "3             3           3     5  Jude Bellingham   90   80   87   83   88   \n",
      "4             4           4     7         Vini Jr.   90   95   84   81   91   \n",
      "\n",
      "   DEF  ...   Nation            League             Team  \\\n",
      "0   36  ...   France  LALIGA EA SPORTS      Real Madrid   \n",
      "1   87  ...    Spain    Premier League  Manchester City   \n",
      "2   45  ...   Norway    Premier League  Manchester City   \n",
      "3   78  ...  England  LALIGA EA SPORTS      Real Madrid   \n",
      "4   29  ...   Brazil  LALIGA EA SPORTS      Real Madrid   \n",
      "\n",
      "                                          play style  \\\n",
      "0  Quick Step+, Acrobatic, Finesse Shot, Flair, R...   \n",
      "1  Tiki Taka+, Aerial, Bruiser, Long Ball Pass, P...   \n",
      "2  Acrobatic+, Bruiser, Power Header, Power Shot,...   \n",
      "3  Relentless+, Flair, Intercept, Slide Tackle, T...   \n",
      "4  Quick Step+, Chip Shot, Finesse Shot, First To...   \n",
      "\n",
      "                                                 url  GK Diving  GK Handling  \\\n",
      "0  https://www.ea.com/games/ea-sports-fc/ratings/...        NaN          NaN   \n",
      "1  https://www.ea.com/games/ea-sports-fc/ratings/...        NaN          NaN   \n",
      "2  https://www.ea.com/games/ea-sports-fc/ratings/...        NaN          NaN   \n",
      "3  https://www.ea.com/games/ea-sports-fc/ratings/...        NaN          NaN   \n",
      "4  https://www.ea.com/games/ea-sports-fc/ratings/...        NaN          NaN   \n",
      "\n",
      "   GK Kicking  GK Positioning  GK Reflexes  \n",
      "0         NaN             NaN          NaN  \n",
      "1         NaN             NaN          NaN  \n",
      "2         NaN             NaN          NaN  \n",
      "3         NaN             NaN          NaN  \n",
      "4         NaN             NaN          NaN  \n",
      "\n",
      "[5 rows x 58 columns]\n"
     ]
    }
   ],
   "source": [
    "import pandas as pd\n",
    "import os\n",
    "\n",
    "# Get the current working directory\n",
    "script_path = os.getcwd()\n",
    "\n",
    "# Load the CSV file (replace 'filename.csv' with the actual filename)\n",
    "df = pd.read_csv(script_path + '/data/all_players.csv')\n",
    "\n",
    "# Now you can work with the data in the DataFrame 'df'\n",
    "print(df.head())\n"
   ]
  },
  {
   "cell_type": "code",
   "execution_count": null,
   "metadata": {},
   "outputs": [],
   "source": [
    "rows_with_nan = df[df.isna().any(axis=1)]\n",
    "rows_with_nan.to_csv(script_path + 'rows_with_nan.csv', index=False)\n"
   ]
  },
  {
   "cell_type": "code",
   "execution_count": null,
   "metadata": {},
   "outputs": [
    {
     "name": "stdout",
     "output_type": "stream",
     "text": [
      "Length of rows in all_players.csv: 17737\n",
      "Length of rows in rows_with_nan.csv: 17737\n"
     ]
    }
   ],
   "source": [
    "len_all_players = len(df)\n",
    "len_rows_with_nan = len(rows_with_nan)\n",
    "\n",
    "print(f\"Length of rows in all_players.csv: {len_all_players}\")\n",
    "print(f\"Length of rows in rows_with_nan.csv: {len_rows_with_nan}\")"
   ]
  },
  {
   "cell_type": "code",
   "execution_count": 6,
   "metadata": {},
   "outputs": [
    {
     "name": "stdout",
     "output_type": "stream",
     "text": [
      "Index(['Unnamed: 0.1', 'Unnamed: 0', 'Rank', 'Name', 'OVR', 'PAC', 'SHO',\n",
      "       'PAS', 'DRI', 'DEF', 'PHY', 'Acceleration', 'Sprint Speed',\n",
      "       'Positioning', 'Finishing', 'Shot Power', 'Long Shots', 'Volleys',\n",
      "       'Penalties', 'Vision', 'Crossing', 'Free Kick Accuracy',\n",
      "       'Short Passing', 'Long Passing', 'Curve', 'Dribbling', 'Agility',\n",
      "       'Balance', 'Reactions', 'Ball Control', 'Composure', 'Interceptions',\n",
      "       'Heading Accuracy', 'Def Awareness', 'Standing Tackle',\n",
      "       'Sliding Tackle', 'Jumping', 'Stamina', 'Strength', 'Aggression',\n",
      "       'Position', 'Weak foot', 'Skill moves', 'Preferred foot', 'Height',\n",
      "       'Weight', 'Alternative positions', 'Age', 'Nation', 'League', 'Team',\n",
      "       'play style', 'url', 'GK Diving', 'GK Handling', 'GK Kicking',\n",
      "       'GK Positioning', 'GK Reflexes'],\n",
      "      dtype='object')\n"
     ]
    }
   ],
   "source": [
    "print(df.columns)"
   ]
  },
  {
   "cell_type": "code",
   "execution_count": 7,
   "metadata": {},
   "outputs": [
    {
     "name": "stdout",
     "output_type": "stream",
     "text": [
      "['ST' 'CDM' 'CAM' 'LW' 'CM' 'GK' 'CB' 'RW' 'LB' 'LM' 'RB' 'RM']\n"
     ]
    }
   ],
   "source": [
    "print(df['Position'].unique())"
   ]
  },
  {
   "cell_type": "code",
   "execution_count": 8,
   "metadata": {},
   "outputs": [
    {
     "name": "stdout",
     "output_type": "stream",
     "text": [
      "                   Name Position Alternative positions\n",
      "0         Kylian Mbappé       ST                    LW\n",
      "1                 Rodri      CDM                    CM\n",
      "2        Erling Haaland       ST                   NaN\n",
      "3       Jude Bellingham      CAM                    CM\n",
      "4              Vini Jr.       LW                ST, LM\n",
      "5       Kevin De Bruyne       CM                   CAM\n",
      "6            Harry Kane       ST                   NaN\n",
      "7       Martin Ødegaard       CM                   CAM\n",
      "8  Gianluigi Donnarumma       GK                   NaN\n",
      "9               Alisson       GK                   NaN\n"
     ]
    }
   ],
   "source": [
    "print(df[['Name', 'Position', 'Alternative positions']].head(10))"
   ]
  },
  {
   "cell_type": "code",
   "execution_count": null,
   "metadata": {},
   "outputs": [],
   "source": []
  }
 ],
 "metadata": {
  "kernelspec": {
   "display_name": "venv",
   "language": "python",
   "name": "python3"
  },
  "language_info": {
   "codemirror_mode": {
    "name": "ipython",
    "version": 3
   },
   "file_extension": ".py",
   "mimetype": "text/x-python",
   "name": "python",
   "nbconvert_exporter": "python",
   "pygments_lexer": "ipython3",
   "version": "3.13.0"
  }
 },
 "nbformat": 4,
 "nbformat_minor": 2
}
