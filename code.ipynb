{
 "cells": [
  {
   "cell_type": "markdown",
   "metadata": {},
   "source": [
    "<center>\n",
    "    <h2>US 2020 elections: tweets sentiment analysis and most discussed topics</h2>\n",
    "</center>"
   ]
  },
  {
   "cell_type": "markdown",
   "metadata": {},
   "source": [
    "Welcome to this notebook where we will analyze the tweets for the 2020 elections using Python. The dataset can be found here: [2020 Election Tweets Dataset](https://www.kaggle.com/datasets/manchunhui/us-election-2020-tweets/data). "
   ]
  },
  {
   "cell_type": "markdown",
   "metadata": {},
   "source": [
    "### Imports"
   ]
  },
  {
   "cell_type": "code",
   "execution_count": 2,
   "metadata": {},
   "outputs": [],
   "source": [
    "import pandas as pd\n",
    "import os\n",
    "import re\n",
    "import wordninja\n",
    "from datasketch import MinHash, MinHashLSH\n",
    "from typing import Dict, List, Set, Tuple\n",
    "import networkx as nx\n",
    "from collections import defaultdict\n",
    "from sklearn.feature_extraction.text import TfidfVectorizer, ENGLISH_STOP_WORDS\n",
    "from sklearn.metrics.pairwise import cosine_similarity\n",
    "import numpy as np\n",
    "from community import community_louvain\n",
    "import plotly.graph_objects as go\n",
    "import plotly.express as px\n",
    "from concurrent.futures import ThreadPoolExecutor\n",
    "from plotly.subplots import make_subplots\n",
    "import math\n",
    "from vaderSentiment.vaderSentiment import SentimentIntensityAnalyzer\n",
    "import spacy\n",
    "import matplotlib.pyplot as plt"
   ]
  },
  {
   "cell_type": "markdown",
   "metadata": {},
   "source": [
    "### Data extraction and cleaning"
   ]
  },
  {
   "cell_type": "markdown",
   "metadata": {},
   "source": [
    "In the following code we start by reading the csv files and creating a single panda's dataframe out of them. We then proceed to clean the data: \n",
    "- Removing links and then dropping duplicates tweets\n",
    "- Remove the tweets that do not come from one of the 51 US states (including District of Columbia)\n",
    "- Split the dataframe into 4 splits using RegEx to check if any of the two candidates are mentioned:\n",
    "    - `df` includes all the tweets from The US \n",
    "    - `filtered_tweets_trump` includes all the tweets that mention Trump but not Biden\n",
    "    - `filtered_tweets_biden` includes all the tweets that mention Biden but not Trump\n",
    "    - `filtered_tweets` includes all the tweets that mention either Trump or Biden but not both\n",
    "\n",
    "The initial dataset consist of 1747805 tweets. After the cleaning we end up with the following: `df` = 284874, `filtered_tweets_trump` = 108299, `filtered_tweets_biden` = 80177 and `filtered_tweets` = 188476. The function `process_tweet` is also defined here, and will be used later, to clean the hashtag and split them into single words (e.g. #TrumpIsOrange = Trump Is Orange). "
   ]
  },
  {
   "cell_type": "code",
   "execution_count": 3,
   "metadata": {},
   "outputs": [],
   "source": [
    "path = os.getcwd()\n",
    "if os.name == \"nt\":  # For Windows\n",
    "    path_trump = path + \"\\\\data\\\\hashtag_donaldtrump.csv\"\n",
    "    path_biden = path + \"\\\\data\\\\hashtag_joebiden.csv\"\n",
    "else:  # For Unix/Linux/Mac\n",
    "    path_trump = path + \"/data/hashtag_donaldtrump.csv\"\n",
    "    path_biden = path + \"/data/hashtag_joebiden.csv\"\n",
    "\n",
    "trump = pd.read_csv(path_trump, lineterminator=\"\\n\")\n",
    "biden = pd.read_csv(path_biden, lineterminator=\"\\n\")\n",
    "trump[\"source\"] = \"Trump\"\n",
    "biden[\"source\"] = \"Biden\"\n",
    "# Concatenate and remove duplicates\n",
    "df = pd.concat([trump, biden], ignore_index=True)\n",
    "df = df.drop_duplicates()\n",
    "\n",
    "# Replace URLs with a placeholder text\n",
    "df[\"tweet\"] = df[\"tweet\"].apply(lambda x: re.sub(r\"http\\S+\", \"[]\", x))\n",
    "# Drop duplicates based on the cleaned tweet text\n",
    "df = df.drop_duplicates(subset=[\"tweet\"])\n",
    "\n",
    "us_states = [\n",
    "    \"Alabama\",\n",
    "    \"Alaska\",\n",
    "    \"Arizona\",\n",
    "    \"Arkansas\",\n",
    "    \"California\",\n",
    "    \"Colorado\",\n",
    "    \"Connecticut\",\n",
    "    \"Delaware\",\n",
    "    \"District of Columbia\",\n",
    "    \"Florida\",\n",
    "    \"Georgia\",\n",
    "    \"Hawaii\",\n",
    "    \"Idaho\",\n",
    "    \"Illinois\",\n",
    "    \"Indiana\",\n",
    "    \"Iowa\",\n",
    "    \"Kansas\",\n",
    "    \"Kentucky\",\n",
    "    \"Louisiana\",\n",
    "    \"Maine\",\n",
    "    \"Maryland\",\n",
    "    \"Massachusetts\",\n",
    "    \"Michigan\",\n",
    "    \"Minnesota\",\n",
    "    \"Mississippi\",\n",
    "    \"Missouri\",\n",
    "    \"Montana\",\n",
    "    \"Nebraska\",\n",
    "    \"Nevada\",\n",
    "    \"New Hampshire\",\n",
    "    \"New Jersey\",\n",
    "    \"New Mexico\",\n",
    "    \"New York\",\n",
    "    \"North Carolina\",\n",
    "    \"North Dakota\",\n",
    "    \"Ohio\",\n",
    "    \"Oklahoma\",\n",
    "    \"Oregon\",\n",
    "    \"Pennsylvania\",\n",
    "    \"Rhode Island\",\n",
    "    \"South Carolina\",\n",
    "    \"South Dakota\",\n",
    "    \"Tennessee\",\n",
    "    \"Texas\",\n",
    "    \"Utah\",\n",
    "    \"Vermont\",\n",
    "    \"Virginia\",\n",
    "    \"Washington\",\n",
    "    \"West Virginia\",\n",
    "    \"Wisconsin\",\n",
    "    \"Wyoming\",\n",
    "]\n",
    "\n",
    "df = df[df[\"state\"].isin(us_states)]\n",
    "\n",
    "frequent_names_trump = [\n",
    "    \"Trump\",\n",
    "    \"Donald\" \"Donald Trump\",\n",
    "    \"@realDonaldTrump\",\n",
    "    \"The Donald\",\n",
    "    \"45\",\n",
    "    \"Donald J. Trump\",\n",
    "    \"DJT\",\n",
    "    \"The Trump Administration\",\n",
    "    \"Trumpster\",\n",
    "    \"POTUS\",\n",
    "    \"@POTUS\",\n",
    "    \"Republican\",\n",
    "    \"Republicans\",\n",
    "    \"GOP\",\n",
    "    \"MAGA\",\n",
    "    \"Right Wing\",\n",
    "    \"the Right\",\n",
    "]\n",
    "frequent_names_biden = [\n",
    "    \"Biden\",\n",
    "    \"Joe Biden\",\n",
    "    \"@JoeBiden\",\n",
    "    \"The Biden\",\n",
    "    \"46\",\n",
    "    \"Joseph R. Biden\",\n",
    "    \"JRB\",\n",
    "    \"The Biden Administration\",\n",
    "    \"Bidenster\",\n",
    "    \"Joe\",\n",
    "    \"Joseph\",\n",
    "    \"Joseph Biden\",\n",
    "    \"Sleepy Joe\",\n",
    "    \"Uncle Joe\",\n",
    "    \"Dems\",\n",
    "    \"Democrat\",\n",
    "    \"Democrats\",\n",
    "    \"Left Wing\",\n",
    "    \"The Left\",\n",
    "]\n",
    "pattern_trump = \"|\".join(frequent_names_trump)\n",
    "pattern_biden = \"|\".join(frequent_names_biden)\n",
    "\n",
    "# Create boolean masks where tweets contain any of the frequent names\n",
    "mask_trump = df[\"tweet\"].str.contains(pattern_trump, case=False, na=False)\n",
    "mask_biden = df[\"tweet\"].str.contains(pattern_biden, case=False, na=False)\n",
    "\n",
    "# Combine the masks to filter for tweets containing Trump names but not Biden names or vice versa\n",
    "testdf = df.copy()\n",
    "testdf[\"tweet_about\"] = \"None\"\n",
    "filtered_tweets_trump = df[mask_trump & ~mask_biden]\n",
    "filtered_tweets_biden = df[mask_biden & ~mask_trump]\n",
    "\n",
    "testdf.loc[mask_trump & ~mask_biden, \"tweet_about\"] = \"trump\"\n",
    "testdf.loc[mask_biden & ~mask_trump, \"tweet_about\"] = \"biden\"\n",
    "\n",
    "filtered_tweets = testdf[(mask_trump & ~mask_biden) ^ (mask_biden & ~mask_trump)]\n",
    "filtered_tweets = filtered_tweets.drop_duplicates(subset=[\"tweet\"])\n",
    "\n",
    "wordninja.DEFAULT_LANGUAGE_MODEL = wordninja.LanguageModel(\"wordninja_words_our.txt.gz\")\n",
    "\n",
    "\n",
    "def process_tweet(text):\n",
    "    def split_hashtag(match):\n",
    "        words = wordninja.split(match.group())\n",
    "        return \" \".join(words)\n",
    "\n",
    "    # Remove all URLs\n",
    "    text = re.sub(r\"http\\S+|www\\S+|https\\S+\", \"\", text, flags=re.MULTILINE)\n",
    "\n",
    "    # Replace all hashtags with split words\n",
    "    processed_text = re.sub(r\"#\\w+\\b\", split_hashtag, text)\n",
    "    return processed_text\n",
    "\n",
    "\n",
    "# Example usage\n",
    "# text = \"Check this out: https://example.com The US is the Best Country in the world! #USA #US #America!! #UnitedStates!\"\n",
    "# processed_text = process_tweet(text)\n",
    "# print(processed_text)"
   ]
  },
  {
   "cell_type": "markdown",
   "metadata": {},
   "source": [
    "### Topic Clustering Algorithm\n",
    "\n",
    "This algorithm performs advanced text clustering using a combination of techniques:\n",
    "- MinHash for efficient tweet similarity estimation\n",
    "- Locality-Sensitive Hashing (LSH) for candidate pair generation\n",
    "- Locality-Sensitive Hashing (LSH) for candidate pair generation\n",
    "- TF-IDF for term importance extraction\n",
    "\n",
    "\n",
    "In particular, every tweet goes through the shingling process, and its MinHash signature is created via the batched MinHash algorithm. The next step is done using the LSH algorithm to help identify candidate pairs (we are using the banding technique to speed up the process and lower memory consumption). We then use these similarities to construct a graph that has similarity scores as weights, and we partition it via the Louvain Community Detection algorithm. As a last step, we iteratively force the merging of most similar clusters to obtain a reasonable number of topics. The results are presented via a plot that shows the most significant terms per cluster using TF-IDF vectorization. \n",
    "\n",
    "We consider tweets that have a similarity between $threshold \\leq similarity < 0.40$ since we noticed that a similarity above 0.4, for such short texts, indicates they are probably the same or they differ by only some hashtags. A wide selection of parameters is available, and more fine-tuning can be done with adequate time:\n",
    "```python\n",
    "clusters = find_topic_clusters(\n",
    "    docs, \n",
    "    threshold=0.2, # jaccard min threshold\n",
    "    num_perm=120, # hash funcitons per each tweet\n",
    "    q=4, # shingle size  \n",
    "    min_cluster_size=40, # minumin cluster size (if less cluster is discarded)\n",
    "    n_terms=TERMS, # Terms to show in graph per each cluster\n",
    "    batch_size=1000, # batch size for batchd MinHash processing \n",
    "    n_clusters=6, # final number of cluster\n",
    "    max_docs=300_000, # if more then 300000 you might need more RAM\n",
    ")\n",
    "```\n",
    "\n",
    "\n",
    "\n"
   ]
  },
  {
   "cell_type": "code",
   "execution_count": null,
   "metadata": {},
   "outputs": [],
   "source": [
    "# POLITICAL_STOP_WORDS = [\n",
    "#     \"trump\",\n",
    "#     \"biden\",\n",
    "#     \"donald\",\n",
    "#     \"joe\",\n",
    "#     \"potus\",\n",
    "#     \"2020\",\n",
    "#     \"trumps\",\n",
    "#     \"realdonaldtrump\",\n",
    "#     \"harris\",\n",
    "#     \"save\",\n",
    "#     \"yep\",\n",
    "#     \"yes\",\n",
    "#     \"nope\",\n",
    "#     \"no\",\n",
    "#     \"fa\",\n",
    "#     \"oh\",\n",
    "#     \"nytimes\",\n",
    "#     \"wow\",\n",
    "#     \"tells\",\n",
    "#     \"omg\",\n",
    "#     \"wait\",\n",
    "#     \"look\",\n",
    "#     \"abc\" \"abcnews\",\n",
    "#     \"cnn\",\n",
    "#     \"fox\",\n",
    "#     \"foxnews\",\n",
    "#     \"msnbc\",\n",
    "#     \"nbc\",\n",
    "#     \"nbcnews\",\n",
    "#     \"cbs\",\n",
    "#     \"cbsnews\",\n",
    "#     \"news\",\n",
    "#     \"joebiden\",\n",
    "#     \"did\",\n",
    "#     \"won\",\n",
    "#     \"wins\",\n",
    "#     \"19\",\n",
    "#     \"kamala\",\n",
    "#     \"wouldn\",\n",
    "#     \"rawstory\",\n",
    "# ]\n",
    "# CUSTOM_STOP_WORDS = list(ENGLISH_STOP_WORDS) + POLITICAL_STOP_WORDS\n",
    "# MAX_FEATURES = 3000\n",
    "\n",
    "\n",
    "# def create_vectorizer(max_features: int = MAX_FEATURES) -> TfidfVectorizer:\n",
    "#     \"\"\"Create a consistent TfidfVectorizer with standard parameters\"\"\"\n",
    "#     return TfidfVectorizer(\n",
    "#         stop_words=CUSTOM_STOP_WORDS,\n",
    "#         max_features=max_features,\n",
    "#         ngram_range=(1, 1),  # unigrams\n",
    "#         min_df=7,  # minimum document frequency\n",
    "#         max_df=0.7,  # maximum document frequency\n",
    "#     )\n",
    "\n",
    "\n",
    "# def create_shingles(text: str, q: int = 5) -> Set[str]:\n",
    "#     \"\"\"Convert text into q-grams (shingles)\"\"\"\n",
    "#     # Process only if text is long enough\n",
    "#     if len(text) < q:\n",
    "#         return set()\n",
    "#     return set(text[i : i + q] for i in range(len(text) - q + 1))\n",
    "\n",
    "\n",
    "# def batch_minhash(\n",
    "#     docs: Dict[int, str], batch_size: int = 1000, num_perm: int = 128, q: int = 5\n",
    "# ) -> Dict[int, MinHash]:\n",
    "#     \"\"\"Create MinHash objects in batches\"\"\"\n",
    "#     minhashes = {}\n",
    "\n",
    "#     def process_batch(batch_items):\n",
    "#         batch_results = {}\n",
    "#         for doc_id, text in batch_items:\n",
    "#             m = MinHash(num_perm=num_perm)\n",
    "#             shingles = create_shingles(text, q)\n",
    "#             for shingle in shingles:\n",
    "#                 m.update(shingle.encode(\"utf-8\"))\n",
    "#             batch_results[doc_id] = m\n",
    "#         return batch_results\n",
    "\n",
    "#     # Process documents in batches\n",
    "#     items = list(docs.items())\n",
    "#     with ThreadPoolExecutor() as executor:\n",
    "#         futures = []\n",
    "#         for i in range(0, len(items), batch_size):\n",
    "#             batch = items[i : i + batch_size]\n",
    "#             futures.append(executor.submit(process_batch, batch))\n",
    "\n",
    "#         for future in futures:\n",
    "#             minhashes.update(future.result())\n",
    "\n",
    "#     return minhashes\n",
    "\n",
    "\n",
    "# def find_candidate_pairs(\n",
    "#     minhashes: Dict[int, MinHash], threshold: float\n",
    "# ) -> Set[Tuple[int, int]]:\n",
    "#     \"\"\"\n",
    "#     Memory-efficient candidate pair generation using LSH with iterative processing\n",
    "\n",
    "#     Args:\n",
    "#         minhashes: Dictionary of document IDs to MinHash signatures\n",
    "#         threshold: Jaccard similarity threshold for considering pairs\n",
    "\n",
    "#     Returns:\n",
    "#         Set of document ID pairs that are potentially similar\n",
    "#     \"\"\"\n",
    "#     # Limit memory by processing documents in batches\n",
    "#     candidate_pairs = set()\n",
    "#     doc_ids = list(minhashes.keys())\n",
    "\n",
    "#     # Process in manageable chunks to reduce memory pressure\n",
    "#     for i in range(0, len(doc_ids), 10000):  # Adjust batch size as needed\n",
    "#         batch_doc_ids = doc_ids[i : i + 10000]\n",
    "\n",
    "#         # Create a temporary LSH index for this batch\n",
    "#         lsh = MinHashLSH(\n",
    "#             threshold=threshold, num_perm=len(next(iter(minhashes.values())).hashvalues)\n",
    "#         )\n",
    "\n",
    "#         # Insert documents from this batch into LSH\n",
    "#         for doc_id in batch_doc_ids:\n",
    "#             lsh.insert(doc_id, minhashes[doc_id])\n",
    "\n",
    "#         # Find pairs within this batch and across previous batches\n",
    "#         for doc_id in batch_doc_ids:\n",
    "#             similar_ids = lsh.query(minhashes[doc_id])\n",
    "\n",
    "#             for similar_id in similar_ids:\n",
    "#                 if similar_id != doc_id:\n",
    "#                     # Ensure consistent pair ordering\n",
    "#                     candidate_pair = tuple(sorted((doc_id, similar_id)))\n",
    "#                     candidate_pairs.add(candidate_pair)\n",
    "\n",
    "#         # Clear LSH to free memory\n",
    "#         del lsh\n",
    "\n",
    "#     return candidate_pairs\n",
    "\n",
    "\n",
    "# def merge_similar_clusters(\n",
    "#     clusters: Dict[int, Dict], docs: Dict[int, str], target_clusters: int, n_terms: int\n",
    "# ) -> Dict[int, Dict]:\n",
    "#     \"\"\"Merge similar clusters until reaching target number of clusters\"\"\"\n",
    "#     if len(clusters) <= target_clusters:\n",
    "#         return clusters\n",
    "\n",
    "#     # Create TF-IDF vectors for each cluster\n",
    "#     vectorizer = TfidfVectorizer(stop_words=CUSTOM_STOP_WORDS)\n",
    "#     cluster_texts = {}\n",
    "#     for cluster_id, info in clusters.items():\n",
    "#         # Concatenate all texts in cluster\n",
    "#         cluster_text = \" \".join([docs[doc_id] for doc_id in info[\"documents\"]])\n",
    "#         cluster_texts[cluster_id] = cluster_text\n",
    "\n",
    "#     while len(clusters) > target_clusters:\n",
    "#         # Recalculate TF-IDF matrix and similarities for current clusters\n",
    "#         current_cluster_ids = list(clusters.keys())\n",
    "#         tfidf_matrix = vectorizer.fit_transform(\n",
    "#             [cluster_texts[cid] for cid in current_cluster_ids]\n",
    "#         )\n",
    "#         similarities = cosine_similarity(tfidf_matrix)\n",
    "\n",
    "#         # Find most similar pair of clusters\n",
    "#         max_similarity = -1\n",
    "#         merge_pair = None\n",
    "\n",
    "#         for i in range(len(current_cluster_ids)):\n",
    "#             for j in range(i + 1, len(current_cluster_ids)):\n",
    "#                 if similarities[i, j] > max_similarity:\n",
    "#                     max_similarity = similarities[i, j]\n",
    "#                     merge_pair = (current_cluster_ids[i], current_cluster_ids[j])\n",
    "\n",
    "#         if merge_pair is None:\n",
    "#             break\n",
    "\n",
    "#         # Merge clusters\n",
    "#         cluster1, cluster2 = merge_pair\n",
    "#         new_docs = clusters[cluster1][\"documents\"] + clusters[cluster2][\"documents\"]\n",
    "#         new_texts = [docs[doc_id] for doc_id in new_docs]\n",
    "\n",
    "#         # Update cluster_texts for the merged cluster\n",
    "#         cluster_texts[cluster1] = \" \".join([docs[doc_id] for doc_id in new_docs])\n",
    "\n",
    "#         # Create new cluster info\n",
    "#         clusters[cluster1] = {\n",
    "#             \"documents\": new_docs,\n",
    "#             \"size\": len(new_docs),\n",
    "#             \"top_terms\": extract_top_terms(new_texts, n_terms=n_terms),\n",
    "#         }\n",
    "\n",
    "#         # Remove merged cluster and its text\n",
    "#         del clusters[cluster2]\n",
    "#         del cluster_texts[cluster2]\n",
    "\n",
    "#     return clusters\n",
    "\n",
    "\n",
    "# def extract_top_terms(texts: List[str], n_terms: int = 5) -> List[str]:\n",
    "#     \"\"\"Extract the most significant terms from a group of tweets using TF-IDF\"\"\"\n",
    "#     vectorizer = create_vectorizer()\n",
    "#     tfidf_matrix = vectorizer.fit_transform(texts)\n",
    "\n",
    "#     avg_scores = np.array(tfidf_matrix.mean(axis=0))[0]\n",
    "#     top_indices = avg_scores.argsort()[-n_terms:][::-1]\n",
    "\n",
    "#     feature_names = vectorizer.get_feature_names_out()\n",
    "#     return [feature_names[i] for i in top_indices]\n",
    "\n",
    "\n",
    "# def find_topic_clusters(\n",
    "#     docs: Dict[int, str],\n",
    "#     threshold: float = 0.05,\n",
    "#     num_perm: int = 120,\n",
    "#     q: int = 4,\n",
    "#     min_cluster_size: int = 5,\n",
    "#     n_terms: int = 5,\n",
    "#     batch_size: int = 1000,\n",
    "#     n_clusters: int = 10,\n",
    "#     max_docs: int = None,\n",
    "# ) -> Dict[int, Dict]:\n",
    "#     \"\"\"\n",
    "#     Optimized version with memory-conscious processing\n",
    "#     \"\"\"\n",
    "#     # Optionally limit number of documents\n",
    "#     if max_docs is not None and len(docs) > max_docs:\n",
    "#         print(f\"Warning: Large dataset detected. Using first {max_docs} documents.\")\n",
    "#         docs = dict(list(docs.items())[:max_docs])\n",
    "\n",
    "#     # Initialize similarity graph\n",
    "#     similarity_graph = nx.Graph()\n",
    "#     similarity_graph.add_nodes_from(docs.keys())\n",
    "\n",
    "#     # Create MinHash signatures in batches\n",
    "#     print(\"Creating MinHash signatures...\")\n",
    "#     minhashes = batch_minhash(docs, batch_size=batch_size, num_perm=num_perm, q=q)\n",
    "\n",
    "#     # Find candidate pairs using LSH banding\n",
    "#     print(\"Finding candidate pairs...\")\n",
    "#     candidate_pairs = find_candidate_pairs(minhashes, threshold)\n",
    "\n",
    "#     # Verify candidate pairs and build similarity graph\n",
    "#     print(\"Building similarity graph...\")\n",
    "#     for doc_id1, doc_id2 in candidate_pairs:\n",
    "#         similarity = minhashes[doc_id1].jaccard(minhashes[doc_id2])\n",
    "#         if threshold <= similarity < 0.40:\n",
    "#             similarity_graph.add_edge(doc_id1, doc_id2, weight=similarity)\n",
    "\n",
    "#     # Find clusters using Louvain\n",
    "#     print(\"Finding communities...\")\n",
    "#     partition = community_louvain.best_partition(similarity_graph)\n",
    "\n",
    "#     # Create cluster dictionary\n",
    "#     clusters = defaultdict(list)\n",
    "#     for doc_id, cluster_id in partition.items():\n",
    "#         clusters[cluster_id].append(doc_id)\n",
    "\n",
    "#     # Create cluster info with batched TF-IDF calculation\n",
    "#     print(\"Creating cluster information...\")\n",
    "#     cluster_info = {}\n",
    "#     vectorizer = create_vectorizer()\n",
    "\n",
    "#     # Process clusters that meet minimum size requirement\n",
    "#     valid_clusters = {\n",
    "#         cid: doc_ids\n",
    "#         for cid, doc_ids in clusters.items()\n",
    "#         if len(doc_ids) >= min_cluster_size\n",
    "#     }\n",
    "\n",
    "#     if valid_clusters:\n",
    "#         # Prepare texts for all valid clusters at once\n",
    "#         all_texts = []\n",
    "#         cluster_doc_mapping = []\n",
    "#         for cluster_id, doc_ids in valid_clusters.items():\n",
    "#             cluster_texts = [docs[doc_id] for doc_id in doc_ids]\n",
    "#             all_texts.extend(cluster_texts)\n",
    "#             cluster_doc_mapping.extend([cluster_id] * len(cluster_texts))\n",
    "\n",
    "#         # Calculate TF-IDF for all texts at once\n",
    "#         tfidf_matrix = vectorizer.fit_transform(all_texts)\n",
    "#         feature_names = vectorizer.get_feature_names_out()\n",
    "\n",
    "#         # Process each cluster\n",
    "#         current_idx = 0\n",
    "#         for cluster_id, doc_ids in valid_clusters.items():\n",
    "#             n_docs = len(doc_ids)\n",
    "#             cluster_tfidf = tfidf_matrix[current_idx : current_idx + n_docs]\n",
    "\n",
    "#             # Calculate average TF-IDF scores for the cluster\n",
    "#             avg_scores = np.array(cluster_tfidf.mean(axis=0))[0]\n",
    "#             top_indices = avg_scores.argsort()[-n_terms:][::-1]  # Get top n_terms\n",
    "\n",
    "#             cluster_info[cluster_id] = {\n",
    "#                 \"documents\": sorted(doc_ids),\n",
    "#                 \"size\": n_docs,\n",
    "#                 \"top_terms\": [feature_names[i] for i in top_indices],\n",
    "#             }\n",
    "#             current_idx += n_docs\n",
    "\n",
    "#     # Merge similar clusters if needed\n",
    "#     if len(cluster_info) > n_clusters:\n",
    "#         cluster_info = merge_similar_clusters(cluster_info, docs, n_clusters, n_terms)\n",
    "\n",
    "#     return cluster_info\n",
    "\n",
    "\n",
    "# def create_cluster_wordclouds(clusters, max_terms=10):\n",
    "#     \"\"\"\n",
    "#     Create a visualization of word clouds for each cluster using Plotly\n",
    "#     to maintain consistency with create_cluster_word_viz()\n",
    "#     \"\"\"\n",
    "#     n_clusters = len(clusters)\n",
    "#     n_cols = min(3, n_clusters)\n",
    "#     n_rows = math.ceil(n_clusters / n_cols)\n",
    "\n",
    "#     fig = make_subplots(\n",
    "#         rows=n_rows,\n",
    "#         cols=n_cols,\n",
    "#         subplot_titles=[f\"Cluster {i+1}\" for i in range(n_clusters)],\n",
    "#         vertical_spacing=0.15,\n",
    "#         horizontal_spacing=0.05,\n",
    "#     )\n",
    "#     # Increase font size of subplot titles\n",
    "#     for annotation in fig.layout.annotations:\n",
    "#         annotation.font.size = 30  # Font size of subplot titles\n",
    "\n",
    "#         # Add number of elements to subplot titles\n",
    "#         cluster_num = int(annotation.text.split()[-1]) - 1\n",
    "#         cluster_size = len(list(clusters.values())[cluster_num][\"documents\"])\n",
    "#         annotation.text += f\"<br><sup>({cluster_size} elements)</sup>\"\n",
    "#         annotation.font.size = 20  # Smaller font for element count\n",
    "\n",
    "#     colors = [\n",
    "#         \"#1f77b4\",\n",
    "#         \"#ff7f0e\",\n",
    "#         \"#2ca02c\",\n",
    "#         \"#d62728\",\n",
    "#         \"#9467bd\",\n",
    "#         \"#8c564b\",\n",
    "#         \"#e377c2\",\n",
    "#         \"#7f7f7f\",\n",
    "#         \"#bcbd22\",\n",
    "#         \"#17becf\",\n",
    "#     ]\n",
    "\n",
    "#     def get_text_dimensions(term, size):\n",
    "#         \"\"\"Estimate text dimensions based on term length and font size\"\"\"\n",
    "#         char_width = size / 2  # Approximate width per character\n",
    "#         char_height = size  # Approximate height\n",
    "#         return (\n",
    "#             len(term) * char_width / 100,\n",
    "#             char_height / 100,\n",
    "#         )  # Scale down to plot units\n",
    "\n",
    "#     def check_overlap(x1, y1, w1, h1, x2, y2, w2, h2, padding=0.1):\n",
    "#         \"\"\"Check if two text boxes overlap\"\"\"\n",
    "#         return not (\n",
    "#             x1 + w1 / 2 + padding < x2 - w2 / 2\n",
    "#             or x1 - w1 / 2 - padding > x2 + w2 / 2\n",
    "#             or y1 + h1 / 2 + padding < y2 - h2 / 2\n",
    "#             or y1 - h1 / 2 - padding > y2 + h2 / 2\n",
    "#         )\n",
    "\n",
    "#     def generate_positions(terms, sizes):\n",
    "#         \"\"\"Generate non-overlapping positions for terms\"\"\"\n",
    "#         positions = []\n",
    "\n",
    "#         # Start with center position for first term\n",
    "#         first_width, first_height = get_text_dimensions(terms[0], sizes[0])\n",
    "#         positions.append((0, 0, first_width, first_height))\n",
    "\n",
    "#         # Place remaining terms\n",
    "#         for i in range(1, len(terms)):\n",
    "#             term = terms[i]\n",
    "#             size = sizes[i]\n",
    "#             width, height = get_text_dimensions(term, size)\n",
    "\n",
    "#             # Try positions at increasing distances from center\n",
    "#             base_radius = 0.3  # Start closer to center\n",
    "#             radius_step = 0.1\n",
    "#             angle_step = np.pi / 8\n",
    "\n",
    "#             for radius in np.arange(base_radius, 1.0, radius_step):\n",
    "#                 for angle in np.arange(0, 2 * np.pi, angle_step):\n",
    "#                     x = radius * np.cos(angle)\n",
    "#                     y = radius * np.sin(angle)\n",
    "\n",
    "#                     # Check overlap with all existing terms\n",
    "#                     overlaps = False\n",
    "#                     for px, py, pw, ph in positions:\n",
    "#                         if check_overlap(x, y, width, height, px, py, pw, ph):\n",
    "#                             overlaps = True\n",
    "#                             break\n",
    "\n",
    "#                     if not overlaps:\n",
    "#                         positions.append((x, y, width, height))\n",
    "#                         break\n",
    "\n",
    "#                 if len(positions) > i:  # If position was found\n",
    "#                     break\n",
    "\n",
    "#             # If no position found, place at default position\n",
    "#             if len(positions) <= i:\n",
    "#                 positions.append(\n",
    "#                     (\n",
    "#                         radius * np.cos(i * 2 * np.pi / len(terms)),\n",
    "#                         radius * np.sin(i * 2 * np.pi / len(terms)),\n",
    "#                         width,\n",
    "#                         height,\n",
    "#                     )\n",
    "#                 )\n",
    "\n",
    "#         return [(x, y) for x, y, w, h in positions]\n",
    "\n",
    "#     for idx, (_, info) in enumerate(clusters.items()):\n",
    "#         row = idx // n_cols + 1\n",
    "#         col = idx % n_cols + 1\n",
    "#         color = colors[idx % len(colors)]\n",
    "\n",
    "#         terms = info[\"top_terms\"][:max_terms]\n",
    "\n",
    "#         # Calculate term sizes\n",
    "#         base_size = 50\n",
    "#         size_decay = 0.85\n",
    "#         term_sizes = [base_size * (size_decay**i) for i in range(len(terms))]\n",
    "\n",
    "#         # Generate non-overlapping positions\n",
    "#         positions = generate_positions(terms, term_sizes)\n",
    "\n",
    "#         # Add terms to plot\n",
    "#         for i, (term, size, (x, y)) in enumerate(zip(terms, term_sizes, positions)):\n",
    "#             opacity = 1.0 - (i * 0.5 / len(terms))\n",
    "\n",
    "#             fig.add_trace(\n",
    "#                 go.Scatter(\n",
    "#                     x=[x],\n",
    "#                     y=[y],\n",
    "#                     text=[term],\n",
    "#                     mode=\"text\",\n",
    "#                     textfont=dict(\n",
    "#                         size=size,\n",
    "#                         color=color,\n",
    "#                         family=\"Arial Black\" if i == 0 else \"Arial\",\n",
    "#                     ),\n",
    "#                     opacity=opacity,\n",
    "#                     hoverinfo=\"text\",\n",
    "#                     hovertext=f\"Term: {term}\",\n",
    "#                     showlegend=False,\n",
    "#                 ),\n",
    "#                 row=row,\n",
    "#                 col=col,\n",
    "#             )\n",
    "\n",
    "#     fig.update_layout(\n",
    "#         title_text=\"Topic Clusters - Word Importance\",\n",
    "#         title_x=0.5,\n",
    "#         title_font_size=35,\n",
    "#         height=600 * n_rows,\n",
    "#         width=1500,\n",
    "#         showlegend=False,\n",
    "#         paper_bgcolor=\"white\",\n",
    "#         plot_bgcolor=\"white\",\n",
    "#     )\n",
    "\n",
    "#     for i in range(1, n_clusters + 1):\n",
    "#         fig.update_xaxes(\n",
    "#             showgrid=False,\n",
    "#             zeroline=False,\n",
    "#             showticklabels=False,\n",
    "#             range=[-1.2, 1.2],\n",
    "#             row=(i - 1) // n_cols + 1,\n",
    "#             col=(i - 1) % n_cols + 1,\n",
    "#         )\n",
    "#         fig.update_yaxes(\n",
    "#             showgrid=False,\n",
    "#             zeroline=False,\n",
    "#             showticklabels=False,\n",
    "#             range=[-1.2, 1.2],\n",
    "#             row=(i - 1) // n_cols + 1,\n",
    "#             col=(i - 1) % n_cols + 1,\n",
    "#         )\n",
    "\n",
    "#     return fig\n",
    "\n",
    "\n",
    "# TERMS = 6\n",
    "# docs = {i: tweet for i, tweet in enumerate(df[\"tweet\"])}\n",
    "\n",
    "# print(\"Processing hashtags...\")\n",
    "# docs = dict(zip(docs.keys(), map(process_tweet, docs.values())))\n",
    "\n",
    "# # Find topic clusters\n",
    "# clusters = find_topic_clusters(\n",
    "#     docs,\n",
    "#     threshold=0.2,\n",
    "#     num_perm=120,\n",
    "#     q=4,\n",
    "#     min_cluster_size=40,\n",
    "#     n_terms=TERMS,\n",
    "#     batch_size=1000,\n",
    "#     n_clusters=6,\n",
    "#     max_docs=300_000,\n",
    "# )\n",
    "\n",
    "# print(f\"\\nFound {len(clusters)} topic clusters:\")\n",
    "# for cluster_id, info in clusters.items():\n",
    "#     print(f\"\\nCluster {cluster_id}:\")\n",
    "#     print(f\"Size: {info['size']} documents\")\n",
    "#     print(f\"Top terms: {', '.join(info['top_terms'])}\")\n",
    "#     print(\"\\nExample documents:\")\n",
    "#     for doc_id in info[\"documents\"][:3]:\n",
    "#         print(f\"- {docs[doc_id][:100]}...\")\n",
    "#     print(24 * \"-\")\n",
    "\n",
    "# fig = create_cluster_wordclouds(clusters, max_terms=TERMS)\n",
    "# fig.show()"
   ]
  },
  {
   "cell_type": "markdown",
   "metadata": {},
   "source": [
    "# Sentiment Analysis\n",
    "\n",
    "The following code will add 4 new columns, `positive`, `negative`, and `compound` which refers to the sentiment score, and `likely_party` which classifies a tweet as pro Democrat 1, pro Republican 2 or neutral tweet. The sentiment and the classification is done by:\n",
    "\n",
    "- First importing relevant libraries, `nltk` for the vader Sentiment Analyzer and  `spacy` to load the language.\n",
    "- Defining a function `analyze_sentiment` that given a tweet, it will use vader Sentiment Analyzer to calculate the sentiment score. \n",
    "- `analyze_sentiment` function also classifies the tweets based on sentiment, for example a tweet is about Biden that has bad sentiment, then the tweet will be classified as Republican\n",
    "- The function is then applied to every row of the `filtered_tweets` and the dataframe is stored in a .pkl file."
   ]
  },
  {
   "cell_type": "code",
   "execution_count": null,
   "metadata": {},
   "outputs": [
    {
     "ename": "",
     "evalue": "",
     "output_type": "error",
     "traceback": [
      "\u001b[1;31mThe Kernel crashed while executing code in the current cell or a previous cell. \n",
      "\u001b[1;31mPlease review the code in the cell(s) to identify a possible cause of the failure. \n",
      "\u001b[1;31mClick <a href='https://aka.ms/vscodeJupyterKernelCrash'>here</a> for more info. \n",
      "\u001b[1;31mView Jupyter <a href='command:jupyter.viewOutput'>log</a> for further details."
     ]
    }
   ],
   "source": [
    "# !python -m spacy download en_core_web_lg"
   ]
  },
  {
   "cell_type": "code",
   "execution_count": 4,
   "metadata": {},
   "outputs": [
    {
     "name": "stdout",
     "output_type": "stream",
     "text": [
      "There are 101001 neutral tweets, 51399 democrat tweets, and 36076 republican tweets.\n",
      "The neutral tweets are 53.58825526857531, the democrat tweets are 27.270846155478683, and the republican tweets are 19.140898575946007.\n"
     ]
    }
   ],
   "source": [
    "## Adding additional columns to store sentiment analysis results\n",
    "filtered_tweets[\"positive\"] = 0.0\n",
    "filtered_tweets[\"neutral\"] = 0.0\n",
    "filtered_tweets[\"negative\"] = 0.0\n",
    "filtered_tweets[\"compound\"] = 0.0\n",
    "filtered_tweets[\"likely_party\"] = 0  # 0 for unsure, 1 for dem, 2 for rep\n",
    "nlp = spacy.load(\"en_core_web_lg\")\n",
    "analyzer = SentimentIntensityAnalyzer()\n",
    "\n",
    "# Process tweets and calculate sentiment scores\n",
    "def analyze_sentiment(row):\n",
    "    tweet = process_tweet(row[\"tweet\"])\n",
    "    doc = nlp(tweet)\n",
    "    context = \" \".join(\n",
    "        [token.text for token in doc if token.dep_ in (\"nsubj\", \"dobj\", \"pobj\", \"ROOT\")]\n",
    "    )\n",
    "\n",
    "    # Get the sentiment score from VADER for the context\n",
    "    sentiment_dict = analyzer.polarity_scores(context)\n",
    "    row[\"positive\"] = sentiment_dict[\"pos\"]\n",
    "    row[\"neutral\"] = sentiment_dict[\"neu\"]\n",
    "    row[\"negative\"] = sentiment_dict[\"neg\"]\n",
    "    row[\"compound\"] = sentiment_dict[\"compound\"]\n",
    "\n",
    "    if (sentiment_dict[\"compound\"] < 0.05) and (sentiment_dict[\"compound\"] > -0.05):\n",
    "        row[\"likely_party\"] = 0\n",
    "    elif row[\"tweet_about\"] == \"biden\":\n",
    "        row[\"likely_party\"] = 1 if sentiment_dict[\"compound\"] > 0 else 2\n",
    "    elif row[\"tweet_about\"] == \"trump\":\n",
    "        row[\"likely_party\"] = 2 if sentiment_dict[\"compound\"] > 0 else 1\n",
    "    return row\n",
    "\n",
    "\n",
    "# Apply the sentiment analysis function to each row\n",
    "# filtered_tweets = filtered_tweets.apply(analyze_sentiment, axis=1)\n",
    "if not os.path.exists(\"data/filtered_tweets_final.pkl\"):\n",
    "    for n,row in filtered_tweets.iterrows():\n",
    "        filtered_tweets.loc[n] = analyze_sentiment(row)\n",
    "        print(n/len(filtered_tweets)*100, end=\"\\r\")\n",
    "\n",
    "# Save the results to a new pkl file\n",
    "# =============================================================================\n",
    "# import pickle as pkl\n",
    "# with open('filtered_tweets_nlp_2.pkl', 'wb') as f:\n",
    "#     pkl.dump(filtered_tweets, f)\n",
    "# =============================================================================\n",
    "\n",
    "# Load the saved results\n",
    "# =============================================================================\n",
    "import pickle as pkl\n",
    "if os.path.exists(\"data/filtered_tweets_final.pkl\"):\n",
    "    filtered_tweets = pkl.load(open('data/filtered_tweets_final.pkl', 'rb'))\n",
    "# =============================================================================\n",
    "\n",
    "loaded = filtered_tweets.copy()\n",
    "nue, dem, rep = 0, 0, 0\n",
    "for i in loaded[\"likely_party\"]:\n",
    "    if i == 0:\n",
    "        nue += 1\n",
    "    elif i == 1:\n",
    "        dem += 1\n",
    "    else:\n",
    "        rep += 1\n",
    "print(\n",
    "    f\"There are {nue} neutral tweets, {dem} democrat tweets, and {rep} republican tweets.\"\n",
    ")\n",
    "print(\n",
    "    f\"The neutral tweets are {nue/len(loaded)*100}, the democrat tweets are {dem/len(loaded)*100}, and the republican tweets are {rep/len(loaded)*100}.\"\n",
    ")"
   ]
  },
  {
   "cell_type": "markdown",
   "metadata": {},
   "source": [
    "# Mapping: Sentiments, Baselines, and Differences"
   ]
  },
  {
   "cell_type": "markdown",
   "metadata": {},
   "source": [
    "The code below visualizes tweet sentiment by US state using a choropleth map with Plotly.\n",
    "\n",
    "- `state_abbreviations`: A dictionary mapping US state names to their abbreviations.\n",
    "- `file_path`: The path to the pickle file containing filtered tweets.\n",
    "- `filtered_tweets`: The DataFrame loaded from the pickle file containing tweet data.\n",
    "- `tweet_counts_per_state`: A DataFrame containing the count of tweets per state and their state codes.\n",
    "- `sentiment_counts`: A DataFrame containing the count of tweets per state grouped by sentiment (likely_party).\n",
    "- `total_democratic_tweets` and `total_republican_tweets`: The total number of democratic and republican tweets, respectively.\n",
    "- `tweet_ratio`: The ratio of total democratic tweets to total republican tweets.\n",
    "- `min_dem_prop`, `max_dem_prop`, and `mid_point`: Variables used to define the range and midpoint for the color scale in the choropleth map.\n",
    "- `fig`: The Plotly figure object representing the choropleth map.\n",
    "\n",
    "The code calculates tweet counts and sentiment proportions per state, adjusts proportions based on the ratio of total tweets, normalizes the proportions, and then creates a choropleth map to visualize the democratic proportion of tweets by state. The map uses a diverging color scale and includes hover data for tweet counts and sentiment proportions.\n"
   ]
  },
  {
   "cell_type": "code",
   "execution_count": null,
   "metadata": {},
   "outputs": [
    {
     "name": "stdout",
     "output_type": "stream",
     "text": [
      "35.06108672263974 63.32466522759557 49.19287597511766\n"
     ]
    },
    {
     "data": {
      "application/vnd.plotly.v1+json": {
       "config": {
        "plotlyServerURL": "https://plot.ly"
       },
       "data": [
        {
         "coloraxis": "coloraxis",
         "customdata": [
          [
           32335,
           52.56706715019024,
           47.43293284980975
          ],
          [
           24283,
           52.18719268114713,
           47.812807318852876
          ],
          [
           17262,
           48.33752254855956,
           51.66247745144044
          ],
          [
           16621,
           45.86464023203977,
           54.135359767960246
          ],
          [
           9416,
           49.54275704691497,
           50.457242953085036
          ],
          [
           7387,
           49.94498148897183,
           50.05501851102817
          ],
          [
           7082,
           51.74216445830246,
           48.257835541697524
          ],
          [
           5147,
           46.12073889306021,
           53.87926110693979
          ],
          [
           4877,
           54.67542531107142,
           45.324574688928585
          ],
          [
           4237,
           48.306049436124674,
           51.69395056387533
          ],
          [
           3811,
           48.18445337175207,
           51.81554662824792
          ],
          [
           3771,
           48.952219235319596,
           51.047780764680404
          ],
          [
           3553,
           49.51930422176164,
           50.48069577823836
          ],
          [
           3531,
           50.79620629489581,
           49.20379370510419
          ],
          [
           3357,
           47.40074154209727,
           52.59925845790273
          ],
          [
           2985,
           53.4999416210157,
           46.5000583789843
          ],
          [
           2903,
           49.38227072735247,
           50.617729272647516
          ],
          [
           2780,
           49.783875196470355,
           50.21612480352964
          ],
          [
           2645,
           43.129909564723164,
           56.87009043527684
          ],
          [
           2644,
           53.447885605300904,
           46.5521143946991
          ],
          [
           2534,
           49.29423369801684,
           50.70576630198316
          ],
          [
           2385,
           49.66477307852216,
           50.33522692147786
          ],
          [
           2052,
           48.00756363919024,
           51.992436360809755
          ],
          [
           1869,
           53.9903671051579,
           46.00963289484211
          ],
          [
           1579,
           48.031960255498646,
           51.96803974450135
          ],
          [
           1515,
           44.482815521169215,
           55.51718447883077
          ],
          [
           1238,
           46.287654921870754,
           53.71234507812924
          ],
          [
           1236,
           44.66466565611327,
           55.335334343886736
          ],
          [
           1114,
           49.30697372845806,
           50.69302627154194
          ],
          [
           1076,
           47.40009969996347,
           52.59990030003653
          ],
          [
           991,
           47.74711890974608,
           52.252881090253936
          ],
          [
           910,
           41.823146194946396,
           58.1768538050536
          ],
          [
           880,
           51.562592274742826,
           48.43740772525717
          ],
          [
           870,
           57.279076463330924,
           42.72092353666908
          ],
          [
           843,
           49.857895421436005,
           50.142104578563995
          ],
          [
           776,
           49.84802383840148,
           50.15197616159851
          ],
          [
           632,
           50.28270132915894,
           49.71729867084105
          ],
          [
           601,
           63.32466522759557,
           36.675334772404426
          ],
          [
           530,
           51.84603930924799,
           48.153960690752
          ],
          [
           508,
           53.54375387281662,
           46.45624612718336
          ],
          [
           483,
           35.06108672263974,
           64.93891327736026
          ],
          [
           478,
           50.95993537856363,
           49.04006462143637
          ],
          [
           432,
           50.06710124029738,
           49.93289875970262
          ],
          [
           406,
           47.40111554658662,
           52.59888445341338
          ],
          [
           369,
           48.257222403257586,
           51.742777596742414
          ],
          [
           342,
           54.694467293528795,
           45.3055327064712
          ],
          [
           300,
           49.69396384695329,
           50.30603615304672
          ],
          [
           290,
           47.59780623764959,
           52.402193762350414
          ],
          [
           263,
           44.89397857746199,
           55.10602142253801
          ],
          [
           258,
           43.4621688342368,
           56.53783116576321
          ],
          [
           89,
           51.91885771605094,
           48.081142283949056
          ]
         ],
         "geo": "geo",
         "hovertemplate": "<b>%{hovertext}</b><br><br>state_code=%{location}<br>tweet_count=%{customdata[0]}<br>Democratic Proportion=%{z:.1f}<br>republican_proportion=%{customdata[2]:.1f}<extra></extra>",
         "hovertext": [
          "California",
          "New York",
          "Texas",
          "Florida",
          "District of Columbia",
          "Illinois",
          "Pennsylvania",
          "New Jersey",
          "Massachusetts",
          "Ohio",
          "Colorado",
          "North Carolina",
          "Arizona",
          "Michigan",
          "Georgia",
          "Washington",
          "Oregon",
          "Virginia",
          "Tennessee",
          "Maryland",
          "Nevada",
          "Missouri",
          "Minnesota",
          "Wisconsin",
          "Indiana",
          "Kentucky",
          "South Carolina",
          "Louisiana",
          "Connecticut",
          "Kansas",
          "Alabama",
          "Utah",
          "Iowa",
          "Vermont",
          "Oklahoma",
          "Hawaii",
          "Idaho",
          "Arkansas",
          "New Mexico",
          "North Dakota",
          "Alaska",
          "Nebraska",
          "Maine",
          "New Hampshire",
          "West Virginia",
          "Delaware",
          "Rhode Island",
          "Montana",
          "Wyoming",
          "Mississippi",
          "South Dakota"
         ],
         "locationmode": "USA-states",
         "locations": [
          "CA",
          "NY",
          "TX",
          "FL",
          "DC",
          "IL",
          "PA",
          "NJ",
          "MA",
          "OH",
          "CO",
          "NC",
          "AZ",
          "MI",
          "GA",
          "WA",
          "OR",
          "VA",
          "TN",
          "MD",
          "NV",
          "MO",
          "MN",
          "WI",
          "IN",
          "KY",
          "SC",
          "LA",
          "CT",
          "KS",
          "AL",
          "UT",
          "IA",
          "VT",
          "OK",
          "HI",
          "ID",
          "AR",
          "NM",
          "ND",
          "AK",
          "NE",
          "ME",
          "NH",
          "WV",
          "DE",
          "RI",
          "MT",
          "WY",
          "MS",
          "SD"
         ],
         "name": "",
         "type": "choropleth",
         "z": [
          52.56706715019024,
          52.18719268114713,
          48.33752254855956,
          45.86464023203977,
          49.54275704691497,
          49.94498148897183,
          51.74216445830246,
          46.12073889306021,
          54.67542531107142,
          48.306049436124674,
          48.18445337175207,
          48.952219235319596,
          49.51930422176164,
          50.79620629489581,
          47.40074154209727,
          53.4999416210157,
          49.38227072735247,
          49.783875196470355,
          43.129909564723164,
          53.447885605300904,
          49.29423369801684,
          49.66477307852216,
          48.00756363919024,
          53.9903671051579,
          48.031960255498646,
          44.482815521169215,
          46.287654921870754,
          44.66466565611327,
          49.30697372845806,
          47.40009969996347,
          47.74711890974608,
          41.823146194946396,
          51.562592274742826,
          57.279076463330924,
          49.857895421436005,
          49.84802383840148,
          50.28270132915894,
          63.32466522759557,
          51.84603930924799,
          53.54375387281662,
          35.06108672263974,
          50.95993537856363,
          50.06710124029738,
          47.40111554658662,
          48.257222403257586,
          54.694467293528795,
          49.69396384695329,
          47.59780623764959,
          44.89397857746199,
          43.4621688342368,
          51.91885771605094
         ]
        }
       ],
       "layout": {
        "coloraxis": {
         "cmax": 63.32466522759557,
         "cmid": 49.19287597511766,
         "cmin": 35.06108672263974,
         "colorbar": {
          "tickmode": "array",
          "ticktext": [
           "0%",
           "20%",
           "40%",
           "60%",
           "80%",
           "100%"
          ],
          "tickvals": [
           35.06108672263974,
           40.71380242363091,
           46.366518124622075,
           52.019233825613235,
           57.6719495266044,
           63.32466522759557
          ],
          "title": {
           "text": "Democratic Proportion"
          }
         },
         "colorscale": [
          [
           0,
           "rgb(103,0,31)"
          ],
          [
           0.2,
           "rgb(214,96,77)"
          ],
          [
           0.4,
           "rgb(253,219,199)"
          ],
          [
           0.6,
           "rgb(209,229,240)"
          ],
          [
           0.8,
           "rgb(67,147,195)"
          ],
          [
           1,
           "rgb(5,48,97)"
          ]
         ]
        },
        "geo": {
         "center": {},
         "coastlinecolor": "Black",
         "domain": {
          "x": [
           0,
           1
          ],
          "y": [
           0,
           1
          ]
         },
         "lakecolor": "white",
         "landcolor": "white",
         "projection": {
          "type": "albers usa"
         },
         "scope": "usa",
         "showcoastlines": true,
         "showland": true
        },
        "legend": {
         "tracegroupgap": 0
        },
        "margin": {
         "t": 60
        },
        "template": {
         "data": {
          "bar": [
           {
            "error_x": {
             "color": "#2a3f5f"
            },
            "error_y": {
             "color": "#2a3f5f"
            },
            "marker": {
             "line": {
              "color": "#E5ECF6",
              "width": 0.5
             },
             "pattern": {
              "fillmode": "overlay",
              "size": 10,
              "solidity": 0.2
             }
            },
            "type": "bar"
           }
          ],
          "barpolar": [
           {
            "marker": {
             "line": {
              "color": "#E5ECF6",
              "width": 0.5
             },
             "pattern": {
              "fillmode": "overlay",
              "size": 10,
              "solidity": 0.2
             }
            },
            "type": "barpolar"
           }
          ],
          "carpet": [
           {
            "aaxis": {
             "endlinecolor": "#2a3f5f",
             "gridcolor": "white",
             "linecolor": "white",
             "minorgridcolor": "white",
             "startlinecolor": "#2a3f5f"
            },
            "baxis": {
             "endlinecolor": "#2a3f5f",
             "gridcolor": "white",
             "linecolor": "white",
             "minorgridcolor": "white",
             "startlinecolor": "#2a3f5f"
            },
            "type": "carpet"
           }
          ],
          "choropleth": [
           {
            "colorbar": {
             "outlinewidth": 0,
             "ticks": ""
            },
            "type": "choropleth"
           }
          ],
          "contour": [
           {
            "colorbar": {
             "outlinewidth": 0,
             "ticks": ""
            },
            "colorscale": [
             [
              0,
              "#0d0887"
             ],
             [
              0.1111111111111111,
              "#46039f"
             ],
             [
              0.2222222222222222,
              "#7201a8"
             ],
             [
              0.3333333333333333,
              "#9c179e"
             ],
             [
              0.4444444444444444,
              "#bd3786"
             ],
             [
              0.5555555555555556,
              "#d8576b"
             ],
             [
              0.6666666666666666,
              "#ed7953"
             ],
             [
              0.7777777777777778,
              "#fb9f3a"
             ],
             [
              0.8888888888888888,
              "#fdca26"
             ],
             [
              1,
              "#f0f921"
             ]
            ],
            "type": "contour"
           }
          ],
          "contourcarpet": [
           {
            "colorbar": {
             "outlinewidth": 0,
             "ticks": ""
            },
            "type": "contourcarpet"
           }
          ],
          "heatmap": [
           {
            "colorbar": {
             "outlinewidth": 0,
             "ticks": ""
            },
            "colorscale": [
             [
              0,
              "#0d0887"
             ],
             [
              0.1111111111111111,
              "#46039f"
             ],
             [
              0.2222222222222222,
              "#7201a8"
             ],
             [
              0.3333333333333333,
              "#9c179e"
             ],
             [
              0.4444444444444444,
              "#bd3786"
             ],
             [
              0.5555555555555556,
              "#d8576b"
             ],
             [
              0.6666666666666666,
              "#ed7953"
             ],
             [
              0.7777777777777778,
              "#fb9f3a"
             ],
             [
              0.8888888888888888,
              "#fdca26"
             ],
             [
              1,
              "#f0f921"
             ]
            ],
            "type": "heatmap"
           }
          ],
          "heatmapgl": [
           {
            "colorbar": {
             "outlinewidth": 0,
             "ticks": ""
            },
            "colorscale": [
             [
              0,
              "#0d0887"
             ],
             [
              0.1111111111111111,
              "#46039f"
             ],
             [
              0.2222222222222222,
              "#7201a8"
             ],
             [
              0.3333333333333333,
              "#9c179e"
             ],
             [
              0.4444444444444444,
              "#bd3786"
             ],
             [
              0.5555555555555556,
              "#d8576b"
             ],
             [
              0.6666666666666666,
              "#ed7953"
             ],
             [
              0.7777777777777778,
              "#fb9f3a"
             ],
             [
              0.8888888888888888,
              "#fdca26"
             ],
             [
              1,
              "#f0f921"
             ]
            ],
            "type": "heatmapgl"
           }
          ],
          "histogram": [
           {
            "marker": {
             "pattern": {
              "fillmode": "overlay",
              "size": 10,
              "solidity": 0.2
             }
            },
            "type": "histogram"
           }
          ],
          "histogram2d": [
           {
            "colorbar": {
             "outlinewidth": 0,
             "ticks": ""
            },
            "colorscale": [
             [
              0,
              "#0d0887"
             ],
             [
              0.1111111111111111,
              "#46039f"
             ],
             [
              0.2222222222222222,
              "#7201a8"
             ],
             [
              0.3333333333333333,
              "#9c179e"
             ],
             [
              0.4444444444444444,
              "#bd3786"
             ],
             [
              0.5555555555555556,
              "#d8576b"
             ],
             [
              0.6666666666666666,
              "#ed7953"
             ],
             [
              0.7777777777777778,
              "#fb9f3a"
             ],
             [
              0.8888888888888888,
              "#fdca26"
             ],
             [
              1,
              "#f0f921"
             ]
            ],
            "type": "histogram2d"
           }
          ],
          "histogram2dcontour": [
           {
            "colorbar": {
             "outlinewidth": 0,
             "ticks": ""
            },
            "colorscale": [
             [
              0,
              "#0d0887"
             ],
             [
              0.1111111111111111,
              "#46039f"
             ],
             [
              0.2222222222222222,
              "#7201a8"
             ],
             [
              0.3333333333333333,
              "#9c179e"
             ],
             [
              0.4444444444444444,
              "#bd3786"
             ],
             [
              0.5555555555555556,
              "#d8576b"
             ],
             [
              0.6666666666666666,
              "#ed7953"
             ],
             [
              0.7777777777777778,
              "#fb9f3a"
             ],
             [
              0.8888888888888888,
              "#fdca26"
             ],
             [
              1,
              "#f0f921"
             ]
            ],
            "type": "histogram2dcontour"
           }
          ],
          "mesh3d": [
           {
            "colorbar": {
             "outlinewidth": 0,
             "ticks": ""
            },
            "type": "mesh3d"
           }
          ],
          "parcoords": [
           {
            "line": {
             "colorbar": {
              "outlinewidth": 0,
              "ticks": ""
             }
            },
            "type": "parcoords"
           }
          ],
          "pie": [
           {
            "automargin": true,
            "type": "pie"
           }
          ],
          "scatter": [
           {
            "fillpattern": {
             "fillmode": "overlay",
             "size": 10,
             "solidity": 0.2
            },
            "type": "scatter"
           }
          ],
          "scatter3d": [
           {
            "line": {
             "colorbar": {
              "outlinewidth": 0,
              "ticks": ""
             }
            },
            "marker": {
             "colorbar": {
              "outlinewidth": 0,
              "ticks": ""
             }
            },
            "type": "scatter3d"
           }
          ],
          "scattercarpet": [
           {
            "marker": {
             "colorbar": {
              "outlinewidth": 0,
              "ticks": ""
             }
            },
            "type": "scattercarpet"
           }
          ],
          "scattergeo": [
           {
            "marker": {
             "colorbar": {
              "outlinewidth": 0,
              "ticks": ""
             }
            },
            "type": "scattergeo"
           }
          ],
          "scattergl": [
           {
            "marker": {
             "colorbar": {
              "outlinewidth": 0,
              "ticks": ""
             }
            },
            "type": "scattergl"
           }
          ],
          "scattermapbox": [
           {
            "marker": {
             "colorbar": {
              "outlinewidth": 0,
              "ticks": ""
             }
            },
            "type": "scattermapbox"
           }
          ],
          "scatterpolar": [
           {
            "marker": {
             "colorbar": {
              "outlinewidth": 0,
              "ticks": ""
             }
            },
            "type": "scatterpolar"
           }
          ],
          "scatterpolargl": [
           {
            "marker": {
             "colorbar": {
              "outlinewidth": 0,
              "ticks": ""
             }
            },
            "type": "scatterpolargl"
           }
          ],
          "scatterternary": [
           {
            "marker": {
             "colorbar": {
              "outlinewidth": 0,
              "ticks": ""
             }
            },
            "type": "scatterternary"
           }
          ],
          "surface": [
           {
            "colorbar": {
             "outlinewidth": 0,
             "ticks": ""
            },
            "colorscale": [
             [
              0,
              "#0d0887"
             ],
             [
              0.1111111111111111,
              "#46039f"
             ],
             [
              0.2222222222222222,
              "#7201a8"
             ],
             [
              0.3333333333333333,
              "#9c179e"
             ],
             [
              0.4444444444444444,
              "#bd3786"
             ],
             [
              0.5555555555555556,
              "#d8576b"
             ],
             [
              0.6666666666666666,
              "#ed7953"
             ],
             [
              0.7777777777777778,
              "#fb9f3a"
             ],
             [
              0.8888888888888888,
              "#fdca26"
             ],
             [
              1,
              "#f0f921"
             ]
            ],
            "type": "surface"
           }
          ],
          "table": [
           {
            "cells": {
             "fill": {
              "color": "#EBF0F8"
             },
             "line": {
              "color": "white"
             }
            },
            "header": {
             "fill": {
              "color": "#C8D4E3"
             },
             "line": {
              "color": "white"
             }
            },
            "type": "table"
           }
          ]
         },
         "layout": {
          "annotationdefaults": {
           "arrowcolor": "#2a3f5f",
           "arrowhead": 0,
           "arrowwidth": 1
          },
          "autotypenumbers": "strict",
          "coloraxis": {
           "colorbar": {
            "outlinewidth": 0,
            "ticks": ""
           }
          },
          "colorscale": {
           "diverging": [
            [
             0,
             "#8e0152"
            ],
            [
             0.1,
             "#c51b7d"
            ],
            [
             0.2,
             "#de77ae"
            ],
            [
             0.3,
             "#f1b6da"
            ],
            [
             0.4,
             "#fde0ef"
            ],
            [
             0.5,
             "#f7f7f7"
            ],
            [
             0.6,
             "#e6f5d0"
            ],
            [
             0.7,
             "#b8e186"
            ],
            [
             0.8,
             "#7fbc41"
            ],
            [
             0.9,
             "#4d9221"
            ],
            [
             1,
             "#276419"
            ]
           ],
           "sequential": [
            [
             0,
             "#0d0887"
            ],
            [
             0.1111111111111111,
             "#46039f"
            ],
            [
             0.2222222222222222,
             "#7201a8"
            ],
            [
             0.3333333333333333,
             "#9c179e"
            ],
            [
             0.4444444444444444,
             "#bd3786"
            ],
            [
             0.5555555555555556,
             "#d8576b"
            ],
            [
             0.6666666666666666,
             "#ed7953"
            ],
            [
             0.7777777777777778,
             "#fb9f3a"
            ],
            [
             0.8888888888888888,
             "#fdca26"
            ],
            [
             1,
             "#f0f921"
            ]
           ],
           "sequentialminus": [
            [
             0,
             "#0d0887"
            ],
            [
             0.1111111111111111,
             "#46039f"
            ],
            [
             0.2222222222222222,
             "#7201a8"
            ],
            [
             0.3333333333333333,
             "#9c179e"
            ],
            [
             0.4444444444444444,
             "#bd3786"
            ],
            [
             0.5555555555555556,
             "#d8576b"
            ],
            [
             0.6666666666666666,
             "#ed7953"
            ],
            [
             0.7777777777777778,
             "#fb9f3a"
            ],
            [
             0.8888888888888888,
             "#fdca26"
            ],
            [
             1,
             "#f0f921"
            ]
           ]
          },
          "colorway": [
           "#636efa",
           "#EF553B",
           "#00cc96",
           "#ab63fa",
           "#FFA15A",
           "#19d3f3",
           "#FF6692",
           "#B6E880",
           "#FF97FF",
           "#FECB52"
          ],
          "font": {
           "color": "#2a3f5f"
          },
          "geo": {
           "bgcolor": "white",
           "lakecolor": "white",
           "landcolor": "#E5ECF6",
           "showlakes": true,
           "showland": true,
           "subunitcolor": "white"
          },
          "hoverlabel": {
           "align": "left"
          },
          "hovermode": "closest",
          "mapbox": {
           "style": "light"
          },
          "paper_bgcolor": "white",
          "plot_bgcolor": "#E5ECF6",
          "polar": {
           "angularaxis": {
            "gridcolor": "white",
            "linecolor": "white",
            "ticks": ""
           },
           "bgcolor": "#E5ECF6",
           "radialaxis": {
            "gridcolor": "white",
            "linecolor": "white",
            "ticks": ""
           }
          },
          "scene": {
           "xaxis": {
            "backgroundcolor": "#E5ECF6",
            "gridcolor": "white",
            "gridwidth": 2,
            "linecolor": "white",
            "showbackground": true,
            "ticks": "",
            "zerolinecolor": "white"
           },
           "yaxis": {
            "backgroundcolor": "#E5ECF6",
            "gridcolor": "white",
            "gridwidth": 2,
            "linecolor": "white",
            "showbackground": true,
            "ticks": "",
            "zerolinecolor": "white"
           },
           "zaxis": {
            "backgroundcolor": "#E5ECF6",
            "gridcolor": "white",
            "gridwidth": 2,
            "linecolor": "white",
            "showbackground": true,
            "ticks": "",
            "zerolinecolor": "white"
           }
          },
          "shapedefaults": {
           "line": {
            "color": "#2a3f5f"
           }
          },
          "ternary": {
           "aaxis": {
            "gridcolor": "white",
            "linecolor": "white",
            "ticks": ""
           },
           "baxis": {
            "gridcolor": "white",
            "linecolor": "white",
            "ticks": ""
           },
           "bgcolor": "#E5ECF6",
           "caxis": {
            "gridcolor": "white",
            "linecolor": "white",
            "ticks": ""
           }
          },
          "title": {
           "x": 0.05
          },
          "xaxis": {
           "automargin": true,
           "gridcolor": "white",
           "linecolor": "white",
           "ticks": "",
           "title": {
            "standoff": 15
           },
           "zerolinecolor": "white",
           "zerolinewidth": 2
          },
          "yaxis": {
           "automargin": true,
           "gridcolor": "white",
           "linecolor": "white",
           "ticks": "",
           "title": {
            "standoff": 15
           },
           "zerolinecolor": "white",
           "zerolinewidth": 2
          }
         }
        },
        "title": {
         "text": "Tweet Sentiment by State",
         "x": 0.5
        }
       }
      }
     },
     "metadata": {},
     "output_type": "display_data"
    }
   ],
   "source": [
    "# Define a mapping for US states to Plotly's choropleth map\n",
    "state_abbreviations = {\n",
    "    \"Alabama\": \"AL\",\n",
    "    \"Alaska\": \"AK\",\n",
    "    \"Arizona\": \"AZ\",\n",
    "    \"Arkansas\": \"AR\",\n",
    "    \"California\": \"CA\",\n",
    "    \"Colorado\": \"CO\",\n",
    "    \"Connecticut\": \"CT\",\n",
    "    \"Delaware\": \"DE\",\n",
    "    \"Florida\": \"FL\",\n",
    "    \"Georgia\": \"GA\",\n",
    "    \"Hawaii\": \"HI\",\n",
    "    \"Idaho\": \"ID\",\n",
    "    \"Illinois\": \"IL\",\n",
    "    \"Indiana\": \"IN\",\n",
    "    \"Iowa\": \"IA\",\n",
    "    \"Kansas\": \"KS\",\n",
    "    \"Kentucky\": \"KY\",\n",
    "    \"Louisiana\": \"LA\",\n",
    "    \"Maine\": \"ME\",\n",
    "    \"Maryland\": \"MD\",\n",
    "    \"Massachusetts\": \"MA\",\n",
    "    \"Michigan\": \"MI\",\n",
    "    \"Minnesota\": \"MN\",\n",
    "    \"Mississippi\": \"MS\",\n",
    "    \"Missouri\": \"MO\",\n",
    "    \"Montana\": \"MT\",\n",
    "    \"Nebraska\": \"NE\",\n",
    "    \"Nevada\": \"NV\",\n",
    "    \"New Hampshire\": \"NH\",\n",
    "    \"New Jersey\": \"NJ\",\n",
    "    \"New Mexico\": \"NM\",\n",
    "    \"New York\": \"NY\",\n",
    "    \"North Carolina\": \"NC\",\n",
    "    \"North Dakota\": \"ND\",\n",
    "    \"Ohio\": \"OH\",\n",
    "    \"Oklahoma\": \"OK\",\n",
    "    \"Oregon\": \"OR\",\n",
    "    \"Pennsylvania\": \"PA\",\n",
    "    \"Rhode Island\": \"RI\",\n",
    "    \"South Carolina\": \"SC\",\n",
    "    \"South Dakota\": \"SD\",\n",
    "    \"Tennessee\": \"TN\",\n",
    "    \"Texas\": \"TX\",\n",
    "    \"Utah\": \"UT\",\n",
    "    \"Vermont\": \"VT\",\n",
    "    \"Virginia\": \"VA\",\n",
    "    \"Washington\": \"WA\",\n",
    "    \"West Virginia\": \"WV\",\n",
    "    \"Wisconsin\": \"WI\",\n",
    "    \"Wyoming\": \"WY\",\n",
    "    \"District of Columbia\": \"DC\",\n",
    "}\n",
    "\n",
    "\"\"\"\n",
    "cwd = os.getcwd()\n",
    "# Load the filtered tweets from a pickle file\n",
    "file_path = os.path.join(cwd, 'filtered_tweets_nlp.pkl')\n",
    "with open(file_path, 'rb') as file:\n",
    "    filtered_tweets = pickle.load(file)\n",
    "    \n",
    "\"\"\"\n",
    "\n",
    "# Calculate tweet counts and sentiment proportions per state\n",
    "tweet_counts_per_state = filtered_tweets[\"state\"].value_counts().reset_index()\n",
    "tweet_counts_per_state.columns = [\"state\", \"tweet_count\"]\n",
    "tweet_counts_per_state[\"state_code\"] = tweet_counts_per_state[\"state\"].map(\n",
    "    state_abbreviations\n",
    ")\n",
    "\n",
    "sentiment_counts_no_bias = (\n",
    "    filtered_tweets.groupby([\"state\", \"likely_party\"]).size().unstack(fill_value=0)\n",
    ")\n",
    "sentiment_counts_no_bias[\"total\"] = sentiment_counts_no_bias.sum(axis=1)\n",
    "\n",
    "# Calculate initial proportions\n",
    "sentiment_counts_no_bias[\"democratic_proportion\"] = sentiment_counts_no_bias.get(1, 0) / (\n",
    "    sentiment_counts_no_bias[1] + sentiment_counts_no_bias[2]\n",
    ")\n",
    "sentiment_counts_no_bias[\"republican_proportion\"] = sentiment_counts_no_bias.get(2, 0) / (\n",
    "    sentiment_counts_no_bias[1] + sentiment_counts_no_bias[2]\n",
    ")\n",
    "\n",
    "sentiment_counts = sentiment_counts_no_bias.copy()\n",
    "\n",
    "\n",
    "total_democratic_tweets = sentiment_counts[1].sum()\n",
    "total_republican_tweets = sentiment_counts[2].sum()\n",
    "\n",
    "# Adjust republican proportions by the ratio of total tweets\n",
    "tweet_ratio = total_democratic_tweets / total_republican_tweets\n",
    "sentiment_counts[\"republican_proportion\"] = (\n",
    "    sentiment_counts[\"republican_proportion\"] * tweet_ratio\n",
    ")\n",
    "\n",
    "# Normalize to ensure proportions sum to 1\n",
    "total_proportion = (\n",
    "    sentiment_counts[\"democratic_proportion\"]\n",
    "    + sentiment_counts[\"republican_proportion\"]\n",
    ")\n",
    "sentiment_counts[\"democratic_proportion\"] = (\n",
    "    sentiment_counts[\"democratic_proportion\"] / total_proportion\n",
    ")\n",
    "sentiment_counts[\"republican_proportion\"] = (\n",
    "    sentiment_counts[\"republican_proportion\"] / total_proportion\n",
    ")\n",
    "\n",
    "sentiment_counts[\"democratic_proportion\"] = (\n",
    "    sentiment_counts[\"democratic_proportion\"] * 100\n",
    ")\n",
    "sentiment_counts[\"republican_proportion\"] = (\n",
    "    sentiment_counts[\"republican_proportion\"] * 100\n",
    ")\n",
    "# Merge sentiment proportions with tweet counts\n",
    "tweet_counts_per_state = tweet_counts_per_state.merge(\n",
    "    sentiment_counts, left_on=\"state\", right_index=True\n",
    ")\n",
    "\n",
    "\n",
    "min_dem_prop = tweet_counts_per_state[\"democratic_proportion\"].min()\n",
    "max_dem_prop = tweet_counts_per_state[\"democratic_proportion\"].max()\n",
    "mid_point = (min_dem_prop + max_dem_prop) / 2\n",
    "# Create the choropleth map with discrete color steps\n",
    "fig = px.choropleth(\n",
    "    tweet_counts_per_state,\n",
    "    locations=\"state_code\",\n",
    "    locationmode=\"USA-states\",\n",
    "    color=\"democratic_proportion\",\n",
    "    hover_name=\"state\",\n",
    "    hover_data={\n",
    "        \"tweet_count\": True,\n",
    "        \"democratic_proportion\": \":.1f\",\n",
    "        \"republican_proportion\": \":.1f\",\n",
    "    },\n",
    "    color_continuous_scale=px.colors.diverging.RdBu[::2],\n",
    "    labels={\"democratic_proportion\": \"Democratic Proportion\"},\n",
    "    # Define discrete color steps based on proportion\n",
    "    range_color=[min_dem_prop, max_dem_prop],\n",
    "    color_continuous_midpoint=mid_point,\n",
    ")\n",
    "\n",
    "# Update layout with discrete color steps\n",
    "fig.update_layout(\n",
    "    title_text=\"Tweet Sentiment by State\",\n",
    "    title_x=0.5,\n",
    "    geo=dict(\n",
    "        scope=\"usa\",\n",
    "        projection_type=\"albers usa\",\n",
    "        showcoastlines=True,\n",
    "        coastlinecolor=\"Black\",\n",
    "        showland=True,\n",
    "        landcolor=\"white\",\n",
    "        lakecolor=\"white\",\n",
    "    ),\n",
    "    coloraxis_colorbar=dict(\n",
    "        tickmode=\"array\",\n",
    "        tickvals=[\n",
    "            min_dem_prop + i * (max_dem_prop - min_dem_prop) / 5 for i in range(6)\n",
    "        ],\n",
    "        ticktext=[f\"{i*20}%\" for i in range(6)],\n",
    "        title=\"Democratic Proportion\",\n",
    "    ),\n",
    ")\n",
    "\n",
    "fig.show()"
   ]
  },
  {
   "cell_type": "markdown",
   "metadata": {},
   "source": [
    "The initial choropleth map displayed a red-blue gradient to help determine the political leaning of Twitter users, whether liberal or conservative.\n",
    "\n",
    "For comparison, we used the `CNN 2020 Size of Lead` map, which visualizes state victory margins with a red-blue gradient, as shown below:\n",
    "\n",
    "![CNN 2020 Size of Lead](data/cnnmap.jpg)\n",
    "\n",
    "The following choropleth map uses tweet sentiments to replicate this concept and make it easier to visually compare results.\n"
   ]
  },
  {
   "cell_type": "markdown",
   "metadata": {},
   "source": [
    "In this section, we calculate the lead size for each state and visualize it using a custom color scale on a choropleth map.\n",
    "\n",
    "- `lead_size`: This variable calculates the difference between the democratic and republican proportions for each state.\n",
    "- `color_scale`: This custom color scale is used to represent different ranges of lead sizes, from deep red (Trump >10%) to deep blue (Biden >10%).\n",
    "\n",
    "The code below creates a choropleth map to visualize the tweet sentiment lead by state:\n"
   ]
  },
  {
   "cell_type": "code",
   "execution_count": 6,
   "metadata": {},
   "outputs": [
    {
     "data": {
      "application/vnd.plotly.v1+json": {
       "config": {
        "plotlyServerURL": "https://plot.ly"
       },
       "data": [
        {
         "coloraxis": "coloraxis",
         "geo": "geo",
         "hovertemplate": "<b>%{hovertext}</b><br><br>state_code=%{location}<br>lead_size=%{z}<extra></extra>",
         "hovertext": [
          "California",
          "New York",
          "Texas",
          "Florida",
          "District of Columbia",
          "Illinois",
          "Pennsylvania",
          "New Jersey",
          "Massachusetts",
          "Ohio",
          "Colorado",
          "North Carolina",
          "Arizona",
          "Michigan",
          "Georgia",
          "Washington",
          "Oregon",
          "Virginia",
          "Tennessee",
          "Maryland",
          "Nevada",
          "Missouri",
          "Minnesota",
          "Wisconsin",
          "Indiana",
          "Kentucky",
          "South Carolina",
          "Louisiana",
          "Connecticut",
          "Kansas",
          "Alabama",
          "Utah",
          "Iowa",
          "Vermont",
          "Oklahoma",
          "Hawaii",
          "Idaho",
          "Arkansas",
          "New Mexico",
          "North Dakota",
          "Alaska",
          "Nebraska",
          "Maine",
          "New Hampshire",
          "West Virginia",
          "Delaware",
          "Rhode Island",
          "Montana",
          "Wyoming",
          "Mississippi",
          "South Dakota"
         ],
         "locationmode": "USA-states",
         "locations": [
          "CA",
          "NY",
          "TX",
          "FL",
          "DC",
          "IL",
          "PA",
          "NJ",
          "MA",
          "OH",
          "CO",
          "NC",
          "AZ",
          "MI",
          "GA",
          "WA",
          "OR",
          "VA",
          "TN",
          "MD",
          "NV",
          "MO",
          "MN",
          "WI",
          "IN",
          "KY",
          "SC",
          "LA",
          "CT",
          "KS",
          "AL",
          "UT",
          "IA",
          "VT",
          "OK",
          "HI",
          "ID",
          "AR",
          "NM",
          "ND",
          "AK",
          "NE",
          "ME",
          "NH",
          "WV",
          "DE",
          "RI",
          "MT",
          "WY",
          "MS",
          "SD"
         ],
         "name": "",
         "type": "choropleth",
         "z": [
          2.5670671501902405,
          2.187192681147131,
          -1.662477451440438,
          -4.135359767960232,
          -0.4572429530850286,
          -0.05501851102817312,
          1.7421644583024616,
          -3.8792611069397935,
          4.675425311071422,
          -1.693950563875326,
          -1.8155466282479296,
          -1.0477807646804038,
          -0.4806957782383634,
          0.7962062948958106,
          -2.599258457902728,
          3.499941621015701,
          -0.6177292726475301,
          -0.21612480352964525,
          -6.870090435276836,
          3.447885605300904,
          -0.7057663019831608,
          -0.3352269214778403,
          -1.9924363608097622,
          3.990367105157901,
          -1.968039744501354,
          -5.517184478830785,
          -3.712345078129246,
          -5.3353343438867284,
          -0.6930262715419389,
          -2.5999003000365306,
          -2.252881090253922,
          -8.176853805053604,
          1.5625922747428262,
          7.279076463330924,
          -0.14210457856399472,
          -0.1519761615985189,
          0.28270132915893953,
          13.324665227595567,
          1.8460393092479919,
          3.543753872816623,
          -14.938913277360257,
          0.9599353785636282,
          0.06710124029738296,
          -2.5988844534133833,
          -1.742777596742414,
          4.694467293528795,
          -0.30603615304671195,
          -2.4021937623504073,
          -5.1060214225380065,
          -6.537831165763201,
          1.9188577160509368
         ]
        }
       ],
       "layout": {
        "coloraxis": {
         "cmax": 15,
         "cmin": -15,
         "colorbar": {
          "tickmode": "array",
          "ticktext": [
           "Trump >10%",
           "Trump 5-10%",
           "Trump 0-5%",
           "Tie",
           "Biden 0-5%",
           "Biden 5-10%",
           "Biden >10%"
          ],
          "tickvals": [
           -12,
           -7.5,
           -2.5,
           0,
           2.5,
           7.5,
           12
          ],
          "title": {
           "text": "Lead Size"
          }
         },
         "colorscale": [
          [
           0,
           "rgb(165,0,38)"
          ],
          [
           0.2,
           "rgb(215,48,39)"
          ],
          [
           0.4,
           "rgb(244,109,67)"
          ],
          [
           0.5,
           "rgb(255,255,255)"
          ],
          [
           0.6,
           "rgb(116,169,207)"
          ],
          [
           0.8,
           "rgb(54,144,192)"
          ],
          [
           1,
           "rgb(5,112,176)"
          ]
         ]
        },
        "geo": {
         "center": {},
         "domain": {
          "x": [
           0,
           1
          ],
          "y": [
           0,
           1
          ]
         },
         "scope": "usa"
        },
        "legend": {
         "tracegroupgap": 0
        },
        "margin": {
         "t": 60
        },
        "template": {
         "data": {
          "bar": [
           {
            "error_x": {
             "color": "#2a3f5f"
            },
            "error_y": {
             "color": "#2a3f5f"
            },
            "marker": {
             "line": {
              "color": "#E5ECF6",
              "width": 0.5
             },
             "pattern": {
              "fillmode": "overlay",
              "size": 10,
              "solidity": 0.2
             }
            },
            "type": "bar"
           }
          ],
          "barpolar": [
           {
            "marker": {
             "line": {
              "color": "#E5ECF6",
              "width": 0.5
             },
             "pattern": {
              "fillmode": "overlay",
              "size": 10,
              "solidity": 0.2
             }
            },
            "type": "barpolar"
           }
          ],
          "carpet": [
           {
            "aaxis": {
             "endlinecolor": "#2a3f5f",
             "gridcolor": "white",
             "linecolor": "white",
             "minorgridcolor": "white",
             "startlinecolor": "#2a3f5f"
            },
            "baxis": {
             "endlinecolor": "#2a3f5f",
             "gridcolor": "white",
             "linecolor": "white",
             "minorgridcolor": "white",
             "startlinecolor": "#2a3f5f"
            },
            "type": "carpet"
           }
          ],
          "choropleth": [
           {
            "colorbar": {
             "outlinewidth": 0,
             "ticks": ""
            },
            "type": "choropleth"
           }
          ],
          "contour": [
           {
            "colorbar": {
             "outlinewidth": 0,
             "ticks": ""
            },
            "colorscale": [
             [
              0,
              "#0d0887"
             ],
             [
              0.1111111111111111,
              "#46039f"
             ],
             [
              0.2222222222222222,
              "#7201a8"
             ],
             [
              0.3333333333333333,
              "#9c179e"
             ],
             [
              0.4444444444444444,
              "#bd3786"
             ],
             [
              0.5555555555555556,
              "#d8576b"
             ],
             [
              0.6666666666666666,
              "#ed7953"
             ],
             [
              0.7777777777777778,
              "#fb9f3a"
             ],
             [
              0.8888888888888888,
              "#fdca26"
             ],
             [
              1,
              "#f0f921"
             ]
            ],
            "type": "contour"
           }
          ],
          "contourcarpet": [
           {
            "colorbar": {
             "outlinewidth": 0,
             "ticks": ""
            },
            "type": "contourcarpet"
           }
          ],
          "heatmap": [
           {
            "colorbar": {
             "outlinewidth": 0,
             "ticks": ""
            },
            "colorscale": [
             [
              0,
              "#0d0887"
             ],
             [
              0.1111111111111111,
              "#46039f"
             ],
             [
              0.2222222222222222,
              "#7201a8"
             ],
             [
              0.3333333333333333,
              "#9c179e"
             ],
             [
              0.4444444444444444,
              "#bd3786"
             ],
             [
              0.5555555555555556,
              "#d8576b"
             ],
             [
              0.6666666666666666,
              "#ed7953"
             ],
             [
              0.7777777777777778,
              "#fb9f3a"
             ],
             [
              0.8888888888888888,
              "#fdca26"
             ],
             [
              1,
              "#f0f921"
             ]
            ],
            "type": "heatmap"
           }
          ],
          "heatmapgl": [
           {
            "colorbar": {
             "outlinewidth": 0,
             "ticks": ""
            },
            "colorscale": [
             [
              0,
              "#0d0887"
             ],
             [
              0.1111111111111111,
              "#46039f"
             ],
             [
              0.2222222222222222,
              "#7201a8"
             ],
             [
              0.3333333333333333,
              "#9c179e"
             ],
             [
              0.4444444444444444,
              "#bd3786"
             ],
             [
              0.5555555555555556,
              "#d8576b"
             ],
             [
              0.6666666666666666,
              "#ed7953"
             ],
             [
              0.7777777777777778,
              "#fb9f3a"
             ],
             [
              0.8888888888888888,
              "#fdca26"
             ],
             [
              1,
              "#f0f921"
             ]
            ],
            "type": "heatmapgl"
           }
          ],
          "histogram": [
           {
            "marker": {
             "pattern": {
              "fillmode": "overlay",
              "size": 10,
              "solidity": 0.2
             }
            },
            "type": "histogram"
           }
          ],
          "histogram2d": [
           {
            "colorbar": {
             "outlinewidth": 0,
             "ticks": ""
            },
            "colorscale": [
             [
              0,
              "#0d0887"
             ],
             [
              0.1111111111111111,
              "#46039f"
             ],
             [
              0.2222222222222222,
              "#7201a8"
             ],
             [
              0.3333333333333333,
              "#9c179e"
             ],
             [
              0.4444444444444444,
              "#bd3786"
             ],
             [
              0.5555555555555556,
              "#d8576b"
             ],
             [
              0.6666666666666666,
              "#ed7953"
             ],
             [
              0.7777777777777778,
              "#fb9f3a"
             ],
             [
              0.8888888888888888,
              "#fdca26"
             ],
             [
              1,
              "#f0f921"
             ]
            ],
            "type": "histogram2d"
           }
          ],
          "histogram2dcontour": [
           {
            "colorbar": {
             "outlinewidth": 0,
             "ticks": ""
            },
            "colorscale": [
             [
              0,
              "#0d0887"
             ],
             [
              0.1111111111111111,
              "#46039f"
             ],
             [
              0.2222222222222222,
              "#7201a8"
             ],
             [
              0.3333333333333333,
              "#9c179e"
             ],
             [
              0.4444444444444444,
              "#bd3786"
             ],
             [
              0.5555555555555556,
              "#d8576b"
             ],
             [
              0.6666666666666666,
              "#ed7953"
             ],
             [
              0.7777777777777778,
              "#fb9f3a"
             ],
             [
              0.8888888888888888,
              "#fdca26"
             ],
             [
              1,
              "#f0f921"
             ]
            ],
            "type": "histogram2dcontour"
           }
          ],
          "mesh3d": [
           {
            "colorbar": {
             "outlinewidth": 0,
             "ticks": ""
            },
            "type": "mesh3d"
           }
          ],
          "parcoords": [
           {
            "line": {
             "colorbar": {
              "outlinewidth": 0,
              "ticks": ""
             }
            },
            "type": "parcoords"
           }
          ],
          "pie": [
           {
            "automargin": true,
            "type": "pie"
           }
          ],
          "scatter": [
           {
            "fillpattern": {
             "fillmode": "overlay",
             "size": 10,
             "solidity": 0.2
            },
            "type": "scatter"
           }
          ],
          "scatter3d": [
           {
            "line": {
             "colorbar": {
              "outlinewidth": 0,
              "ticks": ""
             }
            },
            "marker": {
             "colorbar": {
              "outlinewidth": 0,
              "ticks": ""
             }
            },
            "type": "scatter3d"
           }
          ],
          "scattercarpet": [
           {
            "marker": {
             "colorbar": {
              "outlinewidth": 0,
              "ticks": ""
             }
            },
            "type": "scattercarpet"
           }
          ],
          "scattergeo": [
           {
            "marker": {
             "colorbar": {
              "outlinewidth": 0,
              "ticks": ""
             }
            },
            "type": "scattergeo"
           }
          ],
          "scattergl": [
           {
            "marker": {
             "colorbar": {
              "outlinewidth": 0,
              "ticks": ""
             }
            },
            "type": "scattergl"
           }
          ],
          "scattermapbox": [
           {
            "marker": {
             "colorbar": {
              "outlinewidth": 0,
              "ticks": ""
             }
            },
            "type": "scattermapbox"
           }
          ],
          "scatterpolar": [
           {
            "marker": {
             "colorbar": {
              "outlinewidth": 0,
              "ticks": ""
             }
            },
            "type": "scatterpolar"
           }
          ],
          "scatterpolargl": [
           {
            "marker": {
             "colorbar": {
              "outlinewidth": 0,
              "ticks": ""
             }
            },
            "type": "scatterpolargl"
           }
          ],
          "scatterternary": [
           {
            "marker": {
             "colorbar": {
              "outlinewidth": 0,
              "ticks": ""
             }
            },
            "type": "scatterternary"
           }
          ],
          "surface": [
           {
            "colorbar": {
             "outlinewidth": 0,
             "ticks": ""
            },
            "colorscale": [
             [
              0,
              "#0d0887"
             ],
             [
              0.1111111111111111,
              "#46039f"
             ],
             [
              0.2222222222222222,
              "#7201a8"
             ],
             [
              0.3333333333333333,
              "#9c179e"
             ],
             [
              0.4444444444444444,
              "#bd3786"
             ],
             [
              0.5555555555555556,
              "#d8576b"
             ],
             [
              0.6666666666666666,
              "#ed7953"
             ],
             [
              0.7777777777777778,
              "#fb9f3a"
             ],
             [
              0.8888888888888888,
              "#fdca26"
             ],
             [
              1,
              "#f0f921"
             ]
            ],
            "type": "surface"
           }
          ],
          "table": [
           {
            "cells": {
             "fill": {
              "color": "#EBF0F8"
             },
             "line": {
              "color": "white"
             }
            },
            "header": {
             "fill": {
              "color": "#C8D4E3"
             },
             "line": {
              "color": "white"
             }
            },
            "type": "table"
           }
          ]
         },
         "layout": {
          "annotationdefaults": {
           "arrowcolor": "#2a3f5f",
           "arrowhead": 0,
           "arrowwidth": 1
          },
          "autotypenumbers": "strict",
          "coloraxis": {
           "colorbar": {
            "outlinewidth": 0,
            "ticks": ""
           }
          },
          "colorscale": {
           "diverging": [
            [
             0,
             "#8e0152"
            ],
            [
             0.1,
             "#c51b7d"
            ],
            [
             0.2,
             "#de77ae"
            ],
            [
             0.3,
             "#f1b6da"
            ],
            [
             0.4,
             "#fde0ef"
            ],
            [
             0.5,
             "#f7f7f7"
            ],
            [
             0.6,
             "#e6f5d0"
            ],
            [
             0.7,
             "#b8e186"
            ],
            [
             0.8,
             "#7fbc41"
            ],
            [
             0.9,
             "#4d9221"
            ],
            [
             1,
             "#276419"
            ]
           ],
           "sequential": [
            [
             0,
             "#0d0887"
            ],
            [
             0.1111111111111111,
             "#46039f"
            ],
            [
             0.2222222222222222,
             "#7201a8"
            ],
            [
             0.3333333333333333,
             "#9c179e"
            ],
            [
             0.4444444444444444,
             "#bd3786"
            ],
            [
             0.5555555555555556,
             "#d8576b"
            ],
            [
             0.6666666666666666,
             "#ed7953"
            ],
            [
             0.7777777777777778,
             "#fb9f3a"
            ],
            [
             0.8888888888888888,
             "#fdca26"
            ],
            [
             1,
             "#f0f921"
            ]
           ],
           "sequentialminus": [
            [
             0,
             "#0d0887"
            ],
            [
             0.1111111111111111,
             "#46039f"
            ],
            [
             0.2222222222222222,
             "#7201a8"
            ],
            [
             0.3333333333333333,
             "#9c179e"
            ],
            [
             0.4444444444444444,
             "#bd3786"
            ],
            [
             0.5555555555555556,
             "#d8576b"
            ],
            [
             0.6666666666666666,
             "#ed7953"
            ],
            [
             0.7777777777777778,
             "#fb9f3a"
            ],
            [
             0.8888888888888888,
             "#fdca26"
            ],
            [
             1,
             "#f0f921"
            ]
           ]
          },
          "colorway": [
           "#636efa",
           "#EF553B",
           "#00cc96",
           "#ab63fa",
           "#FFA15A",
           "#19d3f3",
           "#FF6692",
           "#B6E880",
           "#FF97FF",
           "#FECB52"
          ],
          "font": {
           "color": "#2a3f5f"
          },
          "geo": {
           "bgcolor": "white",
           "lakecolor": "white",
           "landcolor": "#E5ECF6",
           "showlakes": true,
           "showland": true,
           "subunitcolor": "white"
          },
          "hoverlabel": {
           "align": "left"
          },
          "hovermode": "closest",
          "mapbox": {
           "style": "light"
          },
          "paper_bgcolor": "white",
          "plot_bgcolor": "#E5ECF6",
          "polar": {
           "angularaxis": {
            "gridcolor": "white",
            "linecolor": "white",
            "ticks": ""
           },
           "bgcolor": "#E5ECF6",
           "radialaxis": {
            "gridcolor": "white",
            "linecolor": "white",
            "ticks": ""
           }
          },
          "scene": {
           "xaxis": {
            "backgroundcolor": "#E5ECF6",
            "gridcolor": "white",
            "gridwidth": 2,
            "linecolor": "white",
            "showbackground": true,
            "ticks": "",
            "zerolinecolor": "white"
           },
           "yaxis": {
            "backgroundcolor": "#E5ECF6",
            "gridcolor": "white",
            "gridwidth": 2,
            "linecolor": "white",
            "showbackground": true,
            "ticks": "",
            "zerolinecolor": "white"
           },
           "zaxis": {
            "backgroundcolor": "#E5ECF6",
            "gridcolor": "white",
            "gridwidth": 2,
            "linecolor": "white",
            "showbackground": true,
            "ticks": "",
            "zerolinecolor": "white"
           }
          },
          "shapedefaults": {
           "line": {
            "color": "#2a3f5f"
           }
          },
          "ternary": {
           "aaxis": {
            "gridcolor": "white",
            "linecolor": "white",
            "ticks": ""
           },
           "baxis": {
            "gridcolor": "white",
            "linecolor": "white",
            "ticks": ""
           },
           "bgcolor": "#E5ECF6",
           "caxis": {
            "gridcolor": "white",
            "linecolor": "white",
            "ticks": ""
           }
          },
          "title": {
           "x": 0.05
          },
          "xaxis": {
           "automargin": true,
           "gridcolor": "white",
           "linecolor": "white",
           "ticks": "",
           "title": {
            "standoff": 15
           },
           "zerolinecolor": "white",
           "zerolinewidth": 2
          },
          "yaxis": {
           "automargin": true,
           "gridcolor": "white",
           "linecolor": "white",
           "ticks": "",
           "title": {
            "standoff": 15
           },
           "zerolinecolor": "white",
           "zerolinewidth": 2
          }
         }
        },
        "title": {
         "text": "Tweet Sentiment Lead by State"
        }
       }
      }
     },
     "metadata": {},
     "output_type": "display_data"
    }
   ],
   "source": [
    "# Calculate lead size (difference between democratic and republican proportion)\n",
    "tweet_counts_per_state[\"lead_size\"] = (\n",
    "    tweet_counts_per_state[\"democratic_proportion\"] - 50\n",
    ")\n",
    "\n",
    "# Create custom color scale for discrete ranges\n",
    "color_scale = [\n",
    "    [0, \"rgb(165,0,38)\"],  # Deep Red (Trump >10%)\n",
    "    [0.2, \"rgb(215,48,39)\"],  # Red (Trump 5-10%)\n",
    "    [0.4, \"rgb(244,109,67)\"],  # Light Red (Trump 0-5%)\n",
    "    [0.5, \"rgb(255,255,255)\"],  # White (Tie)\n",
    "    [0.6, \"rgb(116,169,207)\"],  # Light Blue (Biden 0-5%)\n",
    "    [0.8, \"rgb(54,144,192)\"],  # Blue (Biden 5-10%)\n",
    "    [1, \"rgb(5,112,176)\"],  # Deep Blue (Biden >10%)\n",
    "]\n",
    "\n",
    "fig = px.choropleth(\n",
    "    tweet_counts_per_state,\n",
    "    locations=\"state_code\",\n",
    "    locationmode=\"USA-states\",\n",
    "    color=\"lead_size\",\n",
    "    hover_name=\"state\",\n",
    "    color_continuous_scale=color_scale,\n",
    "    range_color=[-15, 15],\n",
    ")\n",
    "\n",
    "fig.update_layout(\n",
    "    title_text=\"Tweet Sentiment Lead by State\",\n",
    "    geo=dict(scope=\"usa\"),\n",
    "    coloraxis_colorbar=dict(\n",
    "        title=\"Lead Size\",\n",
    "        ticktext=[\n",
    "            \"Trump >10%\",\n",
    "            \"Trump 5-10%\",\n",
    "            \"Trump 0-5%\",\n",
    "            \"Tie\",\n",
    "            \"Biden 0-5%\",\n",
    "            \"Biden 5-10%\",\n",
    "            \"Biden >10%\",\n",
    "        ],\n",
    "        tickvals=[-12, -7.5, -2.5, 0, 2.5, 7.5, 12],\n",
    "        tickmode=\"array\",\n",
    "    ),\n",
    ")"
   ]
  },
  {
   "cell_type": "markdown",
   "metadata": {},
   "source": [
    "The maps now provide a direct comparison between tweet sentiments and the `CNN Lead Size Map`. As hypothesized, the tweet sentiment map shows a more liberal stance compared to the actual 2020 Electoral College outcomes. This discrepancy highlights the potential differences between social media activity and real-world voting behavior, suggesting that Twitter users may lean more liberal than the general voting population. This observation is crucial for understanding the limitations and biases of using social media data to predict or analyze political trends.\n",
    "\n",
    "The recent elections, namely the 2024 election, showed great discrepency between polling results pre and post election. Therefore, it was also important to compare polling results to our sentiment data as well. The following shows two chorolepth maps: the first being election results from Harvard Polling data visualized similar to the `CNN Lead Size Map`; the second is a gradient map showing our predicted results versus the Harvard Polling data that is being considered as `baseline`.\n"
   ]
  },
  {
   "cell_type": "markdown",
   "metadata": {},
   "source": [
    "\n",
    "1. Loads election data from a CSV file.\n",
    "2. Filters and groups the data by state and candidate, summing the votes.\n",
    "3. Calculates the total votes per state.\n",
    "4. Calculates the percentage of votes and the proportion of votes for Joseph R. Biden.\n",
    "5. Calculates the lead size between Joseph R. Biden and Donald J. Trump.\n",
    "6. Resets the index to make `state_po` a column.\n",
    "7. Defines a color scale for visualizing the lead size.\n",
    "8. Creates a choropleth map using Plotly to visualize the lead size by state.\n",
    "9. Updates the layout of the map with a title and color axis.\n",
    "10. Displays the plot.\n",
    "\n",
    "Variables:\n",
    "- `cwd`: Current working directory.\n",
    "- `file_path`: Path to the election data CSV file.\n",
    "- `df`: DataFrame containing the election data.\n",
    "- `state_votes`: DataFrame containing the grouped and calculated election data by state.\n",
    "- `x`: Total votes for Donald J. Trump.\n",
    "- `y`: Total votes for Joseph R. Biden.\n",
    "- `color_scale`: List defining the color scale for the choropleth map.\n",
    "- `baseline_fig`: Plotly figure object for the choropleth map.\n"
   ]
  },
  {
   "cell_type": "code",
   "execution_count": 13,
   "metadata": {},
   "outputs": [
    {
     "name": "stderr",
     "output_type": "stream",
     "text": [
      "C:\\Users\\musti\\AppData\\Local\\Temp\\ipykernel_8500\\2137680369.py:6: DtypeWarning:\n",
      "\n",
      "Columns (0) have mixed types. Specify dtype option on import or set low_memory=False.\n",
      "\n"
     ]
    },
    {
     "data": {
      "application/vnd.plotly.v1+json": {
       "config": {
        "plotlyServerURL": "https://plot.ly"
       },
       "data": [
        {
         "coloraxis": "coloraxis",
         "geo": "geo",
         "hovertemplate": "<b>%{hovertext}</b><br><br>state_po=%{location}<br>lead_size=%{z}<extra></extra>",
         "hovertext": [
          "AK",
          "AL",
          "AR",
          "AZ",
          "CA",
          "CO",
          "CT",
          "DC",
          "DE",
          "FL",
          "GA",
          "HI",
          "IA",
          "ID",
          "IL",
          "IN",
          "KS",
          "KY",
          "LA",
          "MA",
          "MD",
          "ME",
          "MI",
          "MN",
          "MO",
          "MS",
          "MT",
          "NC",
          "ND",
          "NE",
          "NH",
          "NJ",
          "NM",
          "NV",
          "NY",
          "OH",
          "OK",
          "OR",
          "PA",
          "RI",
          "SC",
          "SD",
          "TN",
          "TX",
          "UT",
          "VA",
          "VT",
          "WA",
          "WI",
          "WV",
          "WY"
         ],
         "locationmode": "USA-states",
         "locations": [
          "AK",
          "AL",
          "AR",
          "AZ",
          "CA",
          "CO",
          "CT",
          "DC",
          "DE",
          "FL",
          "GA",
          "HI",
          "IA",
          "ID",
          "IL",
          "IN",
          "KS",
          "KY",
          "LA",
          "MA",
          "MD",
          "ME",
          "MI",
          "MN",
          "MO",
          "MS",
          "MT",
          "NC",
          "ND",
          "NE",
          "NH",
          "NJ",
          "NM",
          "NV",
          "NY",
          "OH",
          "OK",
          "OR",
          "PA",
          "RI",
          "SC",
          "SD",
          "TN",
          "TX",
          "UT",
          "VA",
          "VT",
          "WA",
          "WI",
          "WV",
          "WY"
         ],
         "name": "",
         "type": "choropleth",
         "z": [
          -10.116369148332211,
          -25.37643431124747,
          -27.620667903129352,
          0.3088948847574243,
          29.170908035577376,
          13.501618063359308,
          20.068367219924976,
          86.75237254469212,
          18.980774190988274,
          -3.335270113537196,
          0.2534769556037213,
          29.464775296839342,
          -8.19760939776009,
          -30.797169544818807,
          16.834379695552855,
          -10.776638084633035,
          -14.63738650698847,
          -25.954755887130464,
          -18.609425612482323,
          33.2148261142344,
          33.21036235718371,
          8.974351235354126,
          2.7499012376587717,
          7.1101569005706455,
          -15.39087404270113,
          -16.54534811940394,
          -16.37002186733815,
          -1.348120710932265,
          -33.35728637799563,
          -19.151066709256582,
          7.374292919051594,
          15.937880059092766,
          10.97824327404753,
          2.4002489547957624,
          23.019138086135943,
          -8.031961760169612,
          -33.08709751207632,
          15.9655203116398,
          1.1264364331197316,
          20.774996764891636,
          -11.68020581467846,
          -26.164137536114946,
          -23.20885989526012,
          -5.580108012351994,
          -20.386945164823846,
          10.109308474880114,
          35.07526255633909,
          19.203323391959792,
          0.6249863526854276,
          -38.935030680096446,
          -43.11192339041231
         ]
        }
       ],
       "layout": {
        "coloraxis": {
         "cmax": 15,
         "cmin": -15,
         "colorbar": {
          "tickmode": "array",
          "ticktext": [
           "Trump >10%",
           "Trump 5-10%",
           "Trump 0-5%",
           "Tie",
           "Biden 0-5%",
           "Biden 5-10%",
           "Biden >10%"
          ],
          "tickvals": [
           -12,
           -7.5,
           -2.5,
           0,
           2.5,
           7.5,
           12
          ],
          "title": {
           "text": "Lead Size"
          }
         },
         "colorscale": [
          [
           0,
           "rgb(165,0,38)"
          ],
          [
           0.2,
           "rgb(215,48,39)"
          ],
          [
           0.4,
           "rgb(244,109,67)"
          ],
          [
           0.5,
           "rgb(255,255,255)"
          ],
          [
           0.6,
           "rgb(116,169,207)"
          ],
          [
           0.8,
           "rgb(54,144,192)"
          ],
          [
           1,
           "rgb(5,112,176)"
          ]
         ]
        },
        "geo": {
         "center": {},
         "domain": {
          "x": [
           0,
           1
          ],
          "y": [
           0,
           1
          ]
         },
         "scope": "usa"
        },
        "legend": {
         "tracegroupgap": 0
        },
        "margin": {
         "t": 60
        },
        "template": {
         "data": {
          "bar": [
           {
            "error_x": {
             "color": "#2a3f5f"
            },
            "error_y": {
             "color": "#2a3f5f"
            },
            "marker": {
             "line": {
              "color": "#E5ECF6",
              "width": 0.5
             },
             "pattern": {
              "fillmode": "overlay",
              "size": 10,
              "solidity": 0.2
             }
            },
            "type": "bar"
           }
          ],
          "barpolar": [
           {
            "marker": {
             "line": {
              "color": "#E5ECF6",
              "width": 0.5
             },
             "pattern": {
              "fillmode": "overlay",
              "size": 10,
              "solidity": 0.2
             }
            },
            "type": "barpolar"
           }
          ],
          "carpet": [
           {
            "aaxis": {
             "endlinecolor": "#2a3f5f",
             "gridcolor": "white",
             "linecolor": "white",
             "minorgridcolor": "white",
             "startlinecolor": "#2a3f5f"
            },
            "baxis": {
             "endlinecolor": "#2a3f5f",
             "gridcolor": "white",
             "linecolor": "white",
             "minorgridcolor": "white",
             "startlinecolor": "#2a3f5f"
            },
            "type": "carpet"
           }
          ],
          "choropleth": [
           {
            "colorbar": {
             "outlinewidth": 0,
             "ticks": ""
            },
            "type": "choropleth"
           }
          ],
          "contour": [
           {
            "colorbar": {
             "outlinewidth": 0,
             "ticks": ""
            },
            "colorscale": [
             [
              0,
              "#0d0887"
             ],
             [
              0.1111111111111111,
              "#46039f"
             ],
             [
              0.2222222222222222,
              "#7201a8"
             ],
             [
              0.3333333333333333,
              "#9c179e"
             ],
             [
              0.4444444444444444,
              "#bd3786"
             ],
             [
              0.5555555555555556,
              "#d8576b"
             ],
             [
              0.6666666666666666,
              "#ed7953"
             ],
             [
              0.7777777777777778,
              "#fb9f3a"
             ],
             [
              0.8888888888888888,
              "#fdca26"
             ],
             [
              1,
              "#f0f921"
             ]
            ],
            "type": "contour"
           }
          ],
          "contourcarpet": [
           {
            "colorbar": {
             "outlinewidth": 0,
             "ticks": ""
            },
            "type": "contourcarpet"
           }
          ],
          "heatmap": [
           {
            "colorbar": {
             "outlinewidth": 0,
             "ticks": ""
            },
            "colorscale": [
             [
              0,
              "#0d0887"
             ],
             [
              0.1111111111111111,
              "#46039f"
             ],
             [
              0.2222222222222222,
              "#7201a8"
             ],
             [
              0.3333333333333333,
              "#9c179e"
             ],
             [
              0.4444444444444444,
              "#bd3786"
             ],
             [
              0.5555555555555556,
              "#d8576b"
             ],
             [
              0.6666666666666666,
              "#ed7953"
             ],
             [
              0.7777777777777778,
              "#fb9f3a"
             ],
             [
              0.8888888888888888,
              "#fdca26"
             ],
             [
              1,
              "#f0f921"
             ]
            ],
            "type": "heatmap"
           }
          ],
          "heatmapgl": [
           {
            "colorbar": {
             "outlinewidth": 0,
             "ticks": ""
            },
            "colorscale": [
             [
              0,
              "#0d0887"
             ],
             [
              0.1111111111111111,
              "#46039f"
             ],
             [
              0.2222222222222222,
              "#7201a8"
             ],
             [
              0.3333333333333333,
              "#9c179e"
             ],
             [
              0.4444444444444444,
              "#bd3786"
             ],
             [
              0.5555555555555556,
              "#d8576b"
             ],
             [
              0.6666666666666666,
              "#ed7953"
             ],
             [
              0.7777777777777778,
              "#fb9f3a"
             ],
             [
              0.8888888888888888,
              "#fdca26"
             ],
             [
              1,
              "#f0f921"
             ]
            ],
            "type": "heatmapgl"
           }
          ],
          "histogram": [
           {
            "marker": {
             "pattern": {
              "fillmode": "overlay",
              "size": 10,
              "solidity": 0.2
             }
            },
            "type": "histogram"
           }
          ],
          "histogram2d": [
           {
            "colorbar": {
             "outlinewidth": 0,
             "ticks": ""
            },
            "colorscale": [
             [
              0,
              "#0d0887"
             ],
             [
              0.1111111111111111,
              "#46039f"
             ],
             [
              0.2222222222222222,
              "#7201a8"
             ],
             [
              0.3333333333333333,
              "#9c179e"
             ],
             [
              0.4444444444444444,
              "#bd3786"
             ],
             [
              0.5555555555555556,
              "#d8576b"
             ],
             [
              0.6666666666666666,
              "#ed7953"
             ],
             [
              0.7777777777777778,
              "#fb9f3a"
             ],
             [
              0.8888888888888888,
              "#fdca26"
             ],
             [
              1,
              "#f0f921"
             ]
            ],
            "type": "histogram2d"
           }
          ],
          "histogram2dcontour": [
           {
            "colorbar": {
             "outlinewidth": 0,
             "ticks": ""
            },
            "colorscale": [
             [
              0,
              "#0d0887"
             ],
             [
              0.1111111111111111,
              "#46039f"
             ],
             [
              0.2222222222222222,
              "#7201a8"
             ],
             [
              0.3333333333333333,
              "#9c179e"
             ],
             [
              0.4444444444444444,
              "#bd3786"
             ],
             [
              0.5555555555555556,
              "#d8576b"
             ],
             [
              0.6666666666666666,
              "#ed7953"
             ],
             [
              0.7777777777777778,
              "#fb9f3a"
             ],
             [
              0.8888888888888888,
              "#fdca26"
             ],
             [
              1,
              "#f0f921"
             ]
            ],
            "type": "histogram2dcontour"
           }
          ],
          "mesh3d": [
           {
            "colorbar": {
             "outlinewidth": 0,
             "ticks": ""
            },
            "type": "mesh3d"
           }
          ],
          "parcoords": [
           {
            "line": {
             "colorbar": {
              "outlinewidth": 0,
              "ticks": ""
             }
            },
            "type": "parcoords"
           }
          ],
          "pie": [
           {
            "automargin": true,
            "type": "pie"
           }
          ],
          "scatter": [
           {
            "fillpattern": {
             "fillmode": "overlay",
             "size": 10,
             "solidity": 0.2
            },
            "type": "scatter"
           }
          ],
          "scatter3d": [
           {
            "line": {
             "colorbar": {
              "outlinewidth": 0,
              "ticks": ""
             }
            },
            "marker": {
             "colorbar": {
              "outlinewidth": 0,
              "ticks": ""
             }
            },
            "type": "scatter3d"
           }
          ],
          "scattercarpet": [
           {
            "marker": {
             "colorbar": {
              "outlinewidth": 0,
              "ticks": ""
             }
            },
            "type": "scattercarpet"
           }
          ],
          "scattergeo": [
           {
            "marker": {
             "colorbar": {
              "outlinewidth": 0,
              "ticks": ""
             }
            },
            "type": "scattergeo"
           }
          ],
          "scattergl": [
           {
            "marker": {
             "colorbar": {
              "outlinewidth": 0,
              "ticks": ""
             }
            },
            "type": "scattergl"
           }
          ],
          "scattermapbox": [
           {
            "marker": {
             "colorbar": {
              "outlinewidth": 0,
              "ticks": ""
             }
            },
            "type": "scattermapbox"
           }
          ],
          "scatterpolar": [
           {
            "marker": {
             "colorbar": {
              "outlinewidth": 0,
              "ticks": ""
             }
            },
            "type": "scatterpolar"
           }
          ],
          "scatterpolargl": [
           {
            "marker": {
             "colorbar": {
              "outlinewidth": 0,
              "ticks": ""
             }
            },
            "type": "scatterpolargl"
           }
          ],
          "scatterternary": [
           {
            "marker": {
             "colorbar": {
              "outlinewidth": 0,
              "ticks": ""
             }
            },
            "type": "scatterternary"
           }
          ],
          "surface": [
           {
            "colorbar": {
             "outlinewidth": 0,
             "ticks": ""
            },
            "colorscale": [
             [
              0,
              "#0d0887"
             ],
             [
              0.1111111111111111,
              "#46039f"
             ],
             [
              0.2222222222222222,
              "#7201a8"
             ],
             [
              0.3333333333333333,
              "#9c179e"
             ],
             [
              0.4444444444444444,
              "#bd3786"
             ],
             [
              0.5555555555555556,
              "#d8576b"
             ],
             [
              0.6666666666666666,
              "#ed7953"
             ],
             [
              0.7777777777777778,
              "#fb9f3a"
             ],
             [
              0.8888888888888888,
              "#fdca26"
             ],
             [
              1,
              "#f0f921"
             ]
            ],
            "type": "surface"
           }
          ],
          "table": [
           {
            "cells": {
             "fill": {
              "color": "#EBF0F8"
             },
             "line": {
              "color": "white"
             }
            },
            "header": {
             "fill": {
              "color": "#C8D4E3"
             },
             "line": {
              "color": "white"
             }
            },
            "type": "table"
           }
          ]
         },
         "layout": {
          "annotationdefaults": {
           "arrowcolor": "#2a3f5f",
           "arrowhead": 0,
           "arrowwidth": 1
          },
          "autotypenumbers": "strict",
          "coloraxis": {
           "colorbar": {
            "outlinewidth": 0,
            "ticks": ""
           }
          },
          "colorscale": {
           "diverging": [
            [
             0,
             "#8e0152"
            ],
            [
             0.1,
             "#c51b7d"
            ],
            [
             0.2,
             "#de77ae"
            ],
            [
             0.3,
             "#f1b6da"
            ],
            [
             0.4,
             "#fde0ef"
            ],
            [
             0.5,
             "#f7f7f7"
            ],
            [
             0.6,
             "#e6f5d0"
            ],
            [
             0.7,
             "#b8e186"
            ],
            [
             0.8,
             "#7fbc41"
            ],
            [
             0.9,
             "#4d9221"
            ],
            [
             1,
             "#276419"
            ]
           ],
           "sequential": [
            [
             0,
             "#0d0887"
            ],
            [
             0.1111111111111111,
             "#46039f"
            ],
            [
             0.2222222222222222,
             "#7201a8"
            ],
            [
             0.3333333333333333,
             "#9c179e"
            ],
            [
             0.4444444444444444,
             "#bd3786"
            ],
            [
             0.5555555555555556,
             "#d8576b"
            ],
            [
             0.6666666666666666,
             "#ed7953"
            ],
            [
             0.7777777777777778,
             "#fb9f3a"
            ],
            [
             0.8888888888888888,
             "#fdca26"
            ],
            [
             1,
             "#f0f921"
            ]
           ],
           "sequentialminus": [
            [
             0,
             "#0d0887"
            ],
            [
             0.1111111111111111,
             "#46039f"
            ],
            [
             0.2222222222222222,
             "#7201a8"
            ],
            [
             0.3333333333333333,
             "#9c179e"
            ],
            [
             0.4444444444444444,
             "#bd3786"
            ],
            [
             0.5555555555555556,
             "#d8576b"
            ],
            [
             0.6666666666666666,
             "#ed7953"
            ],
            [
             0.7777777777777778,
             "#fb9f3a"
            ],
            [
             0.8888888888888888,
             "#fdca26"
            ],
            [
             1,
             "#f0f921"
            ]
           ]
          },
          "colorway": [
           "#636efa",
           "#EF553B",
           "#00cc96",
           "#ab63fa",
           "#FFA15A",
           "#19d3f3",
           "#FF6692",
           "#B6E880",
           "#FF97FF",
           "#FECB52"
          ],
          "font": {
           "color": "#2a3f5f"
          },
          "geo": {
           "bgcolor": "white",
           "lakecolor": "white",
           "landcolor": "#E5ECF6",
           "showlakes": true,
           "showland": true,
           "subunitcolor": "white"
          },
          "hoverlabel": {
           "align": "left"
          },
          "hovermode": "closest",
          "mapbox": {
           "style": "light"
          },
          "paper_bgcolor": "white",
          "plot_bgcolor": "#E5ECF6",
          "polar": {
           "angularaxis": {
            "gridcolor": "white",
            "linecolor": "white",
            "ticks": ""
           },
           "bgcolor": "#E5ECF6",
           "radialaxis": {
            "gridcolor": "white",
            "linecolor": "white",
            "ticks": ""
           }
          },
          "scene": {
           "xaxis": {
            "backgroundcolor": "#E5ECF6",
            "gridcolor": "white",
            "gridwidth": 2,
            "linecolor": "white",
            "showbackground": true,
            "ticks": "",
            "zerolinecolor": "white"
           },
           "yaxis": {
            "backgroundcolor": "#E5ECF6",
            "gridcolor": "white",
            "gridwidth": 2,
            "linecolor": "white",
            "showbackground": true,
            "ticks": "",
            "zerolinecolor": "white"
           },
           "zaxis": {
            "backgroundcolor": "#E5ECF6",
            "gridcolor": "white",
            "gridwidth": 2,
            "linecolor": "white",
            "showbackground": true,
            "ticks": "",
            "zerolinecolor": "white"
           }
          },
          "shapedefaults": {
           "line": {
            "color": "#2a3f5f"
           }
          },
          "ternary": {
           "aaxis": {
            "gridcolor": "white",
            "linecolor": "white",
            "ticks": ""
           },
           "baxis": {
            "gridcolor": "white",
            "linecolor": "white",
            "ticks": ""
           },
           "bgcolor": "#E5ECF6",
           "caxis": {
            "gridcolor": "white",
            "linecolor": "white",
            "ticks": ""
           }
          },
          "title": {
           "x": 0.05
          },
          "xaxis": {
           "automargin": true,
           "gridcolor": "white",
           "linecolor": "white",
           "ticks": "",
           "title": {
            "standoff": 15
           },
           "zerolinecolor": "white",
           "zerolinewidth": 2
          },
          "yaxis": {
           "automargin": true,
           "gridcolor": "white",
           "linecolor": "white",
           "ticks": "",
           "title": {
            "standoff": 15
           },
           "zerolinecolor": "white",
           "zerolinewidth": 2
          }
         }
        },
        "title": {
         "text": "Lead by State via Harvard Polling Data"
        }
       }
      }
     },
     "metadata": {},
     "output_type": "display_data"
    }
   ],
   "source": [
    "# Load election data\n",
    "cwd = os.getcwd()\n",
    "file_path = cwd + \"/data/PRESIDENT_precinct_general.csv\"\n",
    "\n",
    "# Load the data\n",
    "df = pd.read_csv(file_path)\n",
    "\n",
    "# Filter the DataFrame\n",
    "# Group the filtered DataFrame by state and candidate, and sum the votes\n",
    "state_votes = df.groupby([\"state_po\", \"candidate\"])[\"votes\"].sum().unstack(fill_value=0)\n",
    "\n",
    "# Calculate the total votes per state\n",
    "state_votes[\"total_votes\"] = state_votes.sum(axis=1)\n",
    "\n",
    "# Calculate the percentage of votes for Biden\n",
    "state_votes[\"biden_pct\"] = (\n",
    "    state_votes[\"JOSEPH R BIDEN\"] / state_votes[\"total_votes\"] * 100\n",
    ")\n",
    "state_votes[\"democratic_proportion\"] = (\n",
    "    state_votes[\"JOSEPH R BIDEN\"] / state_votes[\"total_votes\"]\n",
    ")\n",
    "\n",
    "# Calculate lead size\n",
    "state_votes[\"lead_size\"] = (\n",
    "    (state_votes[\"JOSEPH R BIDEN\"] - state_votes[\"DONALD J TRUMP\"])\n",
    "    / state_votes[\"total_votes\"]\n",
    "    * 100\n",
    ")\n",
    "# Reset the index to make state_po a column\n",
    "state_votes = state_votes.reset_index()\n",
    "\n",
    "x = state_votes[\"DONALD J TRUMP\"].sum()\n",
    "y = state_votes[\"JOSEPH R BIDEN\"].sum()\n",
    "\n",
    "\n",
    "color_scale = [\n",
    "    [0, \"rgb(165,0,38)\"],  # Deep Red (Trump >10%)\n",
    "    [0.2, \"rgb(215,48,39)\"],  # Red (Trump 5-10%)\n",
    "    [0.4, \"rgb(244,109,67)\"],  # Light Red (Trump 0-5%)\n",
    "    [0.5, \"rgb(255,255,255)\"],  # White (Tie)\n",
    "    [0.6, \"rgb(116,169,207)\"],  # Light Blue (Biden 0-5%)\n",
    "    [0.8, \"rgb(54,144,192)\"],  # Blue (Biden 5-10%)\n",
    "    [1, \"rgb(5,112,176)\"],  # Deep Blue (Biden >10%)\n",
    "]\n",
    "\n",
    "\n",
    "baseline_fig = px.choropleth(\n",
    "    state_votes,\n",
    "    locations=\"state_po\",\n",
    "    locationmode=\"USA-states\",\n",
    "    color=\"lead_size\",\n",
    "    hover_name=\"state_po\",\n",
    "    color_continuous_scale=color_scale,\n",
    "    range_color=[-15, 15],\n",
    ")\n",
    "\n",
    "baseline_fig.update_layout(\n",
    "    title_text=\"Lead by State via Harvard Polling Data\",\n",
    "    geo=dict(scope=\"usa\"),\n",
    "    coloraxis_colorbar=dict(\n",
    "        title=\"Lead Size\",\n",
    "        ticktext=[\n",
    "            \"Trump >10%\",\n",
    "            \"Trump 5-10%\",\n",
    "            \"Trump 0-5%\",\n",
    "            \"Tie\",\n",
    "            \"Biden 0-5%\",\n",
    "            \"Biden 5-10%\",\n",
    "            \"Biden >10%\",\n",
    "        ],\n",
    "        tickvals=[-12, -7.5, -2.5, 0, 2.5, 7.5, 12],\n",
    "        tickmode=\"array\",\n",
    "    ),\n",
    ")\n",
    "\n",
    "# Show the plot\n",
    "baseline_fig.show()"
   ]
  },
  {
   "cell_type": "markdown",
   "metadata": {},
   "source": [
    "This code combines two datasets into a single DataFrame and creates a choropleth map to visualize the difference in lead size by state.\n",
    "\n",
    "Steps:\n",
    "1. Combine the `state_votes` and `tweet_counts_per_state` datasets into a single DataFrame `combined_df`.\n",
    "2. Calculate the difference in lead size between the two datasets and store it in the `lead_size_diff` column.\n",
    "3. Create a choropleth map using Plotly to visualize the lead size difference by state.\n",
    "4. Customize the color scale and color bar to represent the lead size difference.\n",
    "5. Update the layout of the map to focus on the USA.\n",
    "6. Display the map.\n"
   ]
  },
  {
   "cell_type": "markdown",
   "metadata": {},
   "source": [
    "\n",
    "This code calculates the differences between predicted and actual lead sizes, defines state centers, and adds a scattergeo layer for arrows to visualize the differences on a map.\n",
    "\n",
    "Variables:\n",
    "- `combined_df`: DataFrame containing the combined data with columns `lead_size_x`, `lead_size_y`, and `state_po`.\n",
    "- `state_centers`: Dictionary mapping state abbreviations to their geographic center coordinates (`latitude`, `longitude`).\n",
    "- `fig`: Plotly figure object used to create the scattergeo plot.\n",
    "\n",
    "Steps:\n",
    "1. Calculate the difference between predicted and actual lead sizes and store it in the `lead_size_diff` column of `combined_df`.\n",
    "2. Define the geographic centers for each state in the `state_centers` dictionary.\n",
    "3. Iterate over each row in combined_df to add arrows to the scattergeo plot:\n",
    "    - Determine the state and the lead size difference.\n",
    "    - Adjust the difference to ensure visibility of the arrow.\n",
    "    - Calculate arrow properties (color and size) based on the difference.\n",
    "    - Add the arrow as a scatter point to the plot.\n",
    "4. Update the layout of the figure to include a title and configure the map projection and appearance.\n",
    "5. Display the figure.\n"
   ]
  },
  {
   "cell_type": "code",
   "execution_count": null,
   "metadata": {},
   "outputs": [
    {
     "data": {
      "application/vnd.plotly.v1+json": {
       "config": {
        "plotlyServerURL": "https://plot.ly"
       },
       "data": [
        {
         "colorbar": {
          "tickmode": "array",
          "ticktext": [
           "More Republican",
           "No Change",
           "More Democratic"
          ],
          "tickvals": [
           -10,
           0,
           10
          ],
          "title": {
           "text": "Lead Size Difference"
          }
         },
         "colorscale": [
          [
           0,
           "rgb(103,0,31)"
          ],
          [
           0.1,
           "rgb(178,24,43)"
          ],
          [
           0.2,
           "rgb(214,96,77)"
          ],
          [
           0.3,
           "rgb(244,165,130)"
          ],
          [
           0.4,
           "rgb(253,219,199)"
          ],
          [
           0.5,
           "rgb(247,247,247)"
          ],
          [
           0.6,
           "rgb(209,229,240)"
          ],
          [
           0.7,
           "rgb(146,197,222)"
          ],
          [
           0.8,
           "rgb(67,147,195)"
          ],
          [
           0.9,
           "rgb(33,102,172)"
          ],
          [
           1,
           "rgb(5,48,97)"
          ]
         ],
         "locationmode": "USA-states",
         "locations": [
          "AK",
          "AL",
          "AR",
          "AZ",
          "CA",
          "CO",
          "CT",
          "DC",
          "DE",
          "FL",
          "GA",
          "HI",
          "IA",
          "ID",
          "IL",
          "IN",
          "KS",
          "KY",
          "LA",
          "MA",
          "MD",
          "ME",
          "MI",
          "MN",
          "MO",
          "MS",
          "MT",
          "NC",
          "ND",
          "NE",
          "NH",
          "NJ",
          "NM",
          "NV",
          "NY",
          "OH",
          "OK",
          "OR",
          "PA",
          "RI",
          "SC",
          "SD",
          "TN",
          "TX",
          "UT",
          "VA",
          "VT",
          "WA",
          "WI",
          "WV",
          "WY"
         ],
         "type": "choropleth"
        },
        {
         "hovertext": "AK: 4.8%",
         "lat": [
          61.370716
         ],
         "lon": [
          -152.404419
         ],
         "marker": {
          "color": "blue",
          "size": 0
         },
         "mode": "markers+text",
         "showlegend": false,
         "text": "▲",
         "textfont": {
          "color": "blue",
          "size": 4.822544129028046
         },
         "textposition": "middle center",
         "type": "scattergeo"
        },
        {
         "hovertext": "AL: -23.1%",
         "lat": [
          32.806671
         ],
         "lon": [
          -86.79113
         ],
         "marker": {
          "color": "red",
          "size": 0
         },
         "mode": "markers+text",
         "showlegend": false,
         "text": "▼",
         "textfont": {
          "color": "red",
          "size": 20
         },
         "textposition": "middle center",
         "type": "scattergeo"
        },
        {
         "hovertext": "AR: -40.9%",
         "lat": [
          34.969704
         ],
         "lon": [
          -92.373123
         ],
         "marker": {
          "color": "red",
          "size": 0
         },
         "mode": "markers+text",
         "showlegend": false,
         "text": "▼",
         "textfont": {
          "color": "red",
          "size": 20
         },
         "textposition": "middle center",
         "type": "scattergeo"
        },
        {
         "hovertext": "AZ: 1.0%",
         "lat": [
          33.4484
         ],
         "lon": [
          -112.074
         ],
         "marker": {
          "color": "blue",
          "size": 0
         },
         "mode": "markers+text",
         "showlegend": false,
         "text": "▲",
         "textfont": {
          "color": "blue",
          "size": 1
         },
         "textposition": "middle center",
         "type": "scattergeo"
        },
        {
         "hovertext": "CA: 26.6%",
         "lat": [
          36.116203
         ],
         "lon": [
          -119.681564
         ],
         "marker": {
          "color": "blue",
          "size": 0
         },
         "mode": "markers+text",
         "showlegend": false,
         "text": "▲",
         "textfont": {
          "color": "blue",
          "size": 20
         },
         "textposition": "middle center",
         "type": "scattergeo"
        },
        {
         "hovertext": "CO: 15.3%",
         "lat": [
          39.059811
         ],
         "lon": [
          -105.311104
         ],
         "marker": {
          "color": "blue",
          "size": 0
         },
         "mode": "markers+text",
         "showlegend": false,
         "text": "▲",
         "textfont": {
          "color": "blue",
          "size": 15.317164691607237
         },
         "textposition": "middle center",
         "type": "scattergeo"
        },
        {
         "hovertext": "CT: 20.8%",
         "lat": [
          41.597782
         ],
         "lon": [
          -72.755371
         ],
         "marker": {
          "color": "blue",
          "size": 0
         },
         "mode": "markers+text",
         "showlegend": false,
         "text": "▲",
         "textfont": {
          "color": "blue",
          "size": 20
         },
         "textposition": "middle center",
         "type": "scattergeo"
        },
        {
         "hovertext": "DE: 14.3%",
         "lat": [
          39.318523
         ],
         "lon": [
          -75.507141
         ],
         "marker": {
          "color": "blue",
          "size": 0
         },
         "mode": "markers+text",
         "showlegend": false,
         "text": "▲",
         "textfont": {
          "color": "blue",
          "size": 14.286306897459479
         },
         "textposition": "middle center",
         "type": "scattergeo"
        },
        {
         "hovertext": "FL: 1.0%",
         "lat": [
          27.766279
         ],
         "lon": [
          -81.686783
         ],
         "marker": {
          "color": "blue",
          "size": 0
         },
         "mode": "markers+text",
         "showlegend": false,
         "text": "▲",
         "textfont": {
          "color": "blue",
          "size": 1
         },
         "textposition": "middle center",
         "type": "scattergeo"
        },
        {
         "hovertext": "GA: 2.9%",
         "lat": [
          33.040619
         ],
         "lon": [
          -83.643074
         ],
         "marker": {
          "color": "blue",
          "size": 0
         },
         "mode": "markers+text",
         "showlegend": false,
         "text": "▲",
         "textfont": {
          "color": "blue",
          "size": 2.8527354135064495
         },
         "textposition": "middle center",
         "type": "scattergeo"
        },
        {
         "hovertext": "HI: 29.6%",
         "lat": [
          21.094318
         ],
         "lon": [
          -157.498337
         ],
         "marker": {
          "color": "blue",
          "size": 0
         },
         "mode": "markers+text",
         "showlegend": false,
         "text": "▲",
         "textfont": {
          "color": "blue",
          "size": 20
         },
         "textposition": "middle center",
         "type": "scattergeo"
        },
        {
         "hovertext": "IA: -9.8%",
         "lat": [
          42.011539
         ],
         "lon": [
          -93.210526
         ],
         "marker": {
          "color": "red",
          "size": 0
         },
         "mode": "markers+text",
         "showlegend": false,
         "text": "▼",
         "textfont": {
          "color": "red",
          "size": 9.760201672502916
         },
         "textposition": "middle center",
         "type": "scattergeo"
        },
        {
         "hovertext": "ID: -31.1%",
         "lat": [
          44.240459
         ],
         "lon": [
          -114.478828
         ],
         "marker": {
          "color": "red",
          "size": 0
         },
         "mode": "markers+text",
         "showlegend": false,
         "text": "▼",
         "textfont": {
          "color": "red",
          "size": 20
         },
         "textposition": "middle center",
         "type": "scattergeo"
        },
        {
         "hovertext": "IL: 16.9%",
         "lat": [
          40.349457
         ],
         "lon": [
          -88.986137
         ],
         "marker": {
          "color": "blue",
          "size": 0
         },
         "mode": "markers+text",
         "showlegend": false,
         "text": "▲",
         "textfont": {
          "color": "blue",
          "size": 16.889398206581028
         },
         "textposition": "middle center",
         "type": "scattergeo"
        },
        {
         "hovertext": "IN: -8.8%",
         "lat": [
          39.849426
         ],
         "lon": [
          -86.258278
         ],
         "marker": {
          "color": "red",
          "size": 0
         },
         "mode": "markers+text",
         "showlegend": false,
         "text": "▼",
         "textfont": {
          "color": "red",
          "size": 8.808598340131681
         },
         "textposition": "middle center",
         "type": "scattergeo"
        },
        {
         "hovertext": "KS: -12.0%",
         "lat": [
          38.5266
         ],
         "lon": [
          -96.726486
         ],
         "marker": {
          "color": "red",
          "size": 0
         },
         "mode": "markers+text",
         "showlegend": false,
         "text": "▼",
         "textfont": {
          "color": "red",
          "size": 12.03748620695194
         },
         "textposition": "middle center",
         "type": "scattergeo"
        },
        {
         "hovertext": "KY: -20.4%",
         "lat": [
          37.66814
         ],
         "lon": [
          -84.670067
         ],
         "marker": {
          "color": "red",
          "size": 0
         },
         "mode": "markers+text",
         "showlegend": false,
         "text": "▼",
         "textfont": {
          "color": "red",
          "size": 20
         },
         "textposition": "middle center",
         "type": "scattergeo"
        },
        {
         "hovertext": "LA: -13.3%",
         "lat": [
          31.169546
         ],
         "lon": [
          -91.867805
         ],
         "marker": {
          "color": "red",
          "size": 0
         },
         "mode": "markers+text",
         "showlegend": false,
         "text": "▼",
         "textfont": {
          "color": "red",
          "size": 13.274091268595594
         },
         "textposition": "middle center",
         "type": "scattergeo"
        },
        {
         "hovertext": "MA: 28.5%",
         "lat": [
          42.230171
         ],
         "lon": [
          -71.530106
         ],
         "marker": {
          "color": "blue",
          "size": 0
         },
         "mode": "markers+text",
         "showlegend": false,
         "text": "▲",
         "textfont": {
          "color": "blue",
          "size": 20
         },
         "textposition": "middle center",
         "type": "scattergeo"
        },
        {
         "hovertext": "MD: 29.8%",
         "lat": [
          39.063946
         ],
         "lon": [
          -76.802101
         ],
         "marker": {
          "color": "blue",
          "size": 0
         },
         "mode": "markers+text",
         "showlegend": false,
         "text": "▲",
         "textfont": {
          "color": "blue",
          "size": 20
         },
         "textposition": "middle center",
         "type": "scattergeo"
        },
        {
         "hovertext": "ME: 8.9%",
         "lat": [
          44.693947
         ],
         "lon": [
          -69.381927
         ],
         "marker": {
          "color": "blue",
          "size": 0
         },
         "mode": "markers+text",
         "showlegend": false,
         "text": "▲",
         "textfont": {
          "color": "blue",
          "size": 8.907249995056743
         },
         "textposition": "middle center",
         "type": "scattergeo"
        },
        {
         "hovertext": "MI: 2.0%",
         "lat": [
          43.326618
         ],
         "lon": [
          -84.536095
         ],
         "marker": {
          "color": "blue",
          "size": 0
         },
         "mode": "markers+text",
         "showlegend": false,
         "text": "▲",
         "textfont": {
          "color": "blue",
          "size": 1.953694942762961
         },
         "textposition": "middle center",
         "type": "scattergeo"
        },
        {
         "hovertext": "MN: 9.1%",
         "lat": [
          45.694454
         ],
         "lon": [
          -93.900192
         ],
         "marker": {
          "color": "blue",
          "size": 0
         },
         "mode": "markers+text",
         "showlegend": false,
         "text": "▲",
         "textfont": {
          "color": "blue",
          "size": 9.102593261380408
         },
         "textposition": "middle center",
         "type": "scattergeo"
        },
        {
         "hovertext": "MO: -15.1%",
         "lat": [
          38.456085
         ],
         "lon": [
          -92.288368
         ],
         "marker": {
          "color": "red",
          "size": 0
         },
         "mode": "markers+text",
         "showlegend": false,
         "text": "▼",
         "textfont": {
          "color": "red",
          "size": 15.05564712122329
         },
         "textposition": "middle center",
         "type": "scattergeo"
        },
        {
         "hovertext": "MS: -10.0%",
         "lat": [
          32.741646
         ],
         "lon": [
          -89.678696
         ],
         "marker": {
          "color": "red",
          "size": 0
         },
         "mode": "markers+text",
         "showlegend": false,
         "text": "▼",
         "textfont": {
          "color": "red",
          "size": 10.007516953640739
         },
         "textposition": "middle center",
         "type": "scattergeo"
        },
        {
         "hovertext": "MT: -14.0%",
         "lat": [
          46.921925
         ],
         "lon": [
          -110.454353
         ],
         "marker": {
          "color": "red",
          "size": 0
         },
         "mode": "markers+text",
         "showlegend": false,
         "text": "▼",
         "textfont": {
          "color": "red",
          "size": 13.967828104987742
         },
         "textposition": "middle center",
         "type": "scattergeo"
        },
        {
         "hovertext": "NC: -1.0%",
         "lat": [
          35.630066
         ],
         "lon": [
          -79.806419
         ],
         "marker": {
          "color": "red",
          "size": 0
         },
         "mode": "markers+text",
         "showlegend": false,
         "text": "▼",
         "textfont": {
          "color": "red",
          "size": 1
         },
         "textposition": "middle center",
         "type": "scattergeo"
        },
        {
         "hovertext": "ND: -36.9%",
         "lat": [
          47.528912
         ],
         "lon": [
          -99.784012
         ],
         "marker": {
          "color": "red",
          "size": 0
         },
         "mode": "markers+text",
         "showlegend": false,
         "text": "▼",
         "textfont": {
          "color": "red",
          "size": 20
         },
         "textposition": "middle center",
         "type": "scattergeo"
        },
        {
         "hovertext": "NE: -20.1%",
         "lat": [
          41.12537
         ],
         "lon": [
          -98.268082
         ],
         "marker": {
          "color": "red",
          "size": 0
         },
         "mode": "markers+text",
         "showlegend": false,
         "text": "▼",
         "textfont": {
          "color": "red",
          "size": 20
         },
         "textposition": "middle center",
         "type": "scattergeo"
        },
        {
         "hovertext": "NH: 10.0%",
         "lat": [
          43.452492
         ],
         "lon": [
          -71.563896
         ],
         "marker": {
          "color": "blue",
          "size": 0
         },
         "mode": "markers+text",
         "showlegend": false,
         "text": "▲",
         "textfont": {
          "color": "blue",
          "size": 9.973177372464978
         },
         "textposition": "middle center",
         "type": "scattergeo"
        },
        {
         "hovertext": "NJ: 19.8%",
         "lat": [
          40.298904
         ],
         "lon": [
          -74.521011
         ],
         "marker": {
          "color": "blue",
          "size": 0
         },
         "mode": "markers+text",
         "showlegend": false,
         "text": "▲",
         "textfont": {
          "color": "blue",
          "size": 19.81714116603256
         },
         "textposition": "middle center",
         "type": "scattergeo"
        },
        {
         "hovertext": "NM: 9.1%",
         "lat": [
          34.840515
         ],
         "lon": [
          -106.248482
         ],
         "marker": {
          "color": "blue",
          "size": 0
         },
         "mode": "markers+text",
         "showlegend": false,
         "text": "▲",
         "textfont": {
          "color": "blue",
          "size": 9.132203964799539
         },
         "textposition": "middle center",
         "type": "scattergeo"
        },
        {
         "hovertext": "NV: 3.1%",
         "lat": [
          38.313515
         ],
         "lon": [
          -117.055374
         ],
         "marker": {
          "color": "blue",
          "size": 0
         },
         "mode": "markers+text",
         "showlegend": false,
         "text": "▲",
         "textfont": {
          "color": "blue",
          "size": 3.106015256778923
         },
         "textposition": "middle center",
         "type": "scattergeo"
        },
        {
         "hovertext": "NY: 20.8%",
         "lat": [
          42.165726
         ],
         "lon": [
          -74.948051
         ],
         "marker": {
          "color": "blue",
          "size": 0
         },
         "mode": "markers+text",
         "showlegend": false,
         "text": "▲",
         "textfont": {
          "color": "blue",
          "size": 20
         },
         "textposition": "middle center",
         "type": "scattergeo"
        },
        {
         "hovertext": "OH: -6.3%",
         "lat": [
          40.388783
         ],
         "lon": [
          -82.764915
         ],
         "marker": {
          "color": "red",
          "size": 0
         },
         "mode": "markers+text",
         "showlegend": false,
         "text": "▼",
         "textfont": {
          "color": "red",
          "size": 6.3380111962942856
         },
         "textposition": "middle center",
         "type": "scattergeo"
        },
        {
         "hovertext": "OK: -32.9%",
         "lat": [
          35.565342
         ],
         "lon": [
          -96.928917
         ],
         "marker": {
          "color": "red",
          "size": 0
         },
         "mode": "markers+text",
         "showlegend": false,
         "text": "▼",
         "textfont": {
          "color": "red",
          "size": 20
         },
         "textposition": "middle center",
         "type": "scattergeo"
        },
        {
         "hovertext": "OR: 16.6%",
         "lat": [
          44.572021
         ],
         "lon": [
          -122.070938
         ],
         "marker": {
          "color": "blue",
          "size": 0
         },
         "mode": "markers+text",
         "showlegend": false,
         "text": "▲",
         "textfont": {
          "color": "blue",
          "size": 16.58324958428733
         },
         "textposition": "middle center",
         "type": "scattergeo"
        },
        {
         "hovertext": "PA: -1.0%",
         "lat": [
          40.590752
         ],
         "lon": [
          -77.209755
         ],
         "marker": {
          "color": "red",
          "size": 0
         },
         "mode": "markers+text",
         "showlegend": false,
         "text": "▼",
         "textfont": {
          "color": "red",
          "size": 1
         },
         "textposition": "middle center",
         "type": "scattergeo"
        },
        {
         "hovertext": "RI: 21.1%",
         "lat": [
          41.680893
         ],
         "lon": [
          -71.51178
         ],
         "marker": {
          "color": "blue",
          "size": 0
         },
         "mode": "markers+text",
         "showlegend": false,
         "text": "▲",
         "textfont": {
          "color": "blue",
          "size": 20
         },
         "textposition": "middle center",
         "type": "scattergeo"
        },
        {
         "hovertext": "SC: -8.0%",
         "lat": [
          33.856892
         ],
         "lon": [
          -80.945007
         ],
         "marker": {
          "color": "red",
          "size": 0
         },
         "mode": "markers+text",
         "showlegend": false,
         "text": "▼",
         "textfont": {
          "color": "red",
          "size": 7.9678607365492145
         },
         "textposition": "middle center",
         "type": "scattergeo"
        },
        {
         "hovertext": "SD: -28.1%",
         "lat": [
          44.299782
         ],
         "lon": [
          -99.438828
         ],
         "marker": {
          "color": "red",
          "size": 0
         },
         "mode": "markers+text",
         "showlegend": false,
         "text": "▼",
         "textfont": {
          "color": "red",
          "size": 20
         },
         "textposition": "middle center",
         "type": "scattergeo"
        },
        {
         "hovertext": "TN: -16.3%",
         "lat": [
          35.747845
         ],
         "lon": [
          -86.692345
         ],
         "marker": {
          "color": "red",
          "size": 0
         },
         "mode": "markers+text",
         "showlegend": false,
         "text": "▼",
         "textfont": {
          "color": "red",
          "size": 16.338769459983283
         },
         "textposition": "middle center",
         "type": "scattergeo"
        },
        {
         "hovertext": "TX: -3.9%",
         "lat": [
          31.054487
         ],
         "lon": [
          -97.563461
         ],
         "marker": {
          "color": "red",
          "size": 0
         },
         "mode": "markers+text",
         "showlegend": false,
         "text": "▼",
         "textfont": {
          "color": "red",
          "size": 3.9176305609115563
         },
         "textposition": "middle center",
         "type": "scattergeo"
        },
        {
         "hovertext": "UT: -12.2%",
         "lat": [
          40.150032
         ],
         "lon": [
          -111.862434
         ],
         "marker": {
          "color": "red",
          "size": 0
         },
         "mode": "markers+text",
         "showlegend": false,
         "text": "▼",
         "textfont": {
          "color": "red",
          "size": 12.210091359770242
         },
         "textposition": "middle center",
         "type": "scattergeo"
        },
        {
         "hovertext": "VA: 10.3%",
         "lat": [
          37.769337
         ],
         "lon": [
          -78.169968
         ],
         "marker": {
          "color": "blue",
          "size": 0
         },
         "mode": "markers+text",
         "showlegend": false,
         "text": "▲",
         "textfont": {
          "color": "blue",
          "size": 10.32543327840976
         },
         "textposition": "middle center",
         "type": "scattergeo"
        },
        {
         "hovertext": "VT: 27.8%",
         "lat": [
          44.045876
         ],
         "lon": [
          -72.710686
         ],
         "marker": {
          "color": "blue",
          "size": 0
         },
         "mode": "markers+text",
         "showlegend": false,
         "text": "▲",
         "textfont": {
          "color": "blue",
          "size": 20
         },
         "textposition": "middle center",
         "type": "scattergeo"
        },
        {
         "hovertext": "WA: 15.7%",
         "lat": [
          47.400902
         ],
         "lon": [
          -121.490494
         ],
         "marker": {
          "color": "blue",
          "size": 0
         },
         "mode": "markers+text",
         "showlegend": false,
         "text": "▲",
         "textfont": {
          "color": "blue",
          "size": 15.703381770944091
         },
         "textposition": "middle center",
         "type": "scattergeo"
        },
        {
         "hovertext": "WI: -3.4%",
         "lat": [
          44.268543
         ],
         "lon": [
          -89.616508
         ],
         "marker": {
          "color": "red",
          "size": 0
         },
         "mode": "markers+text",
         "showlegend": false,
         "text": "▼",
         "textfont": {
          "color": "red",
          "size": 3.3653807524724737
         },
         "textposition": "middle center",
         "type": "scattergeo"
        },
        {
         "hovertext": "WV: -37.2%",
         "lat": [
          38.491226
         ],
         "lon": [
          -80.954456
         ],
         "marker": {
          "color": "red",
          "size": 0
         },
         "mode": "markers+text",
         "showlegend": false,
         "text": "▼",
         "textfont": {
          "color": "red",
          "size": 20
         },
         "textposition": "middle center",
         "type": "scattergeo"
        },
        {
         "hovertext": "WY: -38.0%",
         "lat": [
          42.755966
         ],
         "lon": [
          -107.30249
         ],
         "marker": {
          "color": "red",
          "size": 0
         },
         "mode": "markers+text",
         "showlegend": false,
         "text": "▼",
         "textfont": {
          "color": "red",
          "size": 20
         },
         "textposition": "middle center",
         "type": "scattergeo"
        }
       ],
       "layout": {
        "geo": {
         "countrycolor": "rgb(217, 217, 217)",
         "lakecolor": "rgb(255, 255, 255)",
         "landcolor": "rgb(240, 240, 240)",
         "projection": {
          "type": "albers usa"
         },
         "scope": "usa",
         "showlakes": true,
         "showland": true,
         "subunitcolor": "rgb(217, 217, 217)"
        },
        "height": 400,
        "template": {
         "data": {
          "bar": [
           {
            "error_x": {
             "color": "#2a3f5f"
            },
            "error_y": {
             "color": "#2a3f5f"
            },
            "marker": {
             "line": {
              "color": "#E5ECF6",
              "width": 0.5
             },
             "pattern": {
              "fillmode": "overlay",
              "size": 10,
              "solidity": 0.2
             }
            },
            "type": "bar"
           }
          ],
          "barpolar": [
           {
            "marker": {
             "line": {
              "color": "#E5ECF6",
              "width": 0.5
             },
             "pattern": {
              "fillmode": "overlay",
              "size": 10,
              "solidity": 0.2
             }
            },
            "type": "barpolar"
           }
          ],
          "carpet": [
           {
            "aaxis": {
             "endlinecolor": "#2a3f5f",
             "gridcolor": "white",
             "linecolor": "white",
             "minorgridcolor": "white",
             "startlinecolor": "#2a3f5f"
            },
            "baxis": {
             "endlinecolor": "#2a3f5f",
             "gridcolor": "white",
             "linecolor": "white",
             "minorgridcolor": "white",
             "startlinecolor": "#2a3f5f"
            },
            "type": "carpet"
           }
          ],
          "choropleth": [
           {
            "colorbar": {
             "outlinewidth": 0,
             "ticks": ""
            },
            "type": "choropleth"
           }
          ],
          "contour": [
           {
            "colorbar": {
             "outlinewidth": 0,
             "ticks": ""
            },
            "colorscale": [
             [
              0,
              "#0d0887"
             ],
             [
              0.1111111111111111,
              "#46039f"
             ],
             [
              0.2222222222222222,
              "#7201a8"
             ],
             [
              0.3333333333333333,
              "#9c179e"
             ],
             [
              0.4444444444444444,
              "#bd3786"
             ],
             [
              0.5555555555555556,
              "#d8576b"
             ],
             [
              0.6666666666666666,
              "#ed7953"
             ],
             [
              0.7777777777777778,
              "#fb9f3a"
             ],
             [
              0.8888888888888888,
              "#fdca26"
             ],
             [
              1,
              "#f0f921"
             ]
            ],
            "type": "contour"
           }
          ],
          "contourcarpet": [
           {
            "colorbar": {
             "outlinewidth": 0,
             "ticks": ""
            },
            "type": "contourcarpet"
           }
          ],
          "heatmap": [
           {
            "colorbar": {
             "outlinewidth": 0,
             "ticks": ""
            },
            "colorscale": [
             [
              0,
              "#0d0887"
             ],
             [
              0.1111111111111111,
              "#46039f"
             ],
             [
              0.2222222222222222,
              "#7201a8"
             ],
             [
              0.3333333333333333,
              "#9c179e"
             ],
             [
              0.4444444444444444,
              "#bd3786"
             ],
             [
              0.5555555555555556,
              "#d8576b"
             ],
             [
              0.6666666666666666,
              "#ed7953"
             ],
             [
              0.7777777777777778,
              "#fb9f3a"
             ],
             [
              0.8888888888888888,
              "#fdca26"
             ],
             [
              1,
              "#f0f921"
             ]
            ],
            "type": "heatmap"
           }
          ],
          "heatmapgl": [
           {
            "colorbar": {
             "outlinewidth": 0,
             "ticks": ""
            },
            "colorscale": [
             [
              0,
              "#0d0887"
             ],
             [
              0.1111111111111111,
              "#46039f"
             ],
             [
              0.2222222222222222,
              "#7201a8"
             ],
             [
              0.3333333333333333,
              "#9c179e"
             ],
             [
              0.4444444444444444,
              "#bd3786"
             ],
             [
              0.5555555555555556,
              "#d8576b"
             ],
             [
              0.6666666666666666,
              "#ed7953"
             ],
             [
              0.7777777777777778,
              "#fb9f3a"
             ],
             [
              0.8888888888888888,
              "#fdca26"
             ],
             [
              1,
              "#f0f921"
             ]
            ],
            "type": "heatmapgl"
           }
          ],
          "histogram": [
           {
            "marker": {
             "pattern": {
              "fillmode": "overlay",
              "size": 10,
              "solidity": 0.2
             }
            },
            "type": "histogram"
           }
          ],
          "histogram2d": [
           {
            "colorbar": {
             "outlinewidth": 0,
             "ticks": ""
            },
            "colorscale": [
             [
              0,
              "#0d0887"
             ],
             [
              0.1111111111111111,
              "#46039f"
             ],
             [
              0.2222222222222222,
              "#7201a8"
             ],
             [
              0.3333333333333333,
              "#9c179e"
             ],
             [
              0.4444444444444444,
              "#bd3786"
             ],
             [
              0.5555555555555556,
              "#d8576b"
             ],
             [
              0.6666666666666666,
              "#ed7953"
             ],
             [
              0.7777777777777778,
              "#fb9f3a"
             ],
             [
              0.8888888888888888,
              "#fdca26"
             ],
             [
              1,
              "#f0f921"
             ]
            ],
            "type": "histogram2d"
           }
          ],
          "histogram2dcontour": [
           {
            "colorbar": {
             "outlinewidth": 0,
             "ticks": ""
            },
            "colorscale": [
             [
              0,
              "#0d0887"
             ],
             [
              0.1111111111111111,
              "#46039f"
             ],
             [
              0.2222222222222222,
              "#7201a8"
             ],
             [
              0.3333333333333333,
              "#9c179e"
             ],
             [
              0.4444444444444444,
              "#bd3786"
             ],
             [
              0.5555555555555556,
              "#d8576b"
             ],
             [
              0.6666666666666666,
              "#ed7953"
             ],
             [
              0.7777777777777778,
              "#fb9f3a"
             ],
             [
              0.8888888888888888,
              "#fdca26"
             ],
             [
              1,
              "#f0f921"
             ]
            ],
            "type": "histogram2dcontour"
           }
          ],
          "mesh3d": [
           {
            "colorbar": {
             "outlinewidth": 0,
             "ticks": ""
            },
            "type": "mesh3d"
           }
          ],
          "parcoords": [
           {
            "line": {
             "colorbar": {
              "outlinewidth": 0,
              "ticks": ""
             }
            },
            "type": "parcoords"
           }
          ],
          "pie": [
           {
            "automargin": true,
            "type": "pie"
           }
          ],
          "scatter": [
           {
            "fillpattern": {
             "fillmode": "overlay",
             "size": 10,
             "solidity": 0.2
            },
            "type": "scatter"
           }
          ],
          "scatter3d": [
           {
            "line": {
             "colorbar": {
              "outlinewidth": 0,
              "ticks": ""
             }
            },
            "marker": {
             "colorbar": {
              "outlinewidth": 0,
              "ticks": ""
             }
            },
            "type": "scatter3d"
           }
          ],
          "scattercarpet": [
           {
            "marker": {
             "colorbar": {
              "outlinewidth": 0,
              "ticks": ""
             }
            },
            "type": "scattercarpet"
           }
          ],
          "scattergeo": [
           {
            "marker": {
             "colorbar": {
              "outlinewidth": 0,
              "ticks": ""
             }
            },
            "type": "scattergeo"
           }
          ],
          "scattergl": [
           {
            "marker": {
             "colorbar": {
              "outlinewidth": 0,
              "ticks": ""
             }
            },
            "type": "scattergl"
           }
          ],
          "scattermapbox": [
           {
            "marker": {
             "colorbar": {
              "outlinewidth": 0,
              "ticks": ""
             }
            },
            "type": "scattermapbox"
           }
          ],
          "scatterpolar": [
           {
            "marker": {
             "colorbar": {
              "outlinewidth": 0,
              "ticks": ""
             }
            },
            "type": "scatterpolar"
           }
          ],
          "scatterpolargl": [
           {
            "marker": {
             "colorbar": {
              "outlinewidth": 0,
              "ticks": ""
             }
            },
            "type": "scatterpolargl"
           }
          ],
          "scatterternary": [
           {
            "marker": {
             "colorbar": {
              "outlinewidth": 0,
              "ticks": ""
             }
            },
            "type": "scatterternary"
           }
          ],
          "surface": [
           {
            "colorbar": {
             "outlinewidth": 0,
             "ticks": ""
            },
            "colorscale": [
             [
              0,
              "#0d0887"
             ],
             [
              0.1111111111111111,
              "#46039f"
             ],
             [
              0.2222222222222222,
              "#7201a8"
             ],
             [
              0.3333333333333333,
              "#9c179e"
             ],
             [
              0.4444444444444444,
              "#bd3786"
             ],
             [
              0.5555555555555556,
              "#d8576b"
             ],
             [
              0.6666666666666666,
              "#ed7953"
             ],
             [
              0.7777777777777778,
              "#fb9f3a"
             ],
             [
              0.8888888888888888,
              "#fdca26"
             ],
             [
              1,
              "#f0f921"
             ]
            ],
            "type": "surface"
           }
          ],
          "table": [
           {
            "cells": {
             "fill": {
              "color": "#EBF0F8"
             },
             "line": {
              "color": "white"
             }
            },
            "header": {
             "fill": {
              "color": "#C8D4E3"
             },
             "line": {
              "color": "white"
             }
            },
            "type": "table"
           }
          ]
         },
         "layout": {
          "annotationdefaults": {
           "arrowcolor": "#2a3f5f",
           "arrowhead": 0,
           "arrowwidth": 1
          },
          "autotypenumbers": "strict",
          "coloraxis": {
           "colorbar": {
            "outlinewidth": 0,
            "ticks": ""
           }
          },
          "colorscale": {
           "diverging": [
            [
             0,
             "#8e0152"
            ],
            [
             0.1,
             "#c51b7d"
            ],
            [
             0.2,
             "#de77ae"
            ],
            [
             0.3,
             "#f1b6da"
            ],
            [
             0.4,
             "#fde0ef"
            ],
            [
             0.5,
             "#f7f7f7"
            ],
            [
             0.6,
             "#e6f5d0"
            ],
            [
             0.7,
             "#b8e186"
            ],
            [
             0.8,
             "#7fbc41"
            ],
            [
             0.9,
             "#4d9221"
            ],
            [
             1,
             "#276419"
            ]
           ],
           "sequential": [
            [
             0,
             "#0d0887"
            ],
            [
             0.1111111111111111,
             "#46039f"
            ],
            [
             0.2222222222222222,
             "#7201a8"
            ],
            [
             0.3333333333333333,
             "#9c179e"
            ],
            [
             0.4444444444444444,
             "#bd3786"
            ],
            [
             0.5555555555555556,
             "#d8576b"
            ],
            [
             0.6666666666666666,
             "#ed7953"
            ],
            [
             0.7777777777777778,
             "#fb9f3a"
            ],
            [
             0.8888888888888888,
             "#fdca26"
            ],
            [
             1,
             "#f0f921"
            ]
           ],
           "sequentialminus": [
            [
             0,
             "#0d0887"
            ],
            [
             0.1111111111111111,
             "#46039f"
            ],
            [
             0.2222222222222222,
             "#7201a8"
            ],
            [
             0.3333333333333333,
             "#9c179e"
            ],
            [
             0.4444444444444444,
             "#bd3786"
            ],
            [
             0.5555555555555556,
             "#d8576b"
            ],
            [
             0.6666666666666666,
             "#ed7953"
            ],
            [
             0.7777777777777778,
             "#fb9f3a"
            ],
            [
             0.8888888888888888,
             "#fdca26"
            ],
            [
             1,
             "#f0f921"
            ]
           ]
          },
          "colorway": [
           "#636efa",
           "#EF553B",
           "#00cc96",
           "#ab63fa",
           "#FFA15A",
           "#19d3f3",
           "#FF6692",
           "#B6E880",
           "#FF97FF",
           "#FECB52"
          ],
          "font": {
           "color": "#2a3f5f"
          },
          "geo": {
           "bgcolor": "white",
           "lakecolor": "white",
           "landcolor": "#E5ECF6",
           "showlakes": true,
           "showland": true,
           "subunitcolor": "white"
          },
          "hoverlabel": {
           "align": "left"
          },
          "hovermode": "closest",
          "mapbox": {
           "style": "light"
          },
          "paper_bgcolor": "white",
          "plot_bgcolor": "#E5ECF6",
          "polar": {
           "angularaxis": {
            "gridcolor": "white",
            "linecolor": "white",
            "ticks": ""
           },
           "bgcolor": "#E5ECF6",
           "radialaxis": {
            "gridcolor": "white",
            "linecolor": "white",
            "ticks": ""
           }
          },
          "scene": {
           "xaxis": {
            "backgroundcolor": "#E5ECF6",
            "gridcolor": "white",
            "gridwidth": 2,
            "linecolor": "white",
            "showbackground": true,
            "ticks": "",
            "zerolinecolor": "white"
           },
           "yaxis": {
            "backgroundcolor": "#E5ECF6",
            "gridcolor": "white",
            "gridwidth": 2,
            "linecolor": "white",
            "showbackground": true,
            "ticks": "",
            "zerolinecolor": "white"
           },
           "zaxis": {
            "backgroundcolor": "#E5ECF6",
            "gridcolor": "white",
            "gridwidth": 2,
            "linecolor": "white",
            "showbackground": true,
            "ticks": "",
            "zerolinecolor": "white"
           }
          },
          "shapedefaults": {
           "line": {
            "color": "#2a3f5f"
           }
          },
          "ternary": {
           "aaxis": {
            "gridcolor": "white",
            "linecolor": "white",
            "ticks": ""
           },
           "baxis": {
            "gridcolor": "white",
            "linecolor": "white",
            "ticks": ""
           },
           "bgcolor": "#E5ECF6",
           "caxis": {
            "gridcolor": "white",
            "linecolor": "white",
            "ticks": ""
           }
          },
          "title": {
           "x": 0.05
          },
          "xaxis": {
           "automargin": true,
           "gridcolor": "white",
           "linecolor": "white",
           "ticks": "",
           "title": {
            "standoff": 15
           },
           "zerolinecolor": "white",
           "zerolinewidth": 2
          },
          "yaxis": {
           "automargin": true,
           "gridcolor": "white",
           "linecolor": "white",
           "ticks": "",
           "title": {
            "standoff": 15
           },
           "zerolinecolor": "white",
           "zerolinewidth": 2
          }
         }
        },
        "title": {
         "text": "Prediction vs. Actual Results Difference<br>(▲=More Democratic than predicted, ▼=More Republican)"
        },
        "width": 600
       }
      }
     },
     "metadata": {},
     "output_type": "display_data"
    }
   ],
   "source": [
    "# Combine the two datasets into a single DataFrame\n",
    "combined_df = state_votes.merge(\n",
    "    tweet_counts_per_state[\n",
    "        [\"state_code\", \"democratic_proportion\", \"republican_proportion\", \"lead_size\"]\n",
    "    ],\n",
    "    left_on=\"state_po\",\n",
    "    right_on=\"state_code\",\n",
    "    how=\"left\",\n",
    ")\n",
    "\n",
    "# Calculate the difference in lead size between the two datasets\n",
    "combined_df[\"lead_size_diff\"] = combined_df[\"lead_size_x\"] - combined_df[\"lead_size_y\"]\n",
    "\n",
    "# Define state centers\n",
    "state_centers = {\n",
    "    \"AL\": [32.806671, -86.791130],\n",
    "    \"AK\": [61.370716, -152.404419],\n",
    "    \"AZ\": [33.4484, -112.0740],\n",
    "    \"AR\": [34.969704, -92.373123],\n",
    "    \"CA\": [36.116203, -119.681564],\n",
    "    \"CO\": [39.059811, -105.311104],\n",
    "    \"CT\": [41.597782, -72.755371],\n",
    "    \"DE\": [39.318523, -75.507141],\n",
    "    \"FL\": [27.766279, -81.686783],\n",
    "    \"GA\": [33.040619, -83.643074],\n",
    "    \"HI\": [21.094318, -157.498337],\n",
    "    \"ID\": [44.240459, -114.478828],\n",
    "    \"IL\": [40.349457, -88.986137],\n",
    "    \"IN\": [39.849426, -86.258278],\n",
    "    \"IA\": [42.011539, -93.210526],\n",
    "    \"KS\": [38.526600, -96.726486],\n",
    "    \"KY\": [37.668140, -84.670067],\n",
    "    \"LA\": [31.169546, -91.867805],\n",
    "    \"ME\": [44.693947, -69.381927],\n",
    "    \"MD\": [39.063946, -76.802101],\n",
    "    \"MA\": [42.230171, -71.530106],\n",
    "    \"MI\": [43.326618, -84.536095],\n",
    "    \"MN\": [45.694454, -93.900192],\n",
    "    \"MS\": [32.741646, -89.678696],\n",
    "    \"MO\": [38.456085, -92.288368],\n",
    "    \"MT\": [46.921925, -110.454353],\n",
    "    \"NE\": [41.125370, -98.268082],\n",
    "    \"NV\": [38.313515, -117.055374],\n",
    "    \"NH\": [43.452492, -71.563896],\n",
    "    \"NJ\": [40.298904, -74.521011],\n",
    "    \"NM\": [34.840515, -106.248482],\n",
    "    \"NY\": [42.165726, -74.948051],\n",
    "    \"NC\": [35.630066, -79.806419],\n",
    "    \"ND\": [47.528912, -99.784012],\n",
    "    \"OH\": [40.388783, -82.764915],\n",
    "    \"OK\": [35.565342, -96.928917],\n",
    "    \"OR\": [44.572021, -122.070938],\n",
    "    \"PA\": [40.590752, -77.209755],\n",
    "    \"RI\": [41.680893, -71.511780],\n",
    "    \"SC\": [33.856892, -80.945007],\n",
    "    \"SD\": [44.299782, -99.438828],\n",
    "    \"TN\": [35.747845, -86.692345],\n",
    "    \"TX\": [31.054487, -97.563461],\n",
    "    \"UT\": [40.150032, -111.862434],\n",
    "    \"VT\": [44.045876, -72.710686],\n",
    "    \"VA\": [37.769337, -78.169968],\n",
    "    \"WA\": [47.400902, -121.490494],\n",
    "    \"WV\": [38.491226, -80.954456],\n",
    "    \"WI\": [44.268543, -89.616508],\n",
    "    \"WY\": [42.755966, -107.302490],\n",
    "}\n",
    "\n",
    "\n",
    "# Create base map\n",
    "fig = go.Figure()\n",
    "\n",
    "# Add choropleth base layer\n",
    "fig.add_trace(\n",
    "    go.Choropleth(\n",
    "        locations=combined_df[\"state_po\"],\n",
    "        locationmode=\"USA-states\",\n",
    "        colorscale=\"RdBu\",\n",
    "        colorbar=dict(\n",
    "            title=\"Lead Size Difference\",\n",
    "            ticktext=[\"More Republican\", \"No Change\", \"More Democratic\"],\n",
    "            tickvals=[-10, 0, 10],\n",
    "            tickmode=\"array\",\n",
    "        ),\n",
    "    )\n",
    ")\n",
    "\n",
    "# Add scattergeo layer for arrows\n",
    "for idx, row in combined_df.iterrows():\n",
    "    state = row[\"state_po\"]\n",
    "    if state in state_centers:\n",
    "        diff = row[\"lead_size_diff\"]\n",
    "        if diff < 1 and diff >= 0:  # Make sure arrow is visible\n",
    "            diff = 1\n",
    "        elif diff > -1 and diff <= 0:\n",
    "            diff = -1\n",
    "        if abs(diff) > 0:\n",
    "            # Calculate arrow properties\n",
    "            arrow_color = \"blue\" if diff > 0 else \"red\"\n",
    "            arrow_size = min(abs(diff) * 0.5, 10)  # Scale arrow size\n",
    "\n",
    "            # Add arrow as scatter point\n",
    "            fig.add_trace(\n",
    "                go.Scattergeo(\n",
    "                    lon=[state_centers[state][1]],\n",
    "                    lat=[state_centers[state][0]],\n",
    "                    mode=\"markers+text\",\n",
    "                    text=\"▲\" if diff > 0 else \"▼\",\n",
    "                    textposition=\"middle center\",\n",
    "                    hovertext=f\"{state}: {diff:.1f}%\",\n",
    "                    textfont=dict(size=arrow_size * 2, color=arrow_color),\n",
    "                    marker=dict(\n",
    "                        size=0, color=arrow_color  # Hide the marker, show only text\n",
    "                    ),\n",
    "                    showlegend=False,\n",
    "                )\n",
    "            )\n",
    "\n",
    "fig.update_layout(\n",
    "    title_text=\"Prediction vs. Actual Results Difference<br>(▲=More Democratic than predicted, ▼=More Republican)\",\n",
    "    geo=dict(\n",
    "        scope=\"usa\",\n",
    "        projection_type=\"albers usa\",  # Use Albers USA projection\n",
    "        showland=True,\n",
    "        landcolor=\"rgb(240, 240, 240)\",\n",
    "        showlakes=True,\n",
    "        lakecolor=\"rgb(255, 255, 255)\",\n",
    "        subunitcolor=\"rgb(217, 217, 217)\",\n",
    "        countrycolor=\"rgb(217, 217, 217)\",\n",
    "    ),\n",
    "    height=400,\n",
    "    width=600,\n",
    ")\n",
    "\n",
    "fig.show()"
   ]
  },
  {
   "cell_type": "markdown",
   "metadata": {},
   "source": [
    "This demonstration proves that through our processing of tweets, Twitter is still more liberal than conservative."
   ]
  },
  {
   "cell_type": "markdown",
   "metadata": {},
   "source": [
    "The following code will try to adjust this bias by giving states that have a history of voting to one party, a stronger bias to that party. If a state such as Texas votes dor the Republican every election, then it will have a bias towards the republican side"
   ]
  },
  {
   "cell_type": "code",
   "execution_count": 30,
   "metadata": {},
   "outputs": [
    {
     "name": "stderr",
     "output_type": "stream",
     "text": [
      "C:\\Users\\musti\\AppData\\Local\\Temp\\ipykernel_8500\\1214805705.py:27: FutureWarning:\n",
      "\n",
      "Setting an item of incompatible dtype is deprecated and will raise an error in a future version of pandas. Value '0.5666672397785496' has dtype incompatible with int64, please explicitly cast to a compatible dtype first.\n",
      "\n"
     ]
    },
    {
     "data": {
      "application/vnd.plotly.v1+json": {
       "config": {
        "plotlyServerURL": "https://plot.ly"
       },
       "data": [
        {
         "coloraxis": "coloraxis",
         "customdata": [
          [
           32335,
           0.6519238748577605,
           0.34807612514223957
          ],
          [
           24283,
           0.6945433170118067,
           0.3054566829881933
          ],
          [
           17262,
           0.5062859144928881,
           0.4937140855071119
          ],
          [
           16621,
           0.5176609239944758,
           0.48233907600552406
          ],
          [
           9416,
           0.9212435286767112,
           0.07875647132328871
          ],
          [
           7387,
           0.62791809604394,
           0.37208190395605995
          ],
          [
           7082,
           0.6167600262871471,
           0.3832399737128529
          ],
          [
           5147,
           0.5684204235063773,
           0.43157957649362283
          ],
          [
           4877,
           0.7193741656954181,
           0.2806258343045819
          ],
          [
           4237,
           0.5539556194278836,
           0.4460443805721163
          ],
          [
           3811,
           0.5402249296076111,
           0.45977507039238885
          ],
          [
           3771,
           0.5467521353754928,
           0.45324786462450717
          ],
          [
           3553,
           0.4941273766413803,
           0.5058726233586197
          ],
          [
           3531,
           0.6036112343888702,
           0.3963887656111298
          ],
          [
           3357,
           0.5444698470863814,
           0.4555301529136187
          ],
          [
           2985,
           0.6475962405864935,
           0.35240375941350643
          ],
          [
           2903,
           0.6036756561467314,
           0.3963243438532687
          ],
          [
           2780,
           0.5547503173928581,
           0.4452496826071419
          ],
          [
           2645,
           0.4766839085027566,
           0.5233160914972433
          ],
          [
           2644,
           0.6632363059174083,
           0.3367636940825917
          ],
          [
           2534,
           0.5448848790880794,
           0.45511512091192063
          ],
          [
           2385,
           0.5632570885860924,
           0.43674291141390753
          ],
          [
           2052,
           0.5425902152769296,
           0.4574097847230704
          ],
          [
           1869,
           0.6380857663259705,
           0.3619142336740294
          ],
          [
           1579,
           0.49922244027282947,
           0.5007775597271705
          ],
          [
           1515,
           0.47461943945978263,
           0.5253805605402174
          ],
          [
           1238,
           0.49668744864150816,
           0.5033125513584918
          ],
          [
           1236,
           0.4922177564114194,
           0.5077822435885806
          ],
          [
           1114,
           0.6110915300948153,
           0.38890846990518474
          ],
          [
           1076,
           0.46274675102525537,
           0.5372532489747447
          ],
          [
           991,
           0.49311630377706006,
           0.5068836962229398
          ],
          [
           910,
           0.3162166766526725,
           0.6837833233473274
          ],
          [
           880,
           0.6077596330980851,
           0.3922403669019149
          ],
          [
           870,
           0.7124623853057029,
           0.28753761469429695
          ],
          [
           843,
           0.46677888603427664,
           0.5332211139657232
          ],
          [
           776,
           0.6706797372187413,
           0.32932026278125853
          ],
          [
           632,
           0.42287652903163453,
           0.5771234709683655
          ],
          [
           601,
           0.6890602330510845,
           0.31093976694891545
          ],
          [
           530,
           0.607443731030642,
           0.3925562689693582
          ],
          [
           508,
           0.5120683268604279,
           0.4879316731395721
          ],
          [
           483,
           0.31759896318579955,
           0.6824010368142005
          ],
          [
           478,
           0.4583429081012143,
           0.5416570918987857
          ],
          [
           432,
           0.6102133102346113,
           0.3897866897653887
          ],
          [
           406,
           0.5254459145490803,
           0.47455408545091965
          ],
          [
           369,
           0.5449508844068559,
           0.45504911559314404
          ],
          [
           342,
           0.663693272202966,
           0.3363067277970341
          ],
          [
           300,
           0.6781473036197072,
           0.3218526963802929
          ],
          [
           290,
           0.4956885893605388,
           0.5043114106394613
          ],
          [
           263,
           0.3724921993100697,
           0.6275078006899303
          ],
          [
           258,
           0.4589754497863158,
           0.5410245502136841
          ],
          [
           89,
           0.5259737730711509,
           0.47402622692884916
          ]
         ],
         "geo": "geo",
         "hovertemplate": "<b>%{hovertext}</b><br><br>state_code=%{location}<br>tweet_count=%{customdata[0]}<br>Democratic Proportion=%{z:.3f}<br>republican_proportion=%{customdata[2]:.3f}<extra></extra>",
         "hovertext": [
          "California",
          "New York",
          "Texas",
          "Florida",
          "District of Columbia",
          "Illinois",
          "Pennsylvania",
          "New Jersey",
          "Massachusetts",
          "Ohio",
          "Colorado",
          "North Carolina",
          "Arizona",
          "Michigan",
          "Georgia",
          "Washington",
          "Oregon",
          "Virginia",
          "Tennessee",
          "Maryland",
          "Nevada",
          "Missouri",
          "Minnesota",
          "Wisconsin",
          "Indiana",
          "Kentucky",
          "South Carolina",
          "Louisiana",
          "Connecticut",
          "Kansas",
          "Alabama",
          "Utah",
          "Iowa",
          "Vermont",
          "Oklahoma",
          "Hawaii",
          "Idaho",
          "Arkansas",
          "New Mexico",
          "North Dakota",
          "Alaska",
          "Nebraska",
          "Maine",
          "New Hampshire",
          "West Virginia",
          "Delaware",
          "Rhode Island",
          "Montana",
          "Wyoming",
          "Mississippi",
          "South Dakota"
         ],
         "locationmode": "USA-states",
         "locations": [
          "CA",
          "NY",
          "TX",
          "FL",
          "DC",
          "IL",
          "PA",
          "NJ",
          "MA",
          "OH",
          "CO",
          "NC",
          "AZ",
          "MI",
          "GA",
          "WA",
          "OR",
          "VA",
          "TN",
          "MD",
          "NV",
          "MO",
          "MN",
          "WI",
          "IN",
          "KY",
          "SC",
          "LA",
          "CT",
          "KS",
          "AL",
          "UT",
          "IA",
          "VT",
          "OK",
          "HI",
          "ID",
          "AR",
          "NM",
          "ND",
          "AK",
          "NE",
          "ME",
          "NH",
          "WV",
          "DE",
          "RI",
          "MT",
          "WY",
          "MS",
          "SD"
         ],
         "name": "",
         "type": "choropleth",
         "z": [
          0.6519238748577605,
          0.6945433170118067,
          0.5062859144928881,
          0.5176609239944758,
          0.9212435286767112,
          0.62791809604394,
          0.6167600262871471,
          0.5684204235063773,
          0.7193741656954181,
          0.5539556194278836,
          0.5402249296076111,
          0.5467521353754928,
          0.4941273766413803,
          0.6036112343888702,
          0.5444698470863814,
          0.6475962405864935,
          0.6036756561467314,
          0.5547503173928581,
          0.4766839085027566,
          0.6632363059174083,
          0.5448848790880794,
          0.5632570885860924,
          0.5425902152769296,
          0.6380857663259705,
          0.49922244027282947,
          0.47461943945978263,
          0.49668744864150816,
          0.4922177564114194,
          0.6110915300948153,
          0.46274675102525537,
          0.49311630377706006,
          0.3162166766526725,
          0.6077596330980851,
          0.7124623853057029,
          0.46677888603427664,
          0.6706797372187413,
          0.42287652903163453,
          0.6890602330510845,
          0.607443731030642,
          0.5120683268604279,
          0.31759896318579955,
          0.4583429081012143,
          0.6102133102346113,
          0.5254459145490803,
          0.5449508844068559,
          0.663693272202966,
          0.6781473036197072,
          0.4956885893605388,
          0.3724921993100697,
          0.4589754497863158,
          0.5259737730711509
         ]
        }
       ],
       "layout": {
        "coloraxis": {
         "cmax": 0.7193741656954181,
         "cmid": 0.5,
         "cmin": 0.3162166766526725,
         "colorbar": {
          "tickmode": "array",
          "ticktext": [
           "0%",
           "20%",
           "40%",
           "60%",
           "80%",
           "100%"
          ],
          "tickvals": [
           0.3162166766526725,
           0.3968481744612216,
           0.4774796722697707,
           0.5581111700783199,
           0.6387426678868691,
           0.7193741656954181
          ],
          "title": {
           "text": "Democratic Proportion"
          }
         },
         "colorscale": [
          [
           0,
           "rgb(103,0,31)"
          ],
          [
           0.2,
           "rgb(214,96,77)"
          ],
          [
           0.4,
           "rgb(253,219,199)"
          ],
          [
           0.6,
           "rgb(209,229,240)"
          ],
          [
           0.8,
           "rgb(67,147,195)"
          ],
          [
           1,
           "rgb(5,48,97)"
          ]
         ]
        },
        "geo": {
         "center": {},
         "coastlinecolor": "Black",
         "domain": {
          "x": [
           0,
           1
          ],
          "y": [
           0,
           1
          ]
         },
         "lakecolor": "white",
         "landcolor": "white",
         "projection": {
          "type": "albers usa"
         },
         "scope": "usa",
         "showcoastlines": true,
         "showland": true
        },
        "legend": {
         "tracegroupgap": 0
        },
        "margin": {
         "t": 60
        },
        "template": {
         "data": {
          "bar": [
           {
            "error_x": {
             "color": "#2a3f5f"
            },
            "error_y": {
             "color": "#2a3f5f"
            },
            "marker": {
             "line": {
              "color": "#E5ECF6",
              "width": 0.5
             },
             "pattern": {
              "fillmode": "overlay",
              "size": 10,
              "solidity": 0.2
             }
            },
            "type": "bar"
           }
          ],
          "barpolar": [
           {
            "marker": {
             "line": {
              "color": "#E5ECF6",
              "width": 0.5
             },
             "pattern": {
              "fillmode": "overlay",
              "size": 10,
              "solidity": 0.2
             }
            },
            "type": "barpolar"
           }
          ],
          "carpet": [
           {
            "aaxis": {
             "endlinecolor": "#2a3f5f",
             "gridcolor": "white",
             "linecolor": "white",
             "minorgridcolor": "white",
             "startlinecolor": "#2a3f5f"
            },
            "baxis": {
             "endlinecolor": "#2a3f5f",
             "gridcolor": "white",
             "linecolor": "white",
             "minorgridcolor": "white",
             "startlinecolor": "#2a3f5f"
            },
            "type": "carpet"
           }
          ],
          "choropleth": [
           {
            "colorbar": {
             "outlinewidth": 0,
             "ticks": ""
            },
            "type": "choropleth"
           }
          ],
          "contour": [
           {
            "colorbar": {
             "outlinewidth": 0,
             "ticks": ""
            },
            "colorscale": [
             [
              0,
              "#0d0887"
             ],
             [
              0.1111111111111111,
              "#46039f"
             ],
             [
              0.2222222222222222,
              "#7201a8"
             ],
             [
              0.3333333333333333,
              "#9c179e"
             ],
             [
              0.4444444444444444,
              "#bd3786"
             ],
             [
              0.5555555555555556,
              "#d8576b"
             ],
             [
              0.6666666666666666,
              "#ed7953"
             ],
             [
              0.7777777777777778,
              "#fb9f3a"
             ],
             [
              0.8888888888888888,
              "#fdca26"
             ],
             [
              1,
              "#f0f921"
             ]
            ],
            "type": "contour"
           }
          ],
          "contourcarpet": [
           {
            "colorbar": {
             "outlinewidth": 0,
             "ticks": ""
            },
            "type": "contourcarpet"
           }
          ],
          "heatmap": [
           {
            "colorbar": {
             "outlinewidth": 0,
             "ticks": ""
            },
            "colorscale": [
             [
              0,
              "#0d0887"
             ],
             [
              0.1111111111111111,
              "#46039f"
             ],
             [
              0.2222222222222222,
              "#7201a8"
             ],
             [
              0.3333333333333333,
              "#9c179e"
             ],
             [
              0.4444444444444444,
              "#bd3786"
             ],
             [
              0.5555555555555556,
              "#d8576b"
             ],
             [
              0.6666666666666666,
              "#ed7953"
             ],
             [
              0.7777777777777778,
              "#fb9f3a"
             ],
             [
              0.8888888888888888,
              "#fdca26"
             ],
             [
              1,
              "#f0f921"
             ]
            ],
            "type": "heatmap"
           }
          ],
          "heatmapgl": [
           {
            "colorbar": {
             "outlinewidth": 0,
             "ticks": ""
            },
            "colorscale": [
             [
              0,
              "#0d0887"
             ],
             [
              0.1111111111111111,
              "#46039f"
             ],
             [
              0.2222222222222222,
              "#7201a8"
             ],
             [
              0.3333333333333333,
              "#9c179e"
             ],
             [
              0.4444444444444444,
              "#bd3786"
             ],
             [
              0.5555555555555556,
              "#d8576b"
             ],
             [
              0.6666666666666666,
              "#ed7953"
             ],
             [
              0.7777777777777778,
              "#fb9f3a"
             ],
             [
              0.8888888888888888,
              "#fdca26"
             ],
             [
              1,
              "#f0f921"
             ]
            ],
            "type": "heatmapgl"
           }
          ],
          "histogram": [
           {
            "marker": {
             "pattern": {
              "fillmode": "overlay",
              "size": 10,
              "solidity": 0.2
             }
            },
            "type": "histogram"
           }
          ],
          "histogram2d": [
           {
            "colorbar": {
             "outlinewidth": 0,
             "ticks": ""
            },
            "colorscale": [
             [
              0,
              "#0d0887"
             ],
             [
              0.1111111111111111,
              "#46039f"
             ],
             [
              0.2222222222222222,
              "#7201a8"
             ],
             [
              0.3333333333333333,
              "#9c179e"
             ],
             [
              0.4444444444444444,
              "#bd3786"
             ],
             [
              0.5555555555555556,
              "#d8576b"
             ],
             [
              0.6666666666666666,
              "#ed7953"
             ],
             [
              0.7777777777777778,
              "#fb9f3a"
             ],
             [
              0.8888888888888888,
              "#fdca26"
             ],
             [
              1,
              "#f0f921"
             ]
            ],
            "type": "histogram2d"
           }
          ],
          "histogram2dcontour": [
           {
            "colorbar": {
             "outlinewidth": 0,
             "ticks": ""
            },
            "colorscale": [
             [
              0,
              "#0d0887"
             ],
             [
              0.1111111111111111,
              "#46039f"
             ],
             [
              0.2222222222222222,
              "#7201a8"
             ],
             [
              0.3333333333333333,
              "#9c179e"
             ],
             [
              0.4444444444444444,
              "#bd3786"
             ],
             [
              0.5555555555555556,
              "#d8576b"
             ],
             [
              0.6666666666666666,
              "#ed7953"
             ],
             [
              0.7777777777777778,
              "#fb9f3a"
             ],
             [
              0.8888888888888888,
              "#fdca26"
             ],
             [
              1,
              "#f0f921"
             ]
            ],
            "type": "histogram2dcontour"
           }
          ],
          "mesh3d": [
           {
            "colorbar": {
             "outlinewidth": 0,
             "ticks": ""
            },
            "type": "mesh3d"
           }
          ],
          "parcoords": [
           {
            "line": {
             "colorbar": {
              "outlinewidth": 0,
              "ticks": ""
             }
            },
            "type": "parcoords"
           }
          ],
          "pie": [
           {
            "automargin": true,
            "type": "pie"
           }
          ],
          "scatter": [
           {
            "fillpattern": {
             "fillmode": "overlay",
             "size": 10,
             "solidity": 0.2
            },
            "type": "scatter"
           }
          ],
          "scatter3d": [
           {
            "line": {
             "colorbar": {
              "outlinewidth": 0,
              "ticks": ""
             }
            },
            "marker": {
             "colorbar": {
              "outlinewidth": 0,
              "ticks": ""
             }
            },
            "type": "scatter3d"
           }
          ],
          "scattercarpet": [
           {
            "marker": {
             "colorbar": {
              "outlinewidth": 0,
              "ticks": ""
             }
            },
            "type": "scattercarpet"
           }
          ],
          "scattergeo": [
           {
            "marker": {
             "colorbar": {
              "outlinewidth": 0,
              "ticks": ""
             }
            },
            "type": "scattergeo"
           }
          ],
          "scattergl": [
           {
            "marker": {
             "colorbar": {
              "outlinewidth": 0,
              "ticks": ""
             }
            },
            "type": "scattergl"
           }
          ],
          "scattermapbox": [
           {
            "marker": {
             "colorbar": {
              "outlinewidth": 0,
              "ticks": ""
             }
            },
            "type": "scattermapbox"
           }
          ],
          "scatterpolar": [
           {
            "marker": {
             "colorbar": {
              "outlinewidth": 0,
              "ticks": ""
             }
            },
            "type": "scatterpolar"
           }
          ],
          "scatterpolargl": [
           {
            "marker": {
             "colorbar": {
              "outlinewidth": 0,
              "ticks": ""
             }
            },
            "type": "scatterpolargl"
           }
          ],
          "scatterternary": [
           {
            "marker": {
             "colorbar": {
              "outlinewidth": 0,
              "ticks": ""
             }
            },
            "type": "scatterternary"
           }
          ],
          "surface": [
           {
            "colorbar": {
             "outlinewidth": 0,
             "ticks": ""
            },
            "colorscale": [
             [
              0,
              "#0d0887"
             ],
             [
              0.1111111111111111,
              "#46039f"
             ],
             [
              0.2222222222222222,
              "#7201a8"
             ],
             [
              0.3333333333333333,
              "#9c179e"
             ],
             [
              0.4444444444444444,
              "#bd3786"
             ],
             [
              0.5555555555555556,
              "#d8576b"
             ],
             [
              0.6666666666666666,
              "#ed7953"
             ],
             [
              0.7777777777777778,
              "#fb9f3a"
             ],
             [
              0.8888888888888888,
              "#fdca26"
             ],
             [
              1,
              "#f0f921"
             ]
            ],
            "type": "surface"
           }
          ],
          "table": [
           {
            "cells": {
             "fill": {
              "color": "#EBF0F8"
             },
             "line": {
              "color": "white"
             }
            },
            "header": {
             "fill": {
              "color": "#C8D4E3"
             },
             "line": {
              "color": "white"
             }
            },
            "type": "table"
           }
          ]
         },
         "layout": {
          "annotationdefaults": {
           "arrowcolor": "#2a3f5f",
           "arrowhead": 0,
           "arrowwidth": 1
          },
          "autotypenumbers": "strict",
          "coloraxis": {
           "colorbar": {
            "outlinewidth": 0,
            "ticks": ""
           }
          },
          "colorscale": {
           "diverging": [
            [
             0,
             "#8e0152"
            ],
            [
             0.1,
             "#c51b7d"
            ],
            [
             0.2,
             "#de77ae"
            ],
            [
             0.3,
             "#f1b6da"
            ],
            [
             0.4,
             "#fde0ef"
            ],
            [
             0.5,
             "#f7f7f7"
            ],
            [
             0.6,
             "#e6f5d0"
            ],
            [
             0.7,
             "#b8e186"
            ],
            [
             0.8,
             "#7fbc41"
            ],
            [
             0.9,
             "#4d9221"
            ],
            [
             1,
             "#276419"
            ]
           ],
           "sequential": [
            [
             0,
             "#0d0887"
            ],
            [
             0.1111111111111111,
             "#46039f"
            ],
            [
             0.2222222222222222,
             "#7201a8"
            ],
            [
             0.3333333333333333,
             "#9c179e"
            ],
            [
             0.4444444444444444,
             "#bd3786"
            ],
            [
             0.5555555555555556,
             "#d8576b"
            ],
            [
             0.6666666666666666,
             "#ed7953"
            ],
            [
             0.7777777777777778,
             "#fb9f3a"
            ],
            [
             0.8888888888888888,
             "#fdca26"
            ],
            [
             1,
             "#f0f921"
            ]
           ],
           "sequentialminus": [
            [
             0,
             "#0d0887"
            ],
            [
             0.1111111111111111,
             "#46039f"
            ],
            [
             0.2222222222222222,
             "#7201a8"
            ],
            [
             0.3333333333333333,
             "#9c179e"
            ],
            [
             0.4444444444444444,
             "#bd3786"
            ],
            [
             0.5555555555555556,
             "#d8576b"
            ],
            [
             0.6666666666666666,
             "#ed7953"
            ],
            [
             0.7777777777777778,
             "#fb9f3a"
            ],
            [
             0.8888888888888888,
             "#fdca26"
            ],
            [
             1,
             "#f0f921"
            ]
           ]
          },
          "colorway": [
           "#636efa",
           "#EF553B",
           "#00cc96",
           "#ab63fa",
           "#FFA15A",
           "#19d3f3",
           "#FF6692",
           "#B6E880",
           "#FF97FF",
           "#FECB52"
          ],
          "font": {
           "color": "#2a3f5f"
          },
          "geo": {
           "bgcolor": "white",
           "lakecolor": "white",
           "landcolor": "#E5ECF6",
           "showlakes": true,
           "showland": true,
           "subunitcolor": "white"
          },
          "hoverlabel": {
           "align": "left"
          },
          "hovermode": "closest",
          "mapbox": {
           "style": "light"
          },
          "paper_bgcolor": "white",
          "plot_bgcolor": "#E5ECF6",
          "polar": {
           "angularaxis": {
            "gridcolor": "white",
            "linecolor": "white",
            "ticks": ""
           },
           "bgcolor": "#E5ECF6",
           "radialaxis": {
            "gridcolor": "white",
            "linecolor": "white",
            "ticks": ""
           }
          },
          "scene": {
           "xaxis": {
            "backgroundcolor": "#E5ECF6",
            "gridcolor": "white",
            "gridwidth": 2,
            "linecolor": "white",
            "showbackground": true,
            "ticks": "",
            "zerolinecolor": "white"
           },
           "yaxis": {
            "backgroundcolor": "#E5ECF6",
            "gridcolor": "white",
            "gridwidth": 2,
            "linecolor": "white",
            "showbackground": true,
            "ticks": "",
            "zerolinecolor": "white"
           },
           "zaxis": {
            "backgroundcolor": "#E5ECF6",
            "gridcolor": "white",
            "gridwidth": 2,
            "linecolor": "white",
            "showbackground": true,
            "ticks": "",
            "zerolinecolor": "white"
           }
          },
          "shapedefaults": {
           "line": {
            "color": "#2a3f5f"
           }
          },
          "ternary": {
           "aaxis": {
            "gridcolor": "white",
            "linecolor": "white",
            "ticks": ""
           },
           "baxis": {
            "gridcolor": "white",
            "linecolor": "white",
            "ticks": ""
           },
           "bgcolor": "#E5ECF6",
           "caxis": {
            "gridcolor": "white",
            "linecolor": "white",
            "ticks": ""
           }
          },
          "title": {
           "x": 0.05
          },
          "xaxis": {
           "automargin": true,
           "gridcolor": "white",
           "linecolor": "white",
           "ticks": "",
           "title": {
            "standoff": 15
           },
           "zerolinecolor": "white",
           "zerolinewidth": 2
          },
          "yaxis": {
           "automargin": true,
           "gridcolor": "white",
           "linecolor": "white",
           "ticks": "",
           "title": {
            "standoff": 15
           },
           "zerolinecolor": "white",
           "zerolinewidth": 2
          }
         }
        },
        "title": {
         "text": "Tweet Sentiment by State adjusted for prior election bias",
         "x": 0.5
        }
       }
      }
     },
     "metadata": {},
     "output_type": "display_data"
    }
   ],
   "source": [
    "# Read voting data from 1976 to 2020 elections\n",
    "df_pres = pd.read_csv(cwd+\"/data/1976-2020-president.csv\")\n",
    "# filter for only democrat and republican parties\n",
    "df_pres = df_pres[df_pres[\"party_detailed\"].isin([\"DEMOCRAT\", \"REPUBLICAN\"])]\n",
    "# filter for only for presidential elections\n",
    "df_pres = df_pres[df_pres[\"office\"] == \"US PRESIDENT\"]\n",
    "## remove 2020 year\n",
    "df_pres = df_pres[df_pres[\"year\"] != 2020]\n",
    "# The data frame has the following columns\n",
    "\n",
    "\n",
    "\n",
    "sentiment_counts = sentiment_counts_no_bias.copy()\n",
    "\n",
    "# add ratio column to the dataframe\n",
    "# the ratio is the proportion of votes for a part in a state then group by state and party_detailed and calculate the mean of the ratio \n",
    "# The resulting data frame has the following columns\n",
    "# State, state_po, year, party_detailed, ratio\n",
    "# Example of the first 2 rows\n",
    "# ALABAMA AL 1976 DEMOCRAT 0.42767312377566535\n",
    "# ALABAMA AL 1976 REPUBLICAN 0.5723268762243347\n",
    "\n",
    "df_pres[\"ratio\"] = 0\n",
    "for row in df_pres.iterrows():\n",
    "    year = row[1][\"year\"]\n",
    "    total_votes = df_pres[(df_pres[\"year\"] == year) & (df_pres[\"state\"] == row[1][\"state\"])][\"candidatevotes\"].sum()\n",
    "    df_pres.loc[row[0], \"ratio\"] = row[1][\"candidatevotes\"] / total_votes\n",
    "df_pres = (\n",
    "    df_pres.groupby([\"state\", \"state_po\", \"party_detailed\"])[\"ratio\"]\n",
    "    .mean()\n",
    "    .reset_index()\n",
    ")\n",
    "\n",
    "# Add the bias to the unadjusted sentiment proportions\n",
    "for row in sentiment_counts.iterrows():\n",
    "    state = (row[0]).upper()\n",
    "    dem_ratio = (\n",
    "        df_pres[\n",
    "            (df_pres[\"state\"] == state) & (df_pres[\"party_detailed\"] == \"DEMOCRAT\")\n",
    "        ][\"ratio\"].values[0]\n",
    "        * row[1][\"democratic_proportion\"]\n",
    "    )\n",
    "    rep_ratio = (\n",
    "        df_pres[\n",
    "            (df_pres[\"state\"] == state) & (df_pres[\"party_detailed\"] == \"REPUBLICAN\")\n",
    "        ][\"ratio\"].values[0]\n",
    "        * row[1][\"republican_proportion\"]\n",
    "    )\n",
    "\n",
    "    \n",
    "    sentiment_counts.loc[row[0], \"democratic_proportion\"] = dem_ratio / (\n",
    "        dem_ratio + rep_ratio\n",
    "    )\n",
    "    sentiment_counts.loc[row[0], \"republican_proportion\"] = rep_ratio / (\n",
    "        dem_ratio + rep_ratio\n",
    "    )\n",
    "\n",
    "\n",
    "\n",
    "tweet_counts_per_state = filtered_tweets[\"state\"].value_counts().reset_index()\n",
    "tweet_counts_per_state.columns = [\"state\", \"tweet_count\"]\n",
    "tweet_counts_per_state[\"state_code\"] = tweet_counts_per_state[\"state\"].map(\n",
    "    state_abbreviations\n",
    ")\n",
    "\n",
    "\n",
    "# Merge sentiment proportions with tweet counts\n",
    "tweet_counts_per_state = tweet_counts_per_state.merge(\n",
    "    sentiment_counts, left_on=\"state\", right_index=True\n",
    ")\n",
    "\n",
    "min_dem_prop = tweet_counts_per_state[\"democratic_proportion\"].min()\n",
    "max_dem_prop = tweet_counts_per_state[\"democratic_proportion\"].nlargest(2).iloc[-1]\n",
    "\n",
    "\n",
    "# Create the choropleth map\n",
    "fig = px.choropleth(\n",
    "    tweet_counts_per_state,  \n",
    "    locations=\"state_code\",  # State codes\n",
    "    locationmode=\"USA-states\",  # Use US states mode\n",
    "    color=\"democratic_proportion\",  # Color by democratic proportion\n",
    "    hover_name=\"state\",  # Hover over the state to show name\n",
    "    hover_data={\n",
    "        \"tweet_count\": True,\n",
    "        \"democratic_proportion\": \":.3f\",\n",
    "        \"republican_proportion\": \":.3f\",\n",
    "    },\n",
    "    color_continuous_scale=px.colors.diverging.RdBu[::2],\n",
    "    labels={\"democratic_proportion\": \"Democratic Proportion\"},\n",
    "    # Define discrete color steps based on proportion\n",
    "    range_color=[min_dem_prop,max_dem_prop], \n",
    "    color_continuous_midpoint=0.5,\n",
    ")\n",
    "\n",
    "\n",
    "\n",
    "# Update layout for better visualization\n",
    "fig.update_layout(\n",
    "    title_text=\"Tweet Sentiment by State adjusted for prior election bias\",\n",
    "    title_x=0.5,\n",
    "    geo=dict(\n",
    "        scope=\"usa\",\n",
    "        projection_type=\"albers usa\",\n",
    "        showcoastlines=True,\n",
    "        coastlinecolor=\"Black\",\n",
    "        showland=True,\n",
    "        landcolor=\"white\",\n",
    "        lakecolor=\"white\",\n",
    "        \n",
    "    ),\n",
    "    coloraxis_colorbar=dict(\n",
    "        tickmode=\"array\",\n",
    "        tickvals=[\n",
    "            min_dem_prop + i * (max_dem_prop - min_dem_prop) / 5 for i in range(6)\n",
    "        ],\n",
    "        ticktext=[f\"{i*20}%\" for i in range(6)],\n",
    "        title=\"Democratic Proportion\",\n",
    "    ),\n",
    ")\n",
    "\n",
    "# Show the plot\n",
    "fig.show()\n",
    "\n"
   ]
  },
  {
   "cell_type": "markdown",
   "metadata": {},
   "source": [
    "According to the Pew Research Center \"small minority of users create the vast majority of tweets from U.S. adults, and 69% of these highly prolific tweeters are Democrats\" (October 15, 2020) [source](https://www.pewresearch.org/politics/2020/10/15/differences-in-how-democrats-and-republicans-behave-on-twitter/). Therefore, trying to adjust the proportion of tweets such that Twitter can be considered to have equal amount of users from each party will result in the following map."
   ]
  },
  {
   "cell_type": "code",
   "execution_count": 63,
   "metadata": {},
   "outputs": [
    {
     "data": {
      "application/vnd.plotly.v1+json": {
       "config": {
        "plotlyServerURL": "https://plot.ly"
       },
       "data": [
        {
         "coloraxis": "coloraxis",
         "customdata": [
          [
           32335,
           0.41499465171307254,
           0.5850053482869275
          ],
          [
           24283,
           0.4113021811539276,
           0.5886978188460723
          ],
          [
           17262,
           0.374572034481237,
           0.625427965518763
          ],
          [
           16621,
           0.35162099678701064,
           0.6483790032129892
          ],
          [
           9416,
           0.3859381256172757,
           0.6140618743827243
          ],
          [
           7387,
           0.38975809927111243,
           0.6102419007288875
          ],
          [
           7082,
           0.40699218173771945,
           0.5930078182622804
          ],
          [
           5147,
           0.353975133720775,
           0.646024866279225
          ],
          [
           4877,
           0.43571688043144163,
           0.5642831195685584
          ],
          [
           4237,
           0.3742768230475559,
           0.6257231769524441
          ],
          [
           3811,
           0.3731370366786026,
           0.6268629633213975
          ],
          [
           3771,
           0.3803540411692967,
           0.6196459588307032
          ],
          [
           3553,
           0.38571580656322363,
           0.6142841934367763
          ],
          [
           3531,
           0.39788691058501274,
           0.6021130894149872
          ],
          [
           3357,
           0.36581973559691433,
           0.6341802644030856
          ],
          [
           2985,
           0.42411547147579626,
           0.5758845285242039
          ],
          [
           2903,
           0.3844177217017222,
           0.6155822782982777
          ],
          [
           2780,
           0.38822643596914475,
           0.6117735640308553
          ],
          [
           2645,
           0.32680282796543597,
           0.673197172034564
          ],
          [
           2644,
           0.4236045161971088,
           0.5763954838028912
          ],
          [
           2534,
           0.3835845896147404,
           0.6164154103852596
          ],
          [
           2385,
           0.38709550351564803,
           0.6129044964843519
          ],
          [
           2052,
           0.37148110575703785,
           0.6285188942429623
          ],
          [
           1869,
           0.42894090262511314,
           0.5710590973748868
          ],
          [
           1579,
           0.37170934006491163,
           0.6282906599350884
          ],
          [
           1515,
           0.33900799261332487,
           0.6609920073866751
          ],
          [
           1238,
           0.35551227956291254,
           0.6444877204370876
          ],
          [
           1236,
           0.34065934065934067,
           0.6593406593406593
          ],
          [
           1114,
           0.3837051142546246,
           0.6162948857453754
          ],
          [
           1076,
           0.36581376329010395,
           0.6341862367098959
          ],
          [
           991,
           0.36904761904761907,
           0.6309523809523809
          ],
          [
           910,
           0.3151467757459095,
           0.6848532242540905
          ],
          [
           880,
           0.4052578652492458,
           0.5947421347507542
          ],
          [
           870,
           0.46185381461853814,
           0.5381461853814619
          ],
          [
           843,
           0.388929889298893,
           0.611070110701107
          ],
          [
           776,
           0.3888360480323387,
           0.6111639519676614
          ],
          [
           632,
           0.392975893599335,
           0.6070241064006651
          ],
          [
           601,
           0.5249896736885585,
           0.4750103263114416
          ],
          [
           530,
           0.40799666805497714,
           0.592003331945023
          ],
          [
           508,
           0.42454569396892283,
           0.5754543060310772
          ],
          [
           483,
           0.25683512841756423,
           0.7431648715824357
          ],
          [
           478,
           0.39945744320108506,
           0.6005425567989149
          ],
          [
           432,
           0.3909205548549811,
           0.6090794451450189
          ],
          [
           406,
           0.36582321570407356,
           0.6341767842959264
          ],
          [
           369,
           0.3738189955246146,
           0.6261810044753854
          ],
          [
           342,
           0.43590582079790713,
           0.5640941792020929
          ],
          [
           300,
           0.38737257481091747,
           0.6126274251890825
          ],
          [
           290,
           0.36765498652291106,
           0.6323450134770889
          ],
          [
           263,
           0.342745364857969,
           0.657254635142031
          ],
          [
           258,
           0.3297872340425532,
           0.6702127659574468
          ],
          [
           89,
           0.40870138431114045,
           0.5912986156888596
          ]
         ],
         "geo": "geo",
         "hovertemplate": "<b>%{hovertext}</b><br><br>state_code=%{location}<br>tweet_count=%{customdata[0]}<br>Democratic Proportion=%{z:.3f}<br>republican_proportion=%{customdata[2]:.3f}<extra></extra>",
         "hovertext": [
          "California",
          "New York",
          "Texas",
          "Florida",
          "District of Columbia",
          "Illinois",
          "Pennsylvania",
          "New Jersey",
          "Massachusetts",
          "Ohio",
          "Colorado",
          "North Carolina",
          "Arizona",
          "Michigan",
          "Georgia",
          "Washington",
          "Oregon",
          "Virginia",
          "Tennessee",
          "Maryland",
          "Nevada",
          "Missouri",
          "Minnesota",
          "Wisconsin",
          "Indiana",
          "Kentucky",
          "South Carolina",
          "Louisiana",
          "Connecticut",
          "Kansas",
          "Alabama",
          "Utah",
          "Iowa",
          "Vermont",
          "Oklahoma",
          "Hawaii",
          "Idaho",
          "Arkansas",
          "New Mexico",
          "North Dakota",
          "Alaska",
          "Nebraska",
          "Maine",
          "New Hampshire",
          "West Virginia",
          "Delaware",
          "Rhode Island",
          "Montana",
          "Wyoming",
          "Mississippi",
          "South Dakota"
         ],
         "locationmode": "USA-states",
         "locations": [
          "CA",
          "NY",
          "TX",
          "FL",
          "DC",
          "IL",
          "PA",
          "NJ",
          "MA",
          "OH",
          "CO",
          "NC",
          "AZ",
          "MI",
          "GA",
          "WA",
          "OR",
          "VA",
          "TN",
          "MD",
          "NV",
          "MO",
          "MN",
          "WI",
          "IN",
          "KY",
          "SC",
          "LA",
          "CT",
          "KS",
          "AL",
          "UT",
          "IA",
          "VT",
          "OK",
          "HI",
          "ID",
          "AR",
          "NM",
          "ND",
          "AK",
          "NE",
          "ME",
          "NH",
          "WV",
          "DE",
          "RI",
          "MT",
          "WY",
          "MS",
          "SD"
         ],
         "name": "",
         "type": "choropleth",
         "z": [
          0.41499465171307254,
          0.4113021811539276,
          0.374572034481237,
          0.35162099678701064,
          0.3859381256172757,
          0.38975809927111243,
          0.40699218173771945,
          0.353975133720775,
          0.43571688043144163,
          0.3742768230475559,
          0.3731370366786026,
          0.3803540411692967,
          0.38571580656322363,
          0.39788691058501274,
          0.36581973559691433,
          0.42411547147579626,
          0.3844177217017222,
          0.38822643596914475,
          0.32680282796543597,
          0.4236045161971088,
          0.3835845896147404,
          0.38709550351564803,
          0.37148110575703785,
          0.42894090262511314,
          0.37170934006491163,
          0.33900799261332487,
          0.35551227956291254,
          0.34065934065934067,
          0.3837051142546246,
          0.36581376329010395,
          0.36904761904761907,
          0.3151467757459095,
          0.4052578652492458,
          0.46185381461853814,
          0.388929889298893,
          0.3888360480323387,
          0.392975893599335,
          0.5249896736885585,
          0.40799666805497714,
          0.42454569396892283,
          0.25683512841756423,
          0.39945744320108506,
          0.3909205548549811,
          0.36582321570407356,
          0.3738189955246146,
          0.43590582079790713,
          0.38737257481091747,
          0.36765498652291106,
          0.342745364857969,
          0.3297872340425532,
          0.40870138431114045
         ]
        }
       ],
       "layout": {
        "coloraxis": {
         "cmax": 0.8,
         "cmid": 0.5,
         "cmin": 0.3,
         "colorbar": {
          "tickmode": "array",
          "ticktext": [
           "0%",
           "20%",
           "40%",
           "60%",
           "80%",
           "100%"
          ],
          "tickvals": [
           0.25683512841756423,
           0.3104660374717631,
           0.3640969465259619,
           0.4177278555801608,
           0.47135876463435966,
           0.5249896736885585
          ],
          "title": {
           "text": "Democratic Proportion"
          }
         },
         "colorscale": [
          [
           0,
           "rgb(103,0,31)"
          ],
          [
           0.2,
           "rgb(214,96,77)"
          ],
          [
           0.4,
           "rgb(253,219,199)"
          ],
          [
           0.6,
           "rgb(209,229,240)"
          ],
          [
           0.8,
           "rgb(67,147,195)"
          ],
          [
           1,
           "rgb(5,48,97)"
          ]
         ]
        },
        "geo": {
         "center": {},
         "coastlinecolor": "Black",
         "domain": {
          "x": [
           0,
           1
          ],
          "y": [
           0,
           1
          ]
         },
         "lakecolor": "white",
         "landcolor": "white",
         "projection": {
          "type": "albers usa"
         },
         "scope": "usa",
         "showcoastlines": true,
         "showland": true
        },
        "legend": {
         "tracegroupgap": 0
        },
        "margin": {
         "t": 60
        },
        "template": {
         "data": {
          "bar": [
           {
            "error_x": {
             "color": "#2a3f5f"
            },
            "error_y": {
             "color": "#2a3f5f"
            },
            "marker": {
             "line": {
              "color": "#E5ECF6",
              "width": 0.5
             },
             "pattern": {
              "fillmode": "overlay",
              "size": 10,
              "solidity": 0.2
             }
            },
            "type": "bar"
           }
          ],
          "barpolar": [
           {
            "marker": {
             "line": {
              "color": "#E5ECF6",
              "width": 0.5
             },
             "pattern": {
              "fillmode": "overlay",
              "size": 10,
              "solidity": 0.2
             }
            },
            "type": "barpolar"
           }
          ],
          "carpet": [
           {
            "aaxis": {
             "endlinecolor": "#2a3f5f",
             "gridcolor": "white",
             "linecolor": "white",
             "minorgridcolor": "white",
             "startlinecolor": "#2a3f5f"
            },
            "baxis": {
             "endlinecolor": "#2a3f5f",
             "gridcolor": "white",
             "linecolor": "white",
             "minorgridcolor": "white",
             "startlinecolor": "#2a3f5f"
            },
            "type": "carpet"
           }
          ],
          "choropleth": [
           {
            "colorbar": {
             "outlinewidth": 0,
             "ticks": ""
            },
            "type": "choropleth"
           }
          ],
          "contour": [
           {
            "colorbar": {
             "outlinewidth": 0,
             "ticks": ""
            },
            "colorscale": [
             [
              0,
              "#0d0887"
             ],
             [
              0.1111111111111111,
              "#46039f"
             ],
             [
              0.2222222222222222,
              "#7201a8"
             ],
             [
              0.3333333333333333,
              "#9c179e"
             ],
             [
              0.4444444444444444,
              "#bd3786"
             ],
             [
              0.5555555555555556,
              "#d8576b"
             ],
             [
              0.6666666666666666,
              "#ed7953"
             ],
             [
              0.7777777777777778,
              "#fb9f3a"
             ],
             [
              0.8888888888888888,
              "#fdca26"
             ],
             [
              1,
              "#f0f921"
             ]
            ],
            "type": "contour"
           }
          ],
          "contourcarpet": [
           {
            "colorbar": {
             "outlinewidth": 0,
             "ticks": ""
            },
            "type": "contourcarpet"
           }
          ],
          "heatmap": [
           {
            "colorbar": {
             "outlinewidth": 0,
             "ticks": ""
            },
            "colorscale": [
             [
              0,
              "#0d0887"
             ],
             [
              0.1111111111111111,
              "#46039f"
             ],
             [
              0.2222222222222222,
              "#7201a8"
             ],
             [
              0.3333333333333333,
              "#9c179e"
             ],
             [
              0.4444444444444444,
              "#bd3786"
             ],
             [
              0.5555555555555556,
              "#d8576b"
             ],
             [
              0.6666666666666666,
              "#ed7953"
             ],
             [
              0.7777777777777778,
              "#fb9f3a"
             ],
             [
              0.8888888888888888,
              "#fdca26"
             ],
             [
              1,
              "#f0f921"
             ]
            ],
            "type": "heatmap"
           }
          ],
          "heatmapgl": [
           {
            "colorbar": {
             "outlinewidth": 0,
             "ticks": ""
            },
            "colorscale": [
             [
              0,
              "#0d0887"
             ],
             [
              0.1111111111111111,
              "#46039f"
             ],
             [
              0.2222222222222222,
              "#7201a8"
             ],
             [
              0.3333333333333333,
              "#9c179e"
             ],
             [
              0.4444444444444444,
              "#bd3786"
             ],
             [
              0.5555555555555556,
              "#d8576b"
             ],
             [
              0.6666666666666666,
              "#ed7953"
             ],
             [
              0.7777777777777778,
              "#fb9f3a"
             ],
             [
              0.8888888888888888,
              "#fdca26"
             ],
             [
              1,
              "#f0f921"
             ]
            ],
            "type": "heatmapgl"
           }
          ],
          "histogram": [
           {
            "marker": {
             "pattern": {
              "fillmode": "overlay",
              "size": 10,
              "solidity": 0.2
             }
            },
            "type": "histogram"
           }
          ],
          "histogram2d": [
           {
            "colorbar": {
             "outlinewidth": 0,
             "ticks": ""
            },
            "colorscale": [
             [
              0,
              "#0d0887"
             ],
             [
              0.1111111111111111,
              "#46039f"
             ],
             [
              0.2222222222222222,
              "#7201a8"
             ],
             [
              0.3333333333333333,
              "#9c179e"
             ],
             [
              0.4444444444444444,
              "#bd3786"
             ],
             [
              0.5555555555555556,
              "#d8576b"
             ],
             [
              0.6666666666666666,
              "#ed7953"
             ],
             [
              0.7777777777777778,
              "#fb9f3a"
             ],
             [
              0.8888888888888888,
              "#fdca26"
             ],
             [
              1,
              "#f0f921"
             ]
            ],
            "type": "histogram2d"
           }
          ],
          "histogram2dcontour": [
           {
            "colorbar": {
             "outlinewidth": 0,
             "ticks": ""
            },
            "colorscale": [
             [
              0,
              "#0d0887"
             ],
             [
              0.1111111111111111,
              "#46039f"
             ],
             [
              0.2222222222222222,
              "#7201a8"
             ],
             [
              0.3333333333333333,
              "#9c179e"
             ],
             [
              0.4444444444444444,
              "#bd3786"
             ],
             [
              0.5555555555555556,
              "#d8576b"
             ],
             [
              0.6666666666666666,
              "#ed7953"
             ],
             [
              0.7777777777777778,
              "#fb9f3a"
             ],
             [
              0.8888888888888888,
              "#fdca26"
             ],
             [
              1,
              "#f0f921"
             ]
            ],
            "type": "histogram2dcontour"
           }
          ],
          "mesh3d": [
           {
            "colorbar": {
             "outlinewidth": 0,
             "ticks": ""
            },
            "type": "mesh3d"
           }
          ],
          "parcoords": [
           {
            "line": {
             "colorbar": {
              "outlinewidth": 0,
              "ticks": ""
             }
            },
            "type": "parcoords"
           }
          ],
          "pie": [
           {
            "automargin": true,
            "type": "pie"
           }
          ],
          "scatter": [
           {
            "fillpattern": {
             "fillmode": "overlay",
             "size": 10,
             "solidity": 0.2
            },
            "type": "scatter"
           }
          ],
          "scatter3d": [
           {
            "line": {
             "colorbar": {
              "outlinewidth": 0,
              "ticks": ""
             }
            },
            "marker": {
             "colorbar": {
              "outlinewidth": 0,
              "ticks": ""
             }
            },
            "type": "scatter3d"
           }
          ],
          "scattercarpet": [
           {
            "marker": {
             "colorbar": {
              "outlinewidth": 0,
              "ticks": ""
             }
            },
            "type": "scattercarpet"
           }
          ],
          "scattergeo": [
           {
            "marker": {
             "colorbar": {
              "outlinewidth": 0,
              "ticks": ""
             }
            },
            "type": "scattergeo"
           }
          ],
          "scattergl": [
           {
            "marker": {
             "colorbar": {
              "outlinewidth": 0,
              "ticks": ""
             }
            },
            "type": "scattergl"
           }
          ],
          "scattermapbox": [
           {
            "marker": {
             "colorbar": {
              "outlinewidth": 0,
              "ticks": ""
             }
            },
            "type": "scattermapbox"
           }
          ],
          "scatterpolar": [
           {
            "marker": {
             "colorbar": {
              "outlinewidth": 0,
              "ticks": ""
             }
            },
            "type": "scatterpolar"
           }
          ],
          "scatterpolargl": [
           {
            "marker": {
             "colorbar": {
              "outlinewidth": 0,
              "ticks": ""
             }
            },
            "type": "scatterpolargl"
           }
          ],
          "scatterternary": [
           {
            "marker": {
             "colorbar": {
              "outlinewidth": 0,
              "ticks": ""
             }
            },
            "type": "scatterternary"
           }
          ],
          "surface": [
           {
            "colorbar": {
             "outlinewidth": 0,
             "ticks": ""
            },
            "colorscale": [
             [
              0,
              "#0d0887"
             ],
             [
              0.1111111111111111,
              "#46039f"
             ],
             [
              0.2222222222222222,
              "#7201a8"
             ],
             [
              0.3333333333333333,
              "#9c179e"
             ],
             [
              0.4444444444444444,
              "#bd3786"
             ],
             [
              0.5555555555555556,
              "#d8576b"
             ],
             [
              0.6666666666666666,
              "#ed7953"
             ],
             [
              0.7777777777777778,
              "#fb9f3a"
             ],
             [
              0.8888888888888888,
              "#fdca26"
             ],
             [
              1,
              "#f0f921"
             ]
            ],
            "type": "surface"
           }
          ],
          "table": [
           {
            "cells": {
             "fill": {
              "color": "#EBF0F8"
             },
             "line": {
              "color": "white"
             }
            },
            "header": {
             "fill": {
              "color": "#C8D4E3"
             },
             "line": {
              "color": "white"
             }
            },
            "type": "table"
           }
          ]
         },
         "layout": {
          "annotationdefaults": {
           "arrowcolor": "#2a3f5f",
           "arrowhead": 0,
           "arrowwidth": 1
          },
          "autotypenumbers": "strict",
          "coloraxis": {
           "colorbar": {
            "outlinewidth": 0,
            "ticks": ""
           }
          },
          "colorscale": {
           "diverging": [
            [
             0,
             "#8e0152"
            ],
            [
             0.1,
             "#c51b7d"
            ],
            [
             0.2,
             "#de77ae"
            ],
            [
             0.3,
             "#f1b6da"
            ],
            [
             0.4,
             "#fde0ef"
            ],
            [
             0.5,
             "#f7f7f7"
            ],
            [
             0.6,
             "#e6f5d0"
            ],
            [
             0.7,
             "#b8e186"
            ],
            [
             0.8,
             "#7fbc41"
            ],
            [
             0.9,
             "#4d9221"
            ],
            [
             1,
             "#276419"
            ]
           ],
           "sequential": [
            [
             0,
             "#0d0887"
            ],
            [
             0.1111111111111111,
             "#46039f"
            ],
            [
             0.2222222222222222,
             "#7201a8"
            ],
            [
             0.3333333333333333,
             "#9c179e"
            ],
            [
             0.4444444444444444,
             "#bd3786"
            ],
            [
             0.5555555555555556,
             "#d8576b"
            ],
            [
             0.6666666666666666,
             "#ed7953"
            ],
            [
             0.7777777777777778,
             "#fb9f3a"
            ],
            [
             0.8888888888888888,
             "#fdca26"
            ],
            [
             1,
             "#f0f921"
            ]
           ],
           "sequentialminus": [
            [
             0,
             "#0d0887"
            ],
            [
             0.1111111111111111,
             "#46039f"
            ],
            [
             0.2222222222222222,
             "#7201a8"
            ],
            [
             0.3333333333333333,
             "#9c179e"
            ],
            [
             0.4444444444444444,
             "#bd3786"
            ],
            [
             0.5555555555555556,
             "#d8576b"
            ],
            [
             0.6666666666666666,
             "#ed7953"
            ],
            [
             0.7777777777777778,
             "#fb9f3a"
            ],
            [
             0.8888888888888888,
             "#fdca26"
            ],
            [
             1,
             "#f0f921"
            ]
           ]
          },
          "colorway": [
           "#636efa",
           "#EF553B",
           "#00cc96",
           "#ab63fa",
           "#FFA15A",
           "#19d3f3",
           "#FF6692",
           "#B6E880",
           "#FF97FF",
           "#FECB52"
          ],
          "font": {
           "color": "#2a3f5f"
          },
          "geo": {
           "bgcolor": "white",
           "lakecolor": "white",
           "landcolor": "#E5ECF6",
           "showlakes": true,
           "showland": true,
           "subunitcolor": "white"
          },
          "hoverlabel": {
           "align": "left"
          },
          "hovermode": "closest",
          "mapbox": {
           "style": "light"
          },
          "paper_bgcolor": "white",
          "plot_bgcolor": "#E5ECF6",
          "polar": {
           "angularaxis": {
            "gridcolor": "white",
            "linecolor": "white",
            "ticks": ""
           },
           "bgcolor": "#E5ECF6",
           "radialaxis": {
            "gridcolor": "white",
            "linecolor": "white",
            "ticks": ""
           }
          },
          "scene": {
           "xaxis": {
            "backgroundcolor": "#E5ECF6",
            "gridcolor": "white",
            "gridwidth": 2,
            "linecolor": "white",
            "showbackground": true,
            "ticks": "",
            "zerolinecolor": "white"
           },
           "yaxis": {
            "backgroundcolor": "#E5ECF6",
            "gridcolor": "white",
            "gridwidth": 2,
            "linecolor": "white",
            "showbackground": true,
            "ticks": "",
            "zerolinecolor": "white"
           },
           "zaxis": {
            "backgroundcolor": "#E5ECF6",
            "gridcolor": "white",
            "gridwidth": 2,
            "linecolor": "white",
            "showbackground": true,
            "ticks": "",
            "zerolinecolor": "white"
           }
          },
          "shapedefaults": {
           "line": {
            "color": "#2a3f5f"
           }
          },
          "ternary": {
           "aaxis": {
            "gridcolor": "white",
            "linecolor": "white",
            "ticks": ""
           },
           "baxis": {
            "gridcolor": "white",
            "linecolor": "white",
            "ticks": ""
           },
           "bgcolor": "#E5ECF6",
           "caxis": {
            "gridcolor": "white",
            "linecolor": "white",
            "ticks": ""
           }
          },
          "title": {
           "x": 0.05
          },
          "xaxis": {
           "automargin": true,
           "gridcolor": "white",
           "linecolor": "white",
           "ticks": "",
           "title": {
            "standoff": 15
           },
           "zerolinecolor": "white",
           "zerolinewidth": 2
          },
          "yaxis": {
           "automargin": true,
           "gridcolor": "white",
           "linecolor": "white",
           "ticks": "",
           "title": {
            "standoff": 15
           },
           "zerolinecolor": "white",
           "zerolinewidth": 2
          }
         }
        },
        "title": {
         "text": "Tweet Sentiment by State adjusted for prior based on the tweeter users political views",
         "x": 0.5
        }
       }
      }
     },
     "metadata": {},
     "output_type": "display_data"
    }
   ],
   "source": [
    "sentiment_counts = sentiment_counts_no_bias.copy()\n",
    "\n",
    "# Add the bias to the unadjusted sentiment proportions\n",
    "for row in sentiment_counts.iterrows():\n",
    "    \n",
    "    dem_ratio =  row[1][1]*0.31\n",
    "\n",
    "    rep_ratio = row[1][2]*0.69\n",
    "    \n",
    "\n",
    "    \n",
    "    sentiment_counts.loc[row[0], \"democratic_proportion\"] = dem_ratio / (\n",
    "        dem_ratio + rep_ratio\n",
    "    )\n",
    "    sentiment_counts.loc[row[0], \"republican_proportion\"] = rep_ratio / (\n",
    "        dem_ratio + rep_ratio\n",
    "    )\n",
    "\n",
    "\n",
    "\n",
    "tweet_counts_per_state = filtered_tweets[\"state\"].value_counts().reset_index()\n",
    "tweet_counts_per_state.columns = [\"state\", \"tweet_count\"]\n",
    "tweet_counts_per_state[\"state_code\"] = tweet_counts_per_state[\"state\"].map(\n",
    "    state_abbreviations\n",
    ")\n",
    "\n",
    "\n",
    "# Merge sentiment proportions with tweet counts\n",
    "tweet_counts_per_state = tweet_counts_per_state.merge(\n",
    "    sentiment_counts, left_on=\"state\", right_index=True\n",
    ")\n",
    "\n",
    "min_dem_prop = tweet_counts_per_state[\"democratic_proportion\"].min()\n",
    "max_dem_prop = tweet_counts_per_state[\"democratic_proportion\"].max()\n",
    "\n",
    "\n",
    "# Create the choropleth map\n",
    "fig = px.choropleth(\n",
    "    tweet_counts_per_state,  \n",
    "    locations=\"state_code\",  # State codes\n",
    "    locationmode=\"USA-states\",  # Use US states mode\n",
    "    color=\"democratic_proportion\",  # Color by democratic proportion\n",
    "    hover_name=\"state\",  # Hover over the state to show name\n",
    "    hover_data={\n",
    "        \"tweet_count\": True,\n",
    "        \"democratic_proportion\": \":.3f\",\n",
    "        \"republican_proportion\": \":.3f\",\n",
    "    },\n",
    "    color_continuous_scale=px.colors.diverging.RdBu[::2],\n",
    "    labels={\"democratic_proportion\": \"Democratic Proportion\"},\n",
    "    # Define discrete color steps based on proportion\n",
    "    range_color=[0.3,0.8], \n",
    "    color_continuous_midpoint=0.5,\n",
    ")\n",
    "\n",
    "\n",
    "\n",
    "# Update layout for better visualization\n",
    "fig.update_layout(\n",
    "    title_text=\"Tweet Sentiment by State adjusted for prior based on the tweeter users political views\",\n",
    "    title_x=0.5,\n",
    "    geo=dict(\n",
    "        scope=\"usa\",\n",
    "        projection_type=\"albers usa\",\n",
    "        showcoastlines=True,\n",
    "        coastlinecolor=\"Black\",\n",
    "        showland=True,\n",
    "        landcolor=\"white\",\n",
    "        lakecolor=\"white\",\n",
    "        \n",
    "    ),\n",
    "    coloraxis_colorbar=dict(\n",
    "        tickmode=\"array\",\n",
    "        tickvals=[\n",
    "            min_dem_prop + i * (max_dem_prop - min_dem_prop) / 5 for i in range(6)\n",
    "        ],\n",
    "        ticktext=[f\"{i*20}%\" for i in range(6)],\n",
    "        title=\"Democratic Proportion\",\n",
    "    ),\n",
    ")\n",
    "\n",
    "# Show the plot\n",
    "fig.show()"
   ]
  },
  {
   "cell_type": "code",
   "execution_count": 71,
   "metadata": {},
   "outputs": [
    {
     "name": "stdout",
     "output_type": "stream",
     "text": [
      "10 Random Likely Republican Tweets:\n",
      "-----------------------------------\n",
      "1. #trump does not care about #SmallBusiness at all! He clearly gives #taxbreaks and favors to his big business friends watch #TotallyUnderControl #DebateTonight                                                                                                                                                                                                                                                                                                                                                                                                                                                                                                                                                                                                                                                                                                                                                                                                                                                                          \n",
      "\n",
      "2. @GOP @realDonaldTrump True but most of what you did hurt #America. #Trump #racist #COVID19 #TaxReturns #PutinsPuppet                                                                                                                                                                                                                                                                                                                                                                                                                                                                                                                                                                                                                                                                                                                                                                                                                                                                                                                    \n",
      "\n",
      "3. @RalphGMWorks The Democrat Socialists at Twitter have censored more speech exposing the #Biden criminal cabal, than the Iron Curtain was able to hide in 50 years.\n",
      "\n",
      "#CrookedJoeBiden is trending and cockroaches are being subpoenaed. []                                                                                                                                                                                                                                                                                                                                                                                                                                                                                                                                                                                                                                                                                                                                                                                               \n",
      "\n",
      "4. @realDonaldTrump Rolling Rally in #Cincinnati today!\n",
      "\n",
      "83.7 miles of #Trump #MAGA #KAG supporters circling I-275 in BOTH directions!\n",
      "\n",
      "10,000 + cars,trucks &amp; bikes!\n",
      "#OhioForTrump\n",
      "#VoteRedToSaveAmerica2020 []                                                                                                                                                                                                                                                                                                                                                                                                                                                                                                                                                                                                                                                                                                                                                                                                                       \n",
      "\n",
      "5. More #JoeBiden #Democrat corruption exposed...\n",
      "\n",
      "More reasons why voting should only be in person on Election Day []                                                                                                                                                                                                                                                                                                                                                                                                                                                                                                                                                                                                                                                                                                                                                                                                                                                                                                                     \n",
      "\n",
      "6. @realDonaldTrump @RSBNetwork #Trump will Win #DonaldTrump Must Win. []                                                                                                                                                                                                                                                                                                                                                                                                                                                                                                                                                                                                                                                                                                                                                                                                                                                                                                                                                                  \n",
      "\n",
      "7. @BarreWilks @DineshDSouza @RudyGiuliani well - obviously Jesus didn't want #trump to win by a landslide.                                                                                                                                                                                                                                                                                                                                                                                                                                                                                                                                                                                                                                                                                                                                                                                                                                                                                                                                \n",
      "\n",
      "8. **Let me clear my throat** THE House of Representatives PASSED the #HEROSAct MONTHS AGO which will provide all Americans the support this need to survive! #Trump keeps derailing any #stimulus talks. #Debates2020 #Debate2020 []                                                                                                                                                                                                                                                                                                                                                                                                                                                                                                                                                                                                                                                                                                                                                                                                      \n",
      "\n",
      "9. #ABCcancels #NBCBlackout citing #COVID__19 concerns about #Biden? []                                                                                                                                                                                                                                                                                                                                                                                                                                                                                                                                                                                                                                                                                                                                                                                                                                                                                                                                                                    \n",
      "\n",
      "10. #Stopthefraud #KamalaHarris #JoeBiden []                                                                                                                                                                                                                                                                                                                                                                                                                                                                                                                                                                                                                                                                                                                                                                                                                                                                                                                                                                                                \n",
      "-----------------------------------\n",
      "\n",
      "10 Random Likely Democrat Tweets:\n",
      "-----------------------------------\n",
      "1. My odds are back to 50-50, because of GA alone. I've been scouring the remaining vote there and I truly believe this will come down to the wire. #Trump is probably still a slight favorite there. The problem for Trump is that losing GA would require him to sweep MI, WI, &amp; PA.                                                                                                                                                                                                                                                                                                                                                                                                                                                                                                                                                                                                                                                                                                                                                 \n",
      "\n",
      "2. #BidenHarris2020 #BidenHarris2020Landslide #biden #vote #patriotic #pumpkin #oldglory #gourd #voting #vegetable #grateful #thanksgiving #fall #election #bluewave #share #retweet #unite #citizen #american #unitedstatesofamerica []                                                                                                                                                                                                                                                                                                                                                                                                                                                                                                                                                                                                                                                                                                                                                                                                   \n",
      "\n",
      "3. #DonaldTrump  YOU ARE FIRED!!!! 🤣                                                                                                                                                                                                                                                                                                                                                                                                                                                                                                                                                                                                                                                                                                                                                                                                                                                                                                                                                                                                       \n",
      "\n",
      "4. @SueNola3 @swimmingmohit @JoeBiden #Biden cares about the climate and always has. As Senator, he introduced the \"Global Climate Protection Act\", because he cares about the environment. If we don't take care of this planet, what type of world will we have 5yrs from now? 10? Environmental /1                                                                                                                                                                                                                                                                                                                                                                                                                                                                                                                                                                                                                                                                                                                                      \n",
      "\n",
      "5. After the universally condemned performance for liar in chief #Trump  #Tories shamefully continue to support him.\n",
      "\n",
      "If you had any remaining doubt at the endemic dishonesty and corruption of the #Conservatives doubt no more. It’s nakedly on show and the UK will suffer under them. []                                                                                                                                                                                                                                                                                                                                                                                                                                                                                                                                                                                                                                                                                                                                              \n",
      "\n",
      "6. *Never* have presidential &amp; VP candidates so succeeded in avoiding #foreignpolicy &amp; #domesticpolicy questions. *Never* have #DebateCommission &amp; #USMedia been *this* lax on policy &amp; this engaged in shielding a candidate from mounting evidence of foreign corruption. #Biden #Harris []                                                                                                                                                                                                                                                                                                                                                                                                                                                                                                                                                                                                                                                                                                                              \n",
      "\n",
      "7. I know everyone is ecstatic, but the pandemic doesn’t care. Please wear a mask and try to keep some distance. More than 1000 people died today. Please be mindful of that as well in your joy. #COVID19 #JoeBiden #KamalaHarrisVP                                                                                                                                                                                                                                                                                                                                                                                                                                                                                                                                                                                                                                                                                                                                                                                                       \n",
      "\n",
      "8. F*** NEVADA FOR TAKING SO LONG. THANKS FOR PENNSYLVANIA!!!!! #Election2020results #JoeBiden                                                                                                                                                                                                                                                                                                                                                                                                                                                                                                                                                                                                                                                                                                                                                                                                                                                                                                                                             \n",
      "\n",
      "9. Presidente #trump no se da por vencido pide recuento en #wisconsin y comenzará procesos legales por la manera en que se contaron los votos en #pennsylvania / #michigan y en #arizona aseguró hubo error en máquinas. []                                                                                                                                                                                                                                                                                                                                                                                                                                                                                                                                                                                                                                                                                                                                                                                                                \n",
      "\n",
      "10. This kind of desperation is where #Trump and the @GOP is now. #Sad []                                                                                                                                                                                                                                                                                                                                                                                                                                                                                                                                                                                                                                                                                                                                                                                                                                                                                                                                                                   \n",
      "-----------------------------------\n",
      "\n",
      "10 Random Neutral Tweets:\n",
      "-----------------------------------\n",
      "1. #cpd defundment grand and central they did me wrong yesterday #BIDEN/HARRIS2020                                                                                                                                                                                                                                                                                                                                                                                                                                                                                                                                                                                                                                                                                                                                                                                                                                                                                                                                                         \n",
      "\n",
      "2. #Trump #VOTE #VoteHimOut #mondaythoughts \n",
      "Trump Dynasty\n",
      "[] #findyourthing #redbubble                                                                                                                                                                                                                                                                                                                                                                                                                                                                                                                                                                                                                                                                                                                                                                                                                                                                                                                                                    \n",
      "\n",
      "3. #JoeBiden is looking out for the little guy, he knows how to get things done. [] #BidenCoalition #Biden #DemCastCA #DemCast                                                                                                                                                                                                                                                                                                                                                                                                                                                                                                                                                                                                                                                                                                                                                                                                                                                                                                             \n",
      "\n",
      "4. He doesn’t represent us.\n",
      "\n",
      "#JoeBiden represents the people and will be our president!\n",
      "\n",
      "#vote #BidenHarris2020 []                                                                                                                                                                                                                                                                                                                                                                                                                                                                                                                                                                                                                                                                                                                                                                                                                                                                                                                         \n",
      "\n",
      "5. It was a glorious Saturday nIght in New York City as The Big Apple was draped in red white and blue in celebration of the @JoeBiden @KamalaHarris victory! #JoeBiden #KamalaHarris #JoeBidenKamalaHarris2020 #newyorkcity #thebigapple #unitedstates #america #democracy []                                                                                                                                                                                                                                                                                                                                                                                                                                                                                                                                                                                                                                                                                                                                                             \n",
      "\n",
      "6. \"It's the honor of a lifetime.\"  #JoeBiden []                                                                                                                                                                                                                                                                                                                                                                                                                                                                                                                                                                                                                                                                                                                                                                                                                                                                                                                                                                                           \n",
      "\n",
      "7. #Why are people voting for #Trump ? Here are some things I have noticed by listening. [] []                                                                                                                                                                                                                                                                                                                                                                                                                                                                                                                                                                                                                                                                                                                                                                                                                                                                                                                                             \n",
      "\n",
      "8. @mkraju @maggieNYT the four horsemen ride \n",
      "hear their quick galloping hooves \n",
      "chasing down donald \n",
      "\n",
      "#haiku \n",
      "#fourhorsemen \n",
      "#trump                                                                                                                                                                                                                                                                                                                                                                                                                                                                                                                                                                                                                                                                                                                                                                                                                                                                                                       \n",
      "\n",
      "9. #Trump President plans a rally \"Make America Great Again\" at 4:00 pm Saturday, October 24th, in Circleville, #Ohio. People are lining up to enter. []                                                                                                                                                                                                                                                                                                                                                                                                                                                                                                                                                                                                                                                                                                                                                                                                                                                                                   \n",
      "\n",
      "10. #Repost from @realworldofflash by @multisave_app\n",
      "•••\n",
      "IT'S OVER BABY!!!!!!!!!!!\n",
      "\n",
      "#BIDEN @ Boise, Idaho []                                                                                                                                                                                                                                                                                                                                                                                                                                                                                                                                                                                                                                                                                                                                                                                                                                                                                                                                \n",
      "-----------------------------------\n"
     ]
    }
   ],
   "source": [
    "import pandas as pd\n",
    "\n",
    "# Set display options to show the full content of each tweet\n",
    "pd.set_option('display.max_colwidth', None)\n",
    "\n",
    "# Function to left-align the tweets and add numbering\n",
    "def left_align_tweets(tweets):\n",
    "    return \"\\n\\n\".join([f\"{i+1}. {tweet.ljust(1000)}\" for i, tweet in enumerate(tweets)])\n",
    "\n",
    "# Set a seed for reproducibility\n",
    "seed = 42\n",
    "\n",
    "# Filter and print 10 random likely Republican tweets\n",
    "print(\"10 Random Likely Republican Tweets:\")\n",
    "print(\"-----------------------------------\")\n",
    "print(left_align_tweets(filtered_tweets[filtered_tweets['likely_party'] == 2].sample(10, random_state=seed)['tweet']))\n",
    "print(\"-----------------------------------\")\n",
    "\n",
    "# Filter and print 10 random likely Democrat tweets\n",
    "print(\"\\n10 Random Likely Democrat Tweets:\")\n",
    "print(\"-----------------------------------\")\n",
    "print(left_align_tweets(filtered_tweets[filtered_tweets['likely_party'] == 1].sample(10, random_state=seed)['tweet']))\n",
    "print(\"-----------------------------------\")\n",
    "\n",
    "# Filter and print 10 random Neutral tweets\n",
    "print(\"\\n10 Random Neutral Tweets:\")\n",
    "print(\"-----------------------------------\")\n",
    "print(left_align_tweets(filtered_tweets[filtered_tweets['likely_party'] == 0].sample(10, random_state=seed)['tweet']))\n",
    "print(\"-----------------------------------\")"
   ]
  },
  {
   "cell_type": "markdown",
   "metadata": {},
   "source": [
    "The Above give examples on how the tweets are classified and shows some problems with this method. For example, Republican tweet number 1, shows that VADER lacks real world context since it gives this positive sentiment based on words such as \"favours\" but it does not understand that not caring about small business can be bad, or Republican tweet 8 were it sees \"support\" as a positive. Moreover, it tends to label a lot of tweets as neutral when they should not be, see tweet 3,8.    "
   ]
  },
  {
   "cell_type": "code",
   "execution_count": 10,
   "metadata": {},
   "outputs": [
    {
     "data": {
      "image/png": "[encoded data removed]",
      "text/plain": [
       "<Figure size 1500x1000 with 1 Axes>"
      ]
     },
     "metadata": {},
     "output_type": "display_data"
    }
   ],
   "source": [
    "dict_for_bar = { \"Democrat\": np.array([]),\"Neutral\": np.array([]), \"Republican\": np.array([])}\n",
    "states = []\n",
    "for i in sentiment_counts_no_bias.iterrows():\n",
    "    dict_for_bar[\"Democrat\"] = np.append(dict_for_bar[\"Democrat\"], i[1][1])\n",
    "    dict_for_bar[\"Neutral\"] =np.append(dict_for_bar[\"Neutral\"], i[1][0])\n",
    "    dict_for_bar[\"Republican\"] = np.append(dict_for_bar[\"Republican\"], i[1][2])\n",
    "    states.append(i[0])\n",
    "\n",
    "dict_colors = {\"Neutral\": \"grey\", \"Democrat\": \"blue\", \"Republican\": \"red\"}\n",
    "fig, ax = plt.subplots(figsize=(15, 10))\n",
    "bottom = np.zeros(len(states))\n",
    "for label,count in dict_for_bar.items():\n",
    "    p = ax.bar(states, count, width=0.5, label=label, bottom=bottom, color =dict_colors[label]) \n",
    "    bottom += count\n",
    "\n",
    "ax.set_title(\"Sentiment of tweets by state by State\")\n",
    "ax.legend(loc=\"upper right\")\n",
    "plt.xticks(rotation=45, ha='right')\n",
    "plt.show()"
   ]
  },
  {
   "cell_type": "code",
   "execution_count": 11,
   "metadata": {},
   "outputs": [
    {
     "data": {
      "image/png": "[encoded data removed]",
      "text/plain": [
       "<Figure size 2500x1000 with 1 Axes>"
      ]
     },
     "metadata": {},
     "output_type": "display_data"
    }
   ],
   "source": [
    "fig, ax = plt.subplots(layout='constrained', figsize=(25, 10))\n",
    "multiplier = 0\n",
    "width =0.2 \n",
    "for label, sentiment_tweets in dict_for_bar.items():\n",
    "    offset = width * multiplier\n",
    "    rects = ax.bar(np.arange(len(states)) + offset, sentiment_tweets, width, label=label, color=dict_colors[label])\n",
    "    multiplier += 1\n",
    "ax.set_ylabel('Number of tweets')\n",
    "ax.set_title('Number of tweets by sentiment and state')\n",
    "ax.set_xticks(np.arange(len(states)) + width, states,rotation=45, ha='right')\n",
    "ax.legend(loc='upper right', ncols=3)\n",
    "plt.show()\n"
   ]
  }
 ],
 "metadata": {
  "kernelspec": {
   "display_name": "Python 3",
   "language": "python",
   "name": "python3"
  },
  "language_info": {
   "codemirror_mode": {
    "name": "ipython",
    "version": 3
   },
   "file_extension": ".py",
   "mimetype": "text/x-python",
   "name": "python",
   "nbconvert_exporter": "python",
   "pygments_lexer": "ipython3",
   "version": "3.12.6"
  }
 },
 "nbformat": 4,
 "nbformat_minor": 2
}
