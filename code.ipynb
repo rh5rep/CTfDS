{
 "cells": [
  {
   "cell_type": "markdown",
   "metadata": {},
   "source": [
    "<center>\n",
    "    <h2>US 2020 elections: tweets sentiment analysis and most discussed topics</h2>\n",
    "</center>"
   ]
  },
  {
   "cell_type": "markdown",
   "metadata": {},
   "source": [
    "Welcome to this notebook where we will analyze the tweets for the 2020 elections using Python. The dataset can be found here: [2020 Election Tweets Dataset](https://www.kaggle.com/datasets/manchunhui/us-election-2020-tweets/data). "
   ]
  },
  {
   "cell_type": "markdown",
   "metadata": {},
   "source": [
    "### Imports"
   ]
  },
  {
   "cell_type": "code",
   "execution_count": 1,
   "metadata": {},
   "outputs": [],
   "source": [
    "import pandas as pd\n",
    "import os\n",
    "import re\n",
    "import wordninja\n",
    "from datasketch import MinHash, MinHashLSH\n",
    "from typing import Dict, List, Set, Tuple\n",
    "import networkx as nx\n",
    "from collections import defaultdict\n",
    "from sklearn.feature_extraction.text import TfidfVectorizer, ENGLISH_STOP_WORDS\n",
    "from sklearn.metrics.pairwise import cosine_similarity\n",
    "import numpy as np\n",
    "from community import community_louvain\n",
    "import plotly.graph_objects as go\n",
    "from concurrent.futures import ThreadPoolExecutor\n",
    "from plotly.subplots import make_subplots\n",
    "import math"
   ]
  },
  {
   "cell_type": "markdown",
   "metadata": {},
   "source": [
    "### Data extraction and cleaning"
   ]
  },
  {
   "cell_type": "markdown",
   "metadata": {},
   "source": [
    "In the following code we start by reading the csv files and creating a single panda's dataframe out of them. We then proceed to clean the data: \n",
    "- Removing links and then dropping duplicates tweets\n",
    "- Remove the tweets that do not come from one of the 51 US states (including District of Columbia)\n",
    "- Split the dataframe into 4 splits using RegEx to check if any of the two candidates are mentioned:\n",
    "    - `df` includes all the tweets from The US \n",
    "    - `filtered_tweets_trump` includes all the tweets that mention Trump but not Biden\n",
    "    - `filtered_tweets_biden` includes all the tweets that mention Biden but not Trump\n",
    "    - `filtered_tweets` includes all the tweets that mention either Trump or Biden but not both\n",
    "\n",
    "The initial dataset consist of 1747805 tweets. After the cleaning we end up with the following: `df` = 284874, `filtered_tweets_trump` = 108299, `filtered_tweets_biden` = 80177 and `filtered_tweets` = 188476. The function `process_tweet` is also defined here, and will be used later, to clean the hashtag and split them into single words (e.g. #TrumpIsOrange = Trump Is Orange). "
   ]
  },
  {
   "cell_type": "code",
   "execution_count": 2,
   "metadata": {},
   "outputs": [],
   "source": [
    "path = os.getcwd()\n",
    "if os.name == \"nt\":  # For Windows\n",
    "    path_trump = path + \"\\\\data\\\\hashtag_donaldtrump.csv\"\n",
    "    path_biden = path + \"\\\\data\\\\hashtag_joebiden.csv\"\n",
    "else:  # For Unix/Linux/Mac\n",
    "    path_trump = path + \"/data/hashtag_donaldtrump.csv\"\n",
    "    path_biden = path + \"/data/hashtag_joebiden.csv\"\n",
    "\n",
    "trump = pd.read_csv(path_trump, lineterminator=\"\\n\")\n",
    "biden = pd.read_csv(path_biden, lineterminator=\"\\n\")\n",
    "trump[\"source\"] = \"Trump\"\n",
    "biden[\"source\"] = \"Biden\"\n",
    "# Concatenate and remove duplicates\n",
    "df = pd.concat([trump, biden], ignore_index=True)\n",
    "df = df.drop_duplicates()\n",
    "\n",
    "# Replace URLs with a placeholder text\n",
    "df[\"tweet\"] = df[\"tweet\"].apply(lambda x: re.sub(r\"http\\S+\", \"[]\", x))\n",
    "# Drop duplicates based on the cleaned tweet text\n",
    "df = df.drop_duplicates(subset=[\"tweet\"])\n",
    "\n",
    "us_states = [\n",
    "    \"Alabama\",\n",
    "    \"Alaska\",\n",
    "    \"Arizona\",\n",
    "    \"Arkansas\",\n",
    "    \"California\",\n",
    "    \"Colorado\",\n",
    "    \"Connecticut\",\n",
    "    \"Delaware\",\n",
    "    \"District of Columbia\",\n",
    "    \"Florida\",\n",
    "    \"Georgia\",\n",
    "    \"Hawaii\",\n",
    "    \"Idaho\",\n",
    "    \"Illinois\",\n",
    "    \"Indiana\",\n",
    "    \"Iowa\",\n",
    "    \"Kansas\",\n",
    "    \"Kentucky\",\n",
    "    \"Louisiana\",\n",
    "    \"Maine\",\n",
    "    \"Maryland\",\n",
    "    \"Massachusetts\",\n",
    "    \"Michigan\",\n",
    "    \"Minnesota\",\n",
    "    \"Mississippi\",\n",
    "    \"Missouri\",\n",
    "    \"Montana\",\n",
    "    \"Nebraska\",\n",
    "    \"Nevada\",\n",
    "    \"New Hampshire\",\n",
    "    \"New Jersey\",\n",
    "    \"New Mexico\",\n",
    "    \"New York\",\n",
    "    \"North Carolina\",\n",
    "    \"North Dakota\",\n",
    "    \"Ohio\",\n",
    "    \"Oklahoma\",\n",
    "    \"Oregon\",\n",
    "    \"Pennsylvania\",\n",
    "    \"Rhode Island\",\n",
    "    \"South Carolina\",\n",
    "    \"South Dakota\",\n",
    "    \"Tennessee\",\n",
    "    \"Texas\",\n",
    "    \"Utah\",\n",
    "    \"Vermont\",\n",
    "    \"Virginia\",\n",
    "    \"Washington\",\n",
    "    \"West Virginia\",\n",
    "    \"Wisconsin\",\n",
    "    \"Wyoming\",\n",
    "]\n",
    "\n",
    "df = df[df[\"state\"].isin(us_states)]\n",
    "\n",
    "frequent_names_trump = [\n",
    "    \"Trump\",\n",
    "    \"Donald\" \"Donald Trump\",\n",
    "    \"@realDonaldTrump\",\n",
    "    \"The Donald\",\n",
    "    \"45\",\n",
    "    \"Donald J. Trump\",\n",
    "    \"DJT\",\n",
    "    \"The Trump Administration\",\n",
    "    \"Trumpster\",\n",
    "    \"POTUS\",\n",
    "    \"@POTUS\",\n",
    "    \"Republican\",\n",
    "    \"Republicans\",\n",
    "    \"GOP\",\n",
    "    \"MAGA\",\n",
    "    \"Right Wing\",\n",
    "    \"the Right\",\n",
    "]\n",
    "frequent_names_biden = [\n",
    "    \"Biden\",\n",
    "    \"Joe Biden\",\n",
    "    \"@JoeBiden\",\n",
    "    \"The Biden\",\n",
    "    \"46\",\n",
    "    \"Joseph R. Biden\",\n",
    "    \"JRB\",\n",
    "    \"The Biden Administration\",\n",
    "    \"Bidenster\",\n",
    "    \"Joe\",\n",
    "    \"Joseph\",\n",
    "    \"Joseph Biden\",\n",
    "    \"Sleepy Joe\",\n",
    "    \"Uncle Joe\",\n",
    "    \"Dems\",\n",
    "    \"Democrat\",\n",
    "    \"Democrats\",\n",
    "    \"Left Wing\",\n",
    "    \"The Left\",\n",
    "]\n",
    "pattern_trump = \"|\".join(frequent_names_trump)\n",
    "pattern_biden = \"|\".join(frequent_names_biden)\n",
    "\n",
    "# Create boolean masks where tweets contain any of the frequent names\n",
    "mask_trump = df[\"tweet\"].str.contains(pattern_trump, case=False, na=False)\n",
    "mask_biden = df[\"tweet\"].str.contains(pattern_biden, case=False, na=False)\n",
    "\n",
    "# Combine the masks to filter for tweets containing Trump names but not Biden names or vice versa\n",
    "testdf = df.copy()\n",
    "testdf[\"tweet_about\"] = \"None\"\n",
    "filtered_tweets_trump = df[mask_trump & ~mask_biden]\n",
    "filtered_tweets_biden = df[mask_biden & ~mask_trump]\n",
    "\n",
    "testdf.loc[mask_trump & ~mask_biden, \"tweet_about\"] = \"trump\"\n",
    "testdf.loc[mask_biden & ~mask_trump, \"tweet_about\"] = \"biden\"\n",
    "\n",
    "filtered_tweets = testdf[(mask_trump & ~mask_biden) ^ (mask_biden & ~mask_trump)]\n",
    "filtered_tweets = filtered_tweets.drop_duplicates(subset=[\"tweet\"])\n",
    "\n",
    "wordninja.DEFAULT_LANGUAGE_MODEL = wordninja.LanguageModel(\"wordninja_words_our.txt.gz\")\n",
    "\n",
    "\n",
    "def process_tweet(text):\n",
    "    def split_hashtag(match):\n",
    "        words = wordninja.split(match.group())\n",
    "        return \" \".join(words)\n",
    "\n",
    "    # Remove all URLs\n",
    "    text = re.sub(r\"http\\S+|www\\S+|https\\S+\", \"\", text, flags=re.MULTILINE)\n",
    "\n",
    "    # Replace all hashtags with split words\n",
    "    processed_text = re.sub(r\"#\\w+\\b\", split_hashtag, text)\n",
    "    return processed_text\n",
    "\n",
    "\n",
    "# Example usage\n",
    "# text = \"Check this out: https://example.com The US is the Best Country in the world! #USA #US #America!! #UnitedStates!\"\n",
    "# processed_text = process_tweet(text)\n",
    "# print(processed_text)"
   ]
  },
  {
   "cell_type": "markdown",
   "metadata": {},
   "source": [
    "### LSH"
   ]
  },
  {
   "cell_type": "code",
   "execution_count": null,
   "metadata": {},
   "outputs": [
    {
     "name": "stdout",
     "output_type": "stream",
     "text": [
      "Processing hashtags...\n",
      "Creating MinHash signatures...\n",
      "Finding candidate pairs...\n",
      "Building similarity graph...\n",
      "Finding communities...\n",
      "Creating cluster information...\n",
      "\n",
      "Found 6 topic clusters:\n",
      "\n",
      "Cluster 7:\n",
      "Size: 108976 documents\n",
      "Top terms: vote, election, president, america, debate, maga\n",
      "\n",
      "Example documents:\n",
      "- Trump President Trump Trump 2020 Landslide Victory Trump 2020 MAGA KA G 4 More Years America America...\n",
      "- Comments on this? \"Do Democrats Understand how Ruthless China is?\" [] China Hunter Biden Joe Biden B...\n",
      "- Trump is tearing up Biden at the Trump Rally over the Hunter Biden Emails...\n",
      "------------------------\n",
      "\n",
      "Cluster 14766:\n",
      "Size: 49 documents\n",
      "Top terms: corruption, politics, linked, civil, lgbt, rights\n",
      "\n",
      "Example documents:\n",
      "- Via @RawStory: New York Post newsroom staff didn’t believe the Hunter Biden conspiracy — but they pu...\n",
      "- Via @RawStory: Neuroscience expert: Another surprise Trump victory is unlikely to happen [] | politi...\n",
      "- Via @RawStory: These 6 key battleground states will decide the 2020 presidential election — and Trum...\n",
      "------------------------\n",
      "\n",
      "Cluster 63377:\n",
      "Size: 80 documents\n",
      "Top terms: racehorse, sisters, brothers, theory, mouth, know\n",
      "\n",
      "Example documents:\n",
      "- @realDonaldTrump For my brothers &amp; sisters:\n",
      "With just a few days to go, hear for yourself.\n",
      "Trump...\n",
      "- @realDonaldTrump @OANN For my brothers &amp; sisters:\n",
      "With just a few days to go, hear for yourself....\n",
      "- @MichelleObama For my brothers &amp; sisters:\n",
      "With just a few days to go, hear for yourself.\n",
      "Trump's...\n",
      "------------------------\n",
      "\n",
      "Cluster 101783:\n",
      "Size: 52 documents\n",
      "Top terms: meadows, staff, mark, chief, coronavirus, covid\n",
      "\n",
      "Example documents:\n",
      "- Just hearing the Chief of Staff Mark Meadows has tested positive for COVID 19. I guess Trump is goin...\n",
      "- MT @JenniferJJacobs BREAKING: Trump's chief of staff, Mark Meadows, has the coronavirus. Meadows inf...\n",
      "- Trump's chief of staff, Mark Meadows, has the COVID. []...\n",
      "------------------------\n",
      "\n",
      "Cluster 119402:\n",
      "Size: 91 documents\n",
      "Top terms: clearance, watch, point, security, democrat, laptop\n",
      "\n",
      "Example documents:\n",
      "- Its sad that it takes Sky news from Australia to report on Hunter biden laptop,  Journalism is not d...\n",
      "- @zahracarthagech @JoeBiden Its sad that it takes Sky news from Australia to report on Hunter biden l...\n",
      "- @LeaKThompson Its sad that it takes Sky news from Australia to report on Hunter biden laptop,  Journ...\n",
      "------------------------\n",
      "\n",
      "Cluster 133352:\n",
      "Size: 45 documents\n",
      "Top terms: plan, recovery, action, covid, pass, jaketapper\n",
      "\n",
      "Example documents:\n",
      "- @andThisAndThat Joe Biden’s COVID 19 recovery action plan here: []...\n",
      "- @GloriaBCollins @YouTube Joe Biden’s COVID 19 recovery action plan here: []...\n",
      "- @Man_of_Florida @chrislongview Joe Biden’s COVID 19 recovery action plan here: []...\n",
      "------------------------\n"
     ]
    },
    {
     "data": {
      "application/vnd.plotly.v1+json": {
       "config": {
        "plotlyServerURL": "https://plot.ly"
       },
       "data": [
        {
         "hoverinfo": "text",
         "hovertext": "Term: vote",
         "mode": "text",
         "opacity": 1,
         "showlegend": false,
         "text": [
          "vote"
         ],
         "textfont": {
          "color": "#1f77b4",
          "family": "Arial Black",
          "size": 50
         },
         "type": "scatter",
         "x": [
          0
         ],
         "xaxis": "x",
         "y": [
          0
         ],
         "yaxis": "y"
        },
        {
         "hoverinfo": "text",
         "hovertext": "Term: election",
         "mode": "text",
         "opacity": 0.9166666666666666,
         "showlegend": false,
         "text": [
          "election"
         ],
         "textfont": {
          "color": "#1f77b4",
          "family": "Arial",
          "size": 42.5
         },
         "type": "scatter",
         "x": [
          3.67394039744206e-17
         ],
         "xaxis": "x",
         "y": [
          0.6000000000000001
         ],
         "yaxis": "y"
        },
        {
         "hoverinfo": "text",
         "hovertext": "Term: president",
         "mode": "text",
         "opacity": 0.8333333333333334,
         "showlegend": false,
         "text": [
          "president"
         ],
         "textfont": {
          "color": "#1f77b4",
          "family": "Arial",
          "size": 36.12499999999999
         },
         "type": "scatter",
         "x": [
          -0.22961005941905424
         ],
         "xaxis": "x",
         "y": [
          -0.554327719506772
         ],
         "yaxis": "y"
        },
        {
         "hoverinfo": "text",
         "hovertext": "Term: america",
         "mode": "text",
         "opacity": 0.75,
         "showlegend": false,
         "text": [
          "america"
         ],
         "textfont": {
          "color": "#1f77b4",
          "family": "Arial",
          "size": 30.706249999999997
         },
         "type": "scatter",
         "x": [
          -0.9000000000000001
         ],
         "xaxis": "x",
         "y": [
          1.102182119232618e-16
         ],
         "yaxis": "y"
        },
        {
         "hoverinfo": "text",
         "hovertext": "Term: debate",
         "mode": "text",
         "opacity": 0.6666666666666667,
         "showlegend": false,
         "text": [
          "debate"
         ],
         "textfont": {
          "color": "#1f77b4",
          "family": "Arial",
          "size": 26.100312499999994
         },
         "type": "scatter",
         "x": [
          -0.45000000000000046
         ],
         "xaxis": "x",
         "y": [
          -0.7794228634059946
         ],
         "yaxis": "y"
        },
        {
         "hoverinfo": "text",
         "hovertext": "Term: maga",
         "mode": "text",
         "opacity": 0.5833333333333333,
         "showlegend": false,
         "text": [
          "maga"
         ],
         "textfont": {
          "color": "#1f77b4",
          "family": "Arial",
          "size": 22.185265624999996
         },
         "type": "scatter",
         "x": [
          0.9000000000000001
         ],
         "xaxis": "x",
         "y": [
          0
         ],
         "yaxis": "y"
        },
        {
         "hoverinfo": "text",
         "hovertext": "Term: corruption",
         "mode": "text",
         "opacity": 1,
         "showlegend": false,
         "text": [
          "corruption"
         ],
         "textfont": {
          "color": "#ff7f0e",
          "family": "Arial Black",
          "size": 50
         },
         "type": "scatter",
         "x": [
          0
         ],
         "xaxis": "x2",
         "y": [
          0
         ],
         "yaxis": "y2"
        },
        {
         "hoverinfo": "text",
         "hovertext": "Term: politics",
         "mode": "text",
         "opacity": 0.9166666666666666,
         "showlegend": false,
         "text": [
          "politics"
         ],
         "textfont": {
          "color": "#ff7f0e",
          "family": "Arial",
          "size": 42.5
         },
         "type": "scatter",
         "x": [
          3.67394039744206e-17
         ],
         "xaxis": "x2",
         "y": [
          0.6000000000000001
         ],
         "yaxis": "y2"
        },
        {
         "hoverinfo": "text",
         "hovertext": "Term: linked",
         "mode": "text",
         "opacity": 0.8333333333333334,
         "showlegend": false,
         "text": [
          "linked"
         ],
         "textfont": {
          "color": "#ff7f0e",
          "family": "Arial",
          "size": 36.12499999999999
         },
         "type": "scatter",
         "x": [
          -0.22961005941905424
         ],
         "xaxis": "x2",
         "y": [
          -0.554327719506772
         ],
         "yaxis": "y2"
        },
        {
         "hoverinfo": "text",
         "hovertext": "Term: civil",
         "mode": "text",
         "opacity": 0.75,
         "showlegend": false,
         "text": [
          "civil"
         ],
         "textfont": {
          "color": "#ff7f0e",
          "family": "Arial",
          "size": 30.706249999999997
         },
         "type": "scatter",
         "x": [
          -0.9000000000000001
         ],
         "xaxis": "x2",
         "y": [
          1.102182119232618e-16
         ],
         "yaxis": "y2"
        },
        {
         "hoverinfo": "text",
         "hovertext": "Term: lgbt",
         "mode": "text",
         "opacity": 0.6666666666666667,
         "showlegend": false,
         "text": [
          "lgbt"
         ],
         "textfont": {
          "color": "#ff7f0e",
          "family": "Arial",
          "size": 26.100312499999994
         },
         "type": "scatter",
         "x": [
          -0.45000000000000046
         ],
         "xaxis": "x2",
         "y": [
          -0.7794228634059946
         ],
         "yaxis": "y2"
        },
        {
         "hoverinfo": "text",
         "hovertext": "Term: rights",
         "mode": "text",
         "opacity": 0.5833333333333333,
         "showlegend": false,
         "text": [
          "rights"
         ],
         "textfont": {
          "color": "#ff7f0e",
          "family": "Arial",
          "size": 22.185265624999996
         },
         "type": "scatter",
         "x": [
          0.4500000000000002
         ],
         "xaxis": "x2",
         "y": [
          -0.7794228634059949
         ],
         "yaxis": "y2"
        },
        {
         "hoverinfo": "text",
         "hovertext": "Term: racehorse",
         "mode": "text",
         "opacity": 1,
         "showlegend": false,
         "text": [
          "racehorse"
         ],
         "textfont": {
          "color": "#2ca02c",
          "family": "Arial Black",
          "size": 50
         },
         "type": "scatter",
         "x": [
          0
         ],
         "xaxis": "x3",
         "y": [
          0
         ],
         "yaxis": "y3"
        },
        {
         "hoverinfo": "text",
         "hovertext": "Term: sisters",
         "mode": "text",
         "opacity": 0.9166666666666666,
         "showlegend": false,
         "text": [
          "sisters"
         ],
         "textfont": {
          "color": "#2ca02c",
          "family": "Arial",
          "size": 42.5
         },
         "type": "scatter",
         "x": [
          3.67394039744206e-17
         ],
         "xaxis": "x3",
         "y": [
          0.6000000000000001
         ],
         "yaxis": "y3"
        },
        {
         "hoverinfo": "text",
         "hovertext": "Term: brothers",
         "mode": "text",
         "opacity": 0.8333333333333334,
         "showlegend": false,
         "text": [
          "brothers"
         ],
         "textfont": {
          "color": "#2ca02c",
          "family": "Arial",
          "size": 36.12499999999999
         },
         "type": "scatter",
         "x": [
          -0.22961005941905424
         ],
         "xaxis": "x3",
         "y": [
          -0.554327719506772
         ],
         "yaxis": "y3"
        },
        {
         "hoverinfo": "text",
         "hovertext": "Term: theory",
         "mode": "text",
         "opacity": 0.75,
         "showlegend": false,
         "text": [
          "theory"
         ],
         "textfont": {
          "color": "#2ca02c",
          "family": "Arial",
          "size": 30.706249999999997
         },
         "type": "scatter",
         "x": [
          -0.9000000000000001
         ],
         "xaxis": "x3",
         "y": [
          1.102182119232618e-16
         ],
         "yaxis": "y3"
        },
        {
         "hoverinfo": "text",
         "hovertext": "Term: mouth",
         "mode": "text",
         "opacity": 0.6666666666666667,
         "showlegend": false,
         "text": [
          "mouth"
         ],
         "textfont": {
          "color": "#2ca02c",
          "family": "Arial",
          "size": 26.100312499999994
         },
         "type": "scatter",
         "x": [
          -0.45000000000000046
         ],
         "xaxis": "x3",
         "y": [
          -0.7794228634059946
         ],
         "yaxis": "y3"
        },
        {
         "hoverinfo": "text",
         "hovertext": "Term: know",
         "mode": "text",
         "opacity": 0.5833333333333333,
         "showlegend": false,
         "text": [
          "know"
         ],
         "textfont": {
          "color": "#2ca02c",
          "family": "Arial",
          "size": 22.185265624999996
         },
         "type": "scatter",
         "x": [
          0.4500000000000002
         ],
         "xaxis": "x3",
         "y": [
          -0.7794228634059949
         ],
         "yaxis": "y3"
        },
        {
         "hoverinfo": "text",
         "hovertext": "Term: meadows",
         "mode": "text",
         "opacity": 1,
         "showlegend": false,
         "text": [
          "meadows"
         ],
         "textfont": {
          "color": "#d62728",
          "family": "Arial Black",
          "size": 50
         },
         "type": "scatter",
         "x": [
          0
         ],
         "xaxis": "x4",
         "y": [
          0
         ],
         "yaxis": "y4"
        },
        {
         "hoverinfo": "text",
         "hovertext": "Term: staff",
         "mode": "text",
         "opacity": 0.9166666666666666,
         "showlegend": false,
         "text": [
          "staff"
         ],
         "textfont": {
          "color": "#d62728",
          "family": "Arial",
          "size": 42.5
         },
         "type": "scatter",
         "x": [
          3.67394039744206e-17
         ],
         "xaxis": "x4",
         "y": [
          0.6000000000000001
         ],
         "yaxis": "y4"
        },
        {
         "hoverinfo": "text",
         "hovertext": "Term: mark",
         "mode": "text",
         "opacity": 0.8333333333333334,
         "showlegend": false,
         "text": [
          "mark"
         ],
         "textfont": {
          "color": "#d62728",
          "family": "Arial",
          "size": 36.12499999999999
         },
         "type": "scatter",
         "x": [
          -0.22961005941905424
         ],
         "xaxis": "x4",
         "y": [
          -0.554327719506772
         ],
         "yaxis": "y4"
        },
        {
         "hoverinfo": "text",
         "hovertext": "Term: chief",
         "mode": "text",
         "opacity": 0.75,
         "showlegend": false,
         "text": [
          "chief"
         ],
         "textfont": {
          "color": "#d62728",
          "family": "Arial",
          "size": 30.706249999999997
         },
         "type": "scatter",
         "x": [
          0.6363961030678927
         ],
         "xaxis": "x4",
         "y": [
          -0.636396103067893
         ],
         "yaxis": "y4"
        },
        {
         "hoverinfo": "text",
         "hovertext": "Term: coronavirus",
         "mode": "text",
         "opacity": 0.6666666666666667,
         "showlegend": false,
         "text": [
          "coronavirus"
         ],
         "textfont": {
          "color": "#d62728",
          "family": "Arial",
          "size": 26.100312499999994
         },
         "type": "scatter",
         "x": [
          -0.45000000000000046
         ],
         "xaxis": "x4",
         "y": [
          -0.7794228634059946
         ],
         "yaxis": "y4"
        },
        {
         "hoverinfo": "text",
         "hovertext": "Term: covid",
         "mode": "text",
         "opacity": 0.5833333333333333,
         "showlegend": false,
         "text": [
          "covid"
         ],
         "textfont": {
          "color": "#d62728",
          "family": "Arial",
          "size": 22.185265624999996
         },
         "type": "scatter",
         "x": [
          0.4500000000000002
         ],
         "xaxis": "x4",
         "y": [
          -0.7794228634059949
         ],
         "yaxis": "y4"
        },
        {
         "hoverinfo": "text",
         "hovertext": "Term: clearance",
         "mode": "text",
         "opacity": 1,
         "showlegend": false,
         "text": [
          "clearance"
         ],
         "textfont": {
          "color": "#9467bd",
          "family": "Arial Black",
          "size": 50
         },
         "type": "scatter",
         "x": [
          0
         ],
         "xaxis": "x5",
         "y": [
          0
         ],
         "yaxis": "y5"
        },
        {
         "hoverinfo": "text",
         "hovertext": "Term: watch",
         "mode": "text",
         "opacity": 0.9166666666666666,
         "showlegend": false,
         "text": [
          "watch"
         ],
         "textfont": {
          "color": "#9467bd",
          "family": "Arial",
          "size": 42.5
         },
         "type": "scatter",
         "x": [
          3.67394039744206e-17
         ],
         "xaxis": "x5",
         "y": [
          0.6000000000000001
         ],
         "yaxis": "y5"
        },
        {
         "hoverinfo": "text",
         "hovertext": "Term: point",
         "mode": "text",
         "opacity": 0.8333333333333334,
         "showlegend": false,
         "text": [
          "point"
         ],
         "textfont": {
          "color": "#9467bd",
          "family": "Arial",
          "size": 36.12499999999999
         },
         "type": "scatter",
         "x": [
          -0.22961005941905424
         ],
         "xaxis": "x5",
         "y": [
          -0.554327719506772
         ],
         "yaxis": "y5"
        },
        {
         "hoverinfo": "text",
         "hovertext": "Term: security",
         "mode": "text",
         "opacity": 0.75,
         "showlegend": false,
         "text": [
          "security"
         ],
         "textfont": {
          "color": "#9467bd",
          "family": "Arial",
          "size": 30.706249999999997
         },
         "type": "scatter",
         "x": [
          -0.9000000000000001
         ],
         "xaxis": "x5",
         "y": [
          1.102182119232618e-16
         ],
         "yaxis": "y5"
        },
        {
         "hoverinfo": "text",
         "hovertext": "Term: democrat",
         "mode": "text",
         "opacity": 0.6666666666666667,
         "showlegend": false,
         "text": [
          "democrat"
         ],
         "textfont": {
          "color": "#9467bd",
          "family": "Arial",
          "size": 26.100312499999994
         },
         "type": "scatter",
         "x": [
          -0.45000000000000046
         ],
         "xaxis": "x5",
         "y": [
          -0.7794228634059946
         ],
         "yaxis": "y5"
        },
        {
         "hoverinfo": "text",
         "hovertext": "Term: laptop",
         "mode": "text",
         "opacity": 0.5833333333333333,
         "showlegend": false,
         "text": [
          "laptop"
         ],
         "textfont": {
          "color": "#9467bd",
          "family": "Arial",
          "size": 22.185265624999996
         },
         "type": "scatter",
         "x": [
          0.4500000000000002
         ],
         "xaxis": "x5",
         "y": [
          -0.7794228634059949
         ],
         "yaxis": "y5"
        },
        {
         "hoverinfo": "text",
         "hovertext": "Term: plan",
         "mode": "text",
         "opacity": 1,
         "showlegend": false,
         "text": [
          "plan"
         ],
         "textfont": {
          "color": "#8c564b",
          "family": "Arial Black",
          "size": 50
         },
         "type": "scatter",
         "x": [
          0
         ],
         "xaxis": "x6",
         "y": [
          0
         ],
         "yaxis": "y6"
        },
        {
         "hoverinfo": "text",
         "hovertext": "Term: recovery",
         "mode": "text",
         "opacity": 0.9166666666666666,
         "showlegend": false,
         "text": [
          "recovery"
         ],
         "textfont": {
          "color": "#8c564b",
          "family": "Arial",
          "size": 42.5
         },
         "type": "scatter",
         "x": [
          3.67394039744206e-17
         ],
         "xaxis": "x6",
         "y": [
          0.6000000000000001
         ],
         "yaxis": "y6"
        },
        {
         "hoverinfo": "text",
         "hovertext": "Term: action",
         "mode": "text",
         "opacity": 0.8333333333333334,
         "showlegend": false,
         "text": [
          "action"
         ],
         "textfont": {
          "color": "#8c564b",
          "family": "Arial",
          "size": 36.12499999999999
         },
         "type": "scatter",
         "x": [
          -0.22961005941905424
         ],
         "xaxis": "x6",
         "y": [
          -0.554327719506772
         ],
         "yaxis": "y6"
        },
        {
         "hoverinfo": "text",
         "hovertext": "Term: covid",
         "mode": "text",
         "opacity": 0.75,
         "showlegend": false,
         "text": [
          "covid"
         ],
         "textfont": {
          "color": "#8c564b",
          "family": "Arial",
          "size": 30.706249999999997
         },
         "type": "scatter",
         "x": [
          -0.9000000000000001
         ],
         "xaxis": "x6",
         "y": [
          1.102182119232618e-16
         ],
         "yaxis": "y6"
        },
        {
         "hoverinfo": "text",
         "hovertext": "Term: pass",
         "mode": "text",
         "opacity": 0.6666666666666667,
         "showlegend": false,
         "text": [
          "pass"
         ],
         "textfont": {
          "color": "#8c564b",
          "family": "Arial",
          "size": 26.100312499999994
         },
         "type": "scatter",
         "x": [
          0.9000000000000001
         ],
         "xaxis": "x6",
         "y": [
          0
         ],
         "yaxis": "y6"
        },
        {
         "hoverinfo": "text",
         "hovertext": "Term: jaketapper",
         "mode": "text",
         "opacity": 0.5833333333333333,
         "showlegend": false,
         "text": [
          "jaketapper"
         ],
         "textfont": {
          "color": "#8c564b",
          "family": "Arial",
          "size": 22.185265624999996
         },
         "type": "scatter",
         "x": [
          0.4500000000000002
         ],
         "xaxis": "x6",
         "y": [
          -0.7794228634059949
         ],
         "yaxis": "y6"
        }
       ],
       "layout": {
        "annotations": [
         {
          "font": {
           "size": 20
          },
          "showarrow": false,
          "text": "Cluster 1<br><sup>(108976 elements)</sup>",
          "x": 0.15,
          "xanchor": "center",
          "xref": "paper",
          "y": 1,
          "yanchor": "bottom",
          "yref": "paper"
         },
         {
          "font": {
           "size": 20
          },
          "showarrow": false,
          "text": "Cluster 2<br><sup>(49 elements)</sup>",
          "x": 0.49999999999999994,
          "xanchor": "center",
          "xref": "paper",
          "y": 1,
          "yanchor": "bottom",
          "yref": "paper"
         },
         {
          "font": {
           "size": 20
          },
          "showarrow": false,
          "text": "Cluster 3<br><sup>(80 elements)</sup>",
          "x": 0.85,
          "xanchor": "center",
          "xref": "paper",
          "y": 1,
          "yanchor": "bottom",
          "yref": "paper"
         },
         {
          "font": {
           "size": 20
          },
          "showarrow": false,
          "text": "Cluster 4<br><sup>(52 elements)</sup>",
          "x": 0.15,
          "xanchor": "center",
          "xref": "paper",
          "y": 0.425,
          "yanchor": "bottom",
          "yref": "paper"
         },
         {
          "font": {
           "size": 20
          },
          "showarrow": false,
          "text": "Cluster 5<br><sup>(91 elements)</sup>",
          "x": 0.49999999999999994,
          "xanchor": "center",
          "xref": "paper",
          "y": 0.425,
          "yanchor": "bottom",
          "yref": "paper"
         },
         {
          "font": {
           "size": 20
          },
          "showarrow": false,
          "text": "Cluster 6<br><sup>(45 elements)</sup>",
          "x": 0.85,
          "xanchor": "center",
          "xref": "paper",
          "y": 0.425,
          "yanchor": "bottom",
          "yref": "paper"
         }
        ],
        "height": 1200,
        "paper_bgcolor": "white",
        "plot_bgcolor": "white",
        "showlegend": false,
        "template": {
         "data": {
          "bar": [
           {
            "error_x": {
             "color": "#2a3f5f"
            },
            "error_y": {
             "color": "#2a3f5f"
            },
            "marker": {
             "line": {
              "color": "#E5ECF6",
              "width": 0.5
             },
             "pattern": {
              "fillmode": "overlay",
              "size": 10,
              "solidity": 0.2
             }
            },
            "type": "bar"
           }
          ],
          "barpolar": [
           {
            "marker": {
             "line": {
              "color": "#E5ECF6",
              "width": 0.5
             },
             "pattern": {
              "fillmode": "overlay",
              "size": 10,
              "solidity": 0.2
             }
            },
            "type": "barpolar"
           }
          ],
          "carpet": [
           {
            "aaxis": {
             "endlinecolor": "#2a3f5f",
             "gridcolor": "white",
             "linecolor": "white",
             "minorgridcolor": "white",
             "startlinecolor": "#2a3f5f"
            },
            "baxis": {
             "endlinecolor": "#2a3f5f",
             "gridcolor": "white",
             "linecolor": "white",
             "minorgridcolor": "white",
             "startlinecolor": "#2a3f5f"
            },
            "type": "carpet"
           }
          ],
          "choropleth": [
           {
            "colorbar": {
             "outlinewidth": 0,
             "ticks": ""
            },
            "type": "choropleth"
           }
          ],
          "contour": [
           {
            "colorbar": {
             "outlinewidth": 0,
             "ticks": ""
            },
            "colorscale": [
             [
              0,
              "#0d0887"
             ],
             [
              0.1111111111111111,
              "#46039f"
             ],
             [
              0.2222222222222222,
              "#7201a8"
             ],
             [
              0.3333333333333333,
              "#9c179e"
             ],
             [
              0.4444444444444444,
              "#bd3786"
             ],
             [
              0.5555555555555556,
              "#d8576b"
             ],
             [
              0.6666666666666666,
              "#ed7953"
             ],
             [
              0.7777777777777778,
              "#fb9f3a"
             ],
             [
              0.8888888888888888,
              "#fdca26"
             ],
             [
              1,
              "#f0f921"
             ]
            ],
            "type": "contour"
           }
          ],
          "contourcarpet": [
           {
            "colorbar": {
             "outlinewidth": 0,
             "ticks": ""
            },
            "type": "contourcarpet"
           }
          ],
          "heatmap": [
           {
            "colorbar": {
             "outlinewidth": 0,
             "ticks": ""
            },
            "colorscale": [
             [
              0,
              "#0d0887"
             ],
             [
              0.1111111111111111,
              "#46039f"
             ],
             [
              0.2222222222222222,
              "#7201a8"
             ],
             [
              0.3333333333333333,
              "#9c179e"
             ],
             [
              0.4444444444444444,
              "#bd3786"
             ],
             [
              0.5555555555555556,
              "#d8576b"
             ],
             [
              0.6666666666666666,
              "#ed7953"
             ],
             [
              0.7777777777777778,
              "#fb9f3a"
             ],
             [
              0.8888888888888888,
              "#fdca26"
             ],
             [
              1,
              "#f0f921"
             ]
            ],
            "type": "heatmap"
           }
          ],
          "heatmapgl": [
           {
            "colorbar": {
             "outlinewidth": 0,
             "ticks": ""
            },
            "colorscale": [
             [
              0,
              "#0d0887"
             ],
             [
              0.1111111111111111,
              "#46039f"
             ],
             [
              0.2222222222222222,
              "#7201a8"
             ],
             [
              0.3333333333333333,
              "#9c179e"
             ],
             [
              0.4444444444444444,
              "#bd3786"
             ],
             [
              0.5555555555555556,
              "#d8576b"
             ],
             [
              0.6666666666666666,
              "#ed7953"
             ],
             [
              0.7777777777777778,
              "#fb9f3a"
             ],
             [
              0.8888888888888888,
              "#fdca26"
             ],
             [
              1,
              "#f0f921"
             ]
            ],
            "type": "heatmapgl"
           }
          ],
          "histogram": [
           {
            "marker": {
             "pattern": {
              "fillmode": "overlay",
              "size": 10,
              "solidity": 0.2
             }
            },
            "type": "histogram"
           }
          ],
          "histogram2d": [
           {
            "colorbar": {
             "outlinewidth": 0,
             "ticks": ""
            },
            "colorscale": [
             [
              0,
              "#0d0887"
             ],
             [
              0.1111111111111111,
              "#46039f"
             ],
             [
              0.2222222222222222,
              "#7201a8"
             ],
             [
              0.3333333333333333,
              "#9c179e"
             ],
             [
              0.4444444444444444,
              "#bd3786"
             ],
             [
              0.5555555555555556,
              "#d8576b"
             ],
             [
              0.6666666666666666,
              "#ed7953"
             ],
             [
              0.7777777777777778,
              "#fb9f3a"
             ],
             [
              0.8888888888888888,
              "#fdca26"
             ],
             [
              1,
              "#f0f921"
             ]
            ],
            "type": "histogram2d"
           }
          ],
          "histogram2dcontour": [
           {
            "colorbar": {
             "outlinewidth": 0,
             "ticks": ""
            },
            "colorscale": [
             [
              0,
              "#0d0887"
             ],
             [
              0.1111111111111111,
              "#46039f"
             ],
             [
              0.2222222222222222,
              "#7201a8"
             ],
             [
              0.3333333333333333,
              "#9c179e"
             ],
             [
              0.4444444444444444,
              "#bd3786"
             ],
             [
              0.5555555555555556,
              "#d8576b"
             ],
             [
              0.6666666666666666,
              "#ed7953"
             ],
             [
              0.7777777777777778,
              "#fb9f3a"
             ],
             [
              0.8888888888888888,
              "#fdca26"
             ],
             [
              1,
              "#f0f921"
             ]
            ],
            "type": "histogram2dcontour"
           }
          ],
          "mesh3d": [
           {
            "colorbar": {
             "outlinewidth": 0,
             "ticks": ""
            },
            "type": "mesh3d"
           }
          ],
          "parcoords": [
           {
            "line": {
             "colorbar": {
              "outlinewidth": 0,
              "ticks": ""
             }
            },
            "type": "parcoords"
           }
          ],
          "pie": [
           {
            "automargin": true,
            "type": "pie"
           }
          ],
          "scatter": [
           {
            "fillpattern": {
             "fillmode": "overlay",
             "size": 10,
             "solidity": 0.2
            },
            "type": "scatter"
           }
          ],
          "scatter3d": [
           {
            "line": {
             "colorbar": {
              "outlinewidth": 0,
              "ticks": ""
             }
            },
            "marker": {
             "colorbar": {
              "outlinewidth": 0,
              "ticks": ""
             }
            },
            "type": "scatter3d"
           }
          ],
          "scattercarpet": [
           {
            "marker": {
             "colorbar": {
              "outlinewidth": 0,
              "ticks": ""
             }
            },
            "type": "scattercarpet"
           }
          ],
          "scattergeo": [
           {
            "marker": {
             "colorbar": {
              "outlinewidth": 0,
              "ticks": ""
             }
            },
            "type": "scattergeo"
           }
          ],
          "scattergl": [
           {
            "marker": {
             "colorbar": {
              "outlinewidth": 0,
              "ticks": ""
             }
            },
            "type": "scattergl"
           }
          ],
          "scattermapbox": [
           {
            "marker": {
             "colorbar": {
              "outlinewidth": 0,
              "ticks": ""
             }
            },
            "type": "scattermapbox"
           }
          ],
          "scatterpolar": [
           {
            "marker": {
             "colorbar": {
              "outlinewidth": 0,
              "ticks": ""
             }
            },
            "type": "scatterpolar"
           }
          ],
          "scatterpolargl": [
           {
            "marker": {
             "colorbar": {
              "outlinewidth": 0,
              "ticks": ""
             }
            },
            "type": "scatterpolargl"
           }
          ],
          "scatterternary": [
           {
            "marker": {
             "colorbar": {
              "outlinewidth": 0,
              "ticks": ""
             }
            },
            "type": "scatterternary"
           }
          ],
          "surface": [
           {
            "colorbar": {
             "outlinewidth": 0,
             "ticks": ""
            },
            "colorscale": [
             [
              0,
              "#0d0887"
             ],
             [
              0.1111111111111111,
              "#46039f"
             ],
             [
              0.2222222222222222,
              "#7201a8"
             ],
             [
              0.3333333333333333,
              "#9c179e"
             ],
             [
              0.4444444444444444,
              "#bd3786"
             ],
             [
              0.5555555555555556,
              "#d8576b"
             ],
             [
              0.6666666666666666,
              "#ed7953"
             ],
             [
              0.7777777777777778,
              "#fb9f3a"
             ],
             [
              0.8888888888888888,
              "#fdca26"
             ],
             [
              1,
              "#f0f921"
             ]
            ],
            "type": "surface"
           }
          ],
          "table": [
           {
            "cells": {
             "fill": {
              "color": "#EBF0F8"
             },
             "line": {
              "color": "white"
             }
            },
            "header": {
             "fill": {
              "color": "#C8D4E3"
             },
             "line": {
              "color": "white"
             }
            },
            "type": "table"
           }
          ]
         },
         "layout": {
          "annotationdefaults": {
           "arrowcolor": "#2a3f5f",
           "arrowhead": 0,
           "arrowwidth": 1
          },
          "autotypenumbers": "strict",
          "coloraxis": {
           "colorbar": {
            "outlinewidth": 0,
            "ticks": ""
           }
          },
          "colorscale": {
           "diverging": [
            [
             0,
             "#8e0152"
            ],
            [
             0.1,
             "#c51b7d"
            ],
            [
             0.2,
             "#de77ae"
            ],
            [
             0.3,
             "#f1b6da"
            ],
            [
             0.4,
             "#fde0ef"
            ],
            [
             0.5,
             "#f7f7f7"
            ],
            [
             0.6,
             "#e6f5d0"
            ],
            [
             0.7,
             "#b8e186"
            ],
            [
             0.8,
             "#7fbc41"
            ],
            [
             0.9,
             "#4d9221"
            ],
            [
             1,
             "#276419"
            ]
           ],
           "sequential": [
            [
             0,
             "#0d0887"
            ],
            [
             0.1111111111111111,
             "#46039f"
            ],
            [
             0.2222222222222222,
             "#7201a8"
            ],
            [
             0.3333333333333333,
             "#9c179e"
            ],
            [
             0.4444444444444444,
             "#bd3786"
            ],
            [
             0.5555555555555556,
             "#d8576b"
            ],
            [
             0.6666666666666666,
             "#ed7953"
            ],
            [
             0.7777777777777778,
             "#fb9f3a"
            ],
            [
             0.8888888888888888,
             "#fdca26"
            ],
            [
             1,
             "#f0f921"
            ]
           ],
           "sequentialminus": [
            [
             0,
             "#0d0887"
            ],
            [
             0.1111111111111111,
             "#46039f"
            ],
            [
             0.2222222222222222,
             "#7201a8"
            ],
            [
             0.3333333333333333,
             "#9c179e"
            ],
            [
             0.4444444444444444,
             "#bd3786"
            ],
            [
             0.5555555555555556,
             "#d8576b"
            ],
            [
             0.6666666666666666,
             "#ed7953"
            ],
            [
             0.7777777777777778,
             "#fb9f3a"
            ],
            [
             0.8888888888888888,
             "#fdca26"
            ],
            [
             1,
             "#f0f921"
            ]
           ]
          },
          "colorway": [
           "#636efa",
           "#EF553B",
           "#00cc96",
           "#ab63fa",
           "#FFA15A",
           "#19d3f3",
           "#FF6692",
           "#B6E880",
           "#FF97FF",
           "#FECB52"
          ],
          "font": {
           "color": "#2a3f5f"
          },
          "geo": {
           "bgcolor": "white",
           "lakecolor": "white",
           "landcolor": "#E5ECF6",
           "showlakes": true,
           "showland": true,
           "subunitcolor": "white"
          },
          "hoverlabel": {
           "align": "left"
          },
          "hovermode": "closest",
          "mapbox": {
           "style": "light"
          },
          "paper_bgcolor": "white",
          "plot_bgcolor": "#E5ECF6",
          "polar": {
           "angularaxis": {
            "gridcolor": "white",
            "linecolor": "white",
            "ticks": ""
           },
           "bgcolor": "#E5ECF6",
           "radialaxis": {
            "gridcolor": "white",
            "linecolor": "white",
            "ticks": ""
           }
          },
          "scene": {
           "xaxis": {
            "backgroundcolor": "#E5ECF6",
            "gridcolor": "white",
            "gridwidth": 2,
            "linecolor": "white",
            "showbackground": true,
            "ticks": "",
            "zerolinecolor": "white"
           },
           "yaxis": {
            "backgroundcolor": "#E5ECF6",
            "gridcolor": "white",
            "gridwidth": 2,
            "linecolor": "white",
            "showbackground": true,
            "ticks": "",
            "zerolinecolor": "white"
           },
           "zaxis": {
            "backgroundcolor": "#E5ECF6",
            "gridcolor": "white",
            "gridwidth": 2,
            "linecolor": "white",
            "showbackground": true,
            "ticks": "",
            "zerolinecolor": "white"
           }
          },
          "shapedefaults": {
           "line": {
            "color": "#2a3f5f"
           }
          },
          "ternary": {
           "aaxis": {
            "gridcolor": "white",
            "linecolor": "white",
            "ticks": ""
           },
           "baxis": {
            "gridcolor": "white",
            "linecolor": "white",
            "ticks": ""
           },
           "bgcolor": "#E5ECF6",
           "caxis": {
            "gridcolor": "white",
            "linecolor": "white",
            "ticks": ""
           }
          },
          "title": {
           "x": 0.05
          },
          "xaxis": {
           "automargin": true,
           "gridcolor": "white",
           "linecolor": "white",
           "ticks": "",
           "title": {
            "standoff": 15
           },
           "zerolinecolor": "white",
           "zerolinewidth": 2
          },
          "yaxis": {
           "automargin": true,
           "gridcolor": "white",
           "linecolor": "white",
           "ticks": "",
           "title": {
            "standoff": 15
           },
           "zerolinecolor": "white",
           "zerolinewidth": 2
          }
         }
        },
        "title": {
         "font": {
          "size": 35
         },
         "text": "Topic Clusters - Word Importance",
         "x": 0.5
        },
        "width": 1500,
        "xaxis": {
         "anchor": "y",
         "domain": [
          0,
          0.3
         ],
         "range": [
          -1.2,
          1.2
         ],
         "showgrid": false,
         "showticklabels": false,
         "zeroline": false
        },
        "xaxis2": {
         "anchor": "y2",
         "domain": [
          0.35,
          0.6499999999999999
         ],
         "range": [
          -1.2,
          1.2
         ],
         "showgrid": false,
         "showticklabels": false,
         "zeroline": false
        },
        "xaxis3": {
         "anchor": "y3",
         "domain": [
          0.7,
          1
         ],
         "range": [
          -1.2,
          1.2
         ],
         "showgrid": false,
         "showticklabels": false,
         "zeroline": false
        },
        "xaxis4": {
         "anchor": "y4",
         "domain": [
          0,
          0.3
         ],
         "range": [
          -1.2,
          1.2
         ],
         "showgrid": false,
         "showticklabels": false,
         "zeroline": false
        },
        "xaxis5": {
         "anchor": "y5",
         "domain": [
          0.35,
          0.6499999999999999
         ],
         "range": [
          -1.2,
          1.2
         ],
         "showgrid": false,
         "showticklabels": false,
         "zeroline": false
        },
        "xaxis6": {
         "anchor": "y6",
         "domain": [
          0.7,
          1
         ],
         "range": [
          -1.2,
          1.2
         ],
         "showgrid": false,
         "showticklabels": false,
         "zeroline": false
        },
        "yaxis": {
         "anchor": "x",
         "domain": [
          0.575,
          1
         ],
         "range": [
          -1.2,
          1.2
         ],
         "showgrid": false,
         "showticklabels": false,
         "zeroline": false
        },
        "yaxis2": {
         "anchor": "x2",
         "domain": [
          0.575,
          1
         ],
         "range": [
          -1.2,
          1.2
         ],
         "showgrid": false,
         "showticklabels": false,
         "zeroline": false
        },
        "yaxis3": {
         "anchor": "x3",
         "domain": [
          0.575,
          1
         ],
         "range": [
          -1.2,
          1.2
         ],
         "showgrid": false,
         "showticklabels": false,
         "zeroline": false
        },
        "yaxis4": {
         "anchor": "x4",
         "domain": [
          0,
          0.425
         ],
         "range": [
          -1.2,
          1.2
         ],
         "showgrid": false,
         "showticklabels": false,
         "zeroline": false
        },
        "yaxis5": {
         "anchor": "x5",
         "domain": [
          0,
          0.425
         ],
         "range": [
          -1.2,
          1.2
         ],
         "showgrid": false,
         "showticklabels": false,
         "zeroline": false
        },
        "yaxis6": {
         "anchor": "x6",
         "domain": [
          0,
          0.425
         ],
         "range": [
          -1.2,
          1.2
         ],
         "showgrid": false,
         "showticklabels": false,
         "zeroline": false
        }
       }
      },
      "text/html": [
       "<div>                            <div id=\"25f4e8de-cdb5-4f3b-a905-40348f5bf9d7\" class=\"plotly-graph-div\" style=\"height:1200px; width:1500px;\"></div>            <script type=\"text/javascript\">                require([\"plotly\"], function(Plotly) {                    window.PLOTLYENV=window.PLOTLYENV || {};                                    if (document.getElementById(\"25f4e8de-cdb5-4f3b-a905-40348f5bf9d7\")) {                    Plotly.newPlot(                        \"25f4e8de-cdb5-4f3b-a905-40348f5bf9d7\",                        [{\"hoverinfo\":\"text\",\"hovertext\":\"Term: vote\",\"mode\":\"text\",\"opacity\":1.0,\"showlegend\":false,\"text\":[\"vote\"],\"textfont\":{\"color\":\"#1f77b4\",\"family\":\"Arial Black\",\"size\":50.0},\"x\":[0],\"y\":[0],\"type\":\"scatter\",\"xaxis\":\"x\",\"yaxis\":\"y\"},{\"hoverinfo\":\"text\",\"hovertext\":\"Term: election\",\"mode\":\"text\",\"opacity\":0.9166666666666666,\"showlegend\":false,\"text\":[\"election\"],\"textfont\":{\"color\":\"#1f77b4\",\"family\":\"Arial\",\"size\":42.5},\"x\":[3.67394039744206e-17],\"y\":[0.6000000000000001],\"type\":\"scatter\",\"xaxis\":\"x\",\"yaxis\":\"y\"},{\"hoverinfo\":\"text\",\"hovertext\":\"Term: president\",\"mode\":\"text\",\"opacity\":0.8333333333333334,\"showlegend\":false,\"text\":[\"president\"],\"textfont\":{\"color\":\"#1f77b4\",\"family\":\"Arial\",\"size\":36.12499999999999},\"x\":[-0.22961005941905424],\"y\":[-0.554327719506772],\"type\":\"scatter\",\"xaxis\":\"x\",\"yaxis\":\"y\"},{\"hoverinfo\":\"text\",\"hovertext\":\"Term: america\",\"mode\":\"text\",\"opacity\":0.75,\"showlegend\":false,\"text\":[\"america\"],\"textfont\":{\"color\":\"#1f77b4\",\"family\":\"Arial\",\"size\":30.706249999999997},\"x\":[-0.9000000000000001],\"y\":[1.102182119232618e-16],\"type\":\"scatter\",\"xaxis\":\"x\",\"yaxis\":\"y\"},{\"hoverinfo\":\"text\",\"hovertext\":\"Term: debate\",\"mode\":\"text\",\"opacity\":0.6666666666666667,\"showlegend\":false,\"text\":[\"debate\"],\"textfont\":{\"color\":\"#1f77b4\",\"family\":\"Arial\",\"size\":26.100312499999994},\"x\":[-0.45000000000000046],\"y\":[-0.7794228634059946],\"type\":\"scatter\",\"xaxis\":\"x\",\"yaxis\":\"y\"},{\"hoverinfo\":\"text\",\"hovertext\":\"Term: maga\",\"mode\":\"text\",\"opacity\":0.5833333333333333,\"showlegend\":false,\"text\":[\"maga\"],\"textfont\":{\"color\":\"#1f77b4\",\"family\":\"Arial\",\"size\":22.185265624999996},\"x\":[0.9000000000000001],\"y\":[0.0],\"type\":\"scatter\",\"xaxis\":\"x\",\"yaxis\":\"y\"},{\"hoverinfo\":\"text\",\"hovertext\":\"Term: corruption\",\"mode\":\"text\",\"opacity\":1.0,\"showlegend\":false,\"text\":[\"corruption\"],\"textfont\":{\"color\":\"#ff7f0e\",\"family\":\"Arial Black\",\"size\":50.0},\"x\":[0],\"y\":[0],\"type\":\"scatter\",\"xaxis\":\"x2\",\"yaxis\":\"y2\"},{\"hoverinfo\":\"text\",\"hovertext\":\"Term: politics\",\"mode\":\"text\",\"opacity\":0.9166666666666666,\"showlegend\":false,\"text\":[\"politics\"],\"textfont\":{\"color\":\"#ff7f0e\",\"family\":\"Arial\",\"size\":42.5},\"x\":[3.67394039744206e-17],\"y\":[0.6000000000000001],\"type\":\"scatter\",\"xaxis\":\"x2\",\"yaxis\":\"y2\"},{\"hoverinfo\":\"text\",\"hovertext\":\"Term: linked\",\"mode\":\"text\",\"opacity\":0.8333333333333334,\"showlegend\":false,\"text\":[\"linked\"],\"textfont\":{\"color\":\"#ff7f0e\",\"family\":\"Arial\",\"size\":36.12499999999999},\"x\":[-0.22961005941905424],\"y\":[-0.554327719506772],\"type\":\"scatter\",\"xaxis\":\"x2\",\"yaxis\":\"y2\"},{\"hoverinfo\":\"text\",\"hovertext\":\"Term: civil\",\"mode\":\"text\",\"opacity\":0.75,\"showlegend\":false,\"text\":[\"civil\"],\"textfont\":{\"color\":\"#ff7f0e\",\"family\":\"Arial\",\"size\":30.706249999999997},\"x\":[-0.9000000000000001],\"y\":[1.102182119232618e-16],\"type\":\"scatter\",\"xaxis\":\"x2\",\"yaxis\":\"y2\"},{\"hoverinfo\":\"text\",\"hovertext\":\"Term: lgbt\",\"mode\":\"text\",\"opacity\":0.6666666666666667,\"showlegend\":false,\"text\":[\"lgbt\"],\"textfont\":{\"color\":\"#ff7f0e\",\"family\":\"Arial\",\"size\":26.100312499999994},\"x\":[-0.45000000000000046],\"y\":[-0.7794228634059946],\"type\":\"scatter\",\"xaxis\":\"x2\",\"yaxis\":\"y2\"},{\"hoverinfo\":\"text\",\"hovertext\":\"Term: rights\",\"mode\":\"text\",\"opacity\":0.5833333333333333,\"showlegend\":false,\"text\":[\"rights\"],\"textfont\":{\"color\":\"#ff7f0e\",\"family\":\"Arial\",\"size\":22.185265624999996},\"x\":[0.4500000000000002],\"y\":[-0.7794228634059949],\"type\":\"scatter\",\"xaxis\":\"x2\",\"yaxis\":\"y2\"},{\"hoverinfo\":\"text\",\"hovertext\":\"Term: racehorse\",\"mode\":\"text\",\"opacity\":1.0,\"showlegend\":false,\"text\":[\"racehorse\"],\"textfont\":{\"color\":\"#2ca02c\",\"family\":\"Arial Black\",\"size\":50.0},\"x\":[0],\"y\":[0],\"type\":\"scatter\",\"xaxis\":\"x3\",\"yaxis\":\"y3\"},{\"hoverinfo\":\"text\",\"hovertext\":\"Term: sisters\",\"mode\":\"text\",\"opacity\":0.9166666666666666,\"showlegend\":false,\"text\":[\"sisters\"],\"textfont\":{\"color\":\"#2ca02c\",\"family\":\"Arial\",\"size\":42.5},\"x\":[3.67394039744206e-17],\"y\":[0.6000000000000001],\"type\":\"scatter\",\"xaxis\":\"x3\",\"yaxis\":\"y3\"},{\"hoverinfo\":\"text\",\"hovertext\":\"Term: brothers\",\"mode\":\"text\",\"opacity\":0.8333333333333334,\"showlegend\":false,\"text\":[\"brothers\"],\"textfont\":{\"color\":\"#2ca02c\",\"family\":\"Arial\",\"size\":36.12499999999999},\"x\":[-0.22961005941905424],\"y\":[-0.554327719506772],\"type\":\"scatter\",\"xaxis\":\"x3\",\"yaxis\":\"y3\"},{\"hoverinfo\":\"text\",\"hovertext\":\"Term: theory\",\"mode\":\"text\",\"opacity\":0.75,\"showlegend\":false,\"text\":[\"theory\"],\"textfont\":{\"color\":\"#2ca02c\",\"family\":\"Arial\",\"size\":30.706249999999997},\"x\":[-0.9000000000000001],\"y\":[1.102182119232618e-16],\"type\":\"scatter\",\"xaxis\":\"x3\",\"yaxis\":\"y3\"},{\"hoverinfo\":\"text\",\"hovertext\":\"Term: mouth\",\"mode\":\"text\",\"opacity\":0.6666666666666667,\"showlegend\":false,\"text\":[\"mouth\"],\"textfont\":{\"color\":\"#2ca02c\",\"family\":\"Arial\",\"size\":26.100312499999994},\"x\":[-0.45000000000000046],\"y\":[-0.7794228634059946],\"type\":\"scatter\",\"xaxis\":\"x3\",\"yaxis\":\"y3\"},{\"hoverinfo\":\"text\",\"hovertext\":\"Term: know\",\"mode\":\"text\",\"opacity\":0.5833333333333333,\"showlegend\":false,\"text\":[\"know\"],\"textfont\":{\"color\":\"#2ca02c\",\"family\":\"Arial\",\"size\":22.185265624999996},\"x\":[0.4500000000000002],\"y\":[-0.7794228634059949],\"type\":\"scatter\",\"xaxis\":\"x3\",\"yaxis\":\"y3\"},{\"hoverinfo\":\"text\",\"hovertext\":\"Term: meadows\",\"mode\":\"text\",\"opacity\":1.0,\"showlegend\":false,\"text\":[\"meadows\"],\"textfont\":{\"color\":\"#d62728\",\"family\":\"Arial Black\",\"size\":50.0},\"x\":[0],\"y\":[0],\"type\":\"scatter\",\"xaxis\":\"x4\",\"yaxis\":\"y4\"},{\"hoverinfo\":\"text\",\"hovertext\":\"Term: staff\",\"mode\":\"text\",\"opacity\":0.9166666666666666,\"showlegend\":false,\"text\":[\"staff\"],\"textfont\":{\"color\":\"#d62728\",\"family\":\"Arial\",\"size\":42.5},\"x\":[3.67394039744206e-17],\"y\":[0.6000000000000001],\"type\":\"scatter\",\"xaxis\":\"x4\",\"yaxis\":\"y4\"},{\"hoverinfo\":\"text\",\"hovertext\":\"Term: mark\",\"mode\":\"text\",\"opacity\":0.8333333333333334,\"showlegend\":false,\"text\":[\"mark\"],\"textfont\":{\"color\":\"#d62728\",\"family\":\"Arial\",\"size\":36.12499999999999},\"x\":[-0.22961005941905424],\"y\":[-0.554327719506772],\"type\":\"scatter\",\"xaxis\":\"x4\",\"yaxis\":\"y4\"},{\"hoverinfo\":\"text\",\"hovertext\":\"Term: chief\",\"mode\":\"text\",\"opacity\":0.75,\"showlegend\":false,\"text\":[\"chief\"],\"textfont\":{\"color\":\"#d62728\",\"family\":\"Arial\",\"size\":30.706249999999997},\"x\":[0.6363961030678927],\"y\":[-0.636396103067893],\"type\":\"scatter\",\"xaxis\":\"x4\",\"yaxis\":\"y4\"},{\"hoverinfo\":\"text\",\"hovertext\":\"Term: coronavirus\",\"mode\":\"text\",\"opacity\":0.6666666666666667,\"showlegend\":false,\"text\":[\"coronavirus\"],\"textfont\":{\"color\":\"#d62728\",\"family\":\"Arial\",\"size\":26.100312499999994},\"x\":[-0.45000000000000046],\"y\":[-0.7794228634059946],\"type\":\"scatter\",\"xaxis\":\"x4\",\"yaxis\":\"y4\"},{\"hoverinfo\":\"text\",\"hovertext\":\"Term: covid\",\"mode\":\"text\",\"opacity\":0.5833333333333333,\"showlegend\":false,\"text\":[\"covid\"],\"textfont\":{\"color\":\"#d62728\",\"family\":\"Arial\",\"size\":22.185265624999996},\"x\":[0.4500000000000002],\"y\":[-0.7794228634059949],\"type\":\"scatter\",\"xaxis\":\"x4\",\"yaxis\":\"y4\"},{\"hoverinfo\":\"text\",\"hovertext\":\"Term: clearance\",\"mode\":\"text\",\"opacity\":1.0,\"showlegend\":false,\"text\":[\"clearance\"],\"textfont\":{\"color\":\"#9467bd\",\"family\":\"Arial Black\",\"size\":50.0},\"x\":[0],\"y\":[0],\"type\":\"scatter\",\"xaxis\":\"x5\",\"yaxis\":\"y5\"},{\"hoverinfo\":\"text\",\"hovertext\":\"Term: watch\",\"mode\":\"text\",\"opacity\":0.9166666666666666,\"showlegend\":false,\"text\":[\"watch\"],\"textfont\":{\"color\":\"#9467bd\",\"family\":\"Arial\",\"size\":42.5},\"x\":[3.67394039744206e-17],\"y\":[0.6000000000000001],\"type\":\"scatter\",\"xaxis\":\"x5\",\"yaxis\":\"y5\"},{\"hoverinfo\":\"text\",\"hovertext\":\"Term: point\",\"mode\":\"text\",\"opacity\":0.8333333333333334,\"showlegend\":false,\"text\":[\"point\"],\"textfont\":{\"color\":\"#9467bd\",\"family\":\"Arial\",\"size\":36.12499999999999},\"x\":[-0.22961005941905424],\"y\":[-0.554327719506772],\"type\":\"scatter\",\"xaxis\":\"x5\",\"yaxis\":\"y5\"},{\"hoverinfo\":\"text\",\"hovertext\":\"Term: security\",\"mode\":\"text\",\"opacity\":0.75,\"showlegend\":false,\"text\":[\"security\"],\"textfont\":{\"color\":\"#9467bd\",\"family\":\"Arial\",\"size\":30.706249999999997},\"x\":[-0.9000000000000001],\"y\":[1.102182119232618e-16],\"type\":\"scatter\",\"xaxis\":\"x5\",\"yaxis\":\"y5\"},{\"hoverinfo\":\"text\",\"hovertext\":\"Term: democrat\",\"mode\":\"text\",\"opacity\":0.6666666666666667,\"showlegend\":false,\"text\":[\"democrat\"],\"textfont\":{\"color\":\"#9467bd\",\"family\":\"Arial\",\"size\":26.100312499999994},\"x\":[-0.45000000000000046],\"y\":[-0.7794228634059946],\"type\":\"scatter\",\"xaxis\":\"x5\",\"yaxis\":\"y5\"},{\"hoverinfo\":\"text\",\"hovertext\":\"Term: laptop\",\"mode\":\"text\",\"opacity\":0.5833333333333333,\"showlegend\":false,\"text\":[\"laptop\"],\"textfont\":{\"color\":\"#9467bd\",\"family\":\"Arial\",\"size\":22.185265624999996},\"x\":[0.4500000000000002],\"y\":[-0.7794228634059949],\"type\":\"scatter\",\"xaxis\":\"x5\",\"yaxis\":\"y5\"},{\"hoverinfo\":\"text\",\"hovertext\":\"Term: plan\",\"mode\":\"text\",\"opacity\":1.0,\"showlegend\":false,\"text\":[\"plan\"],\"textfont\":{\"color\":\"#8c564b\",\"family\":\"Arial Black\",\"size\":50.0},\"x\":[0],\"y\":[0],\"type\":\"scatter\",\"xaxis\":\"x6\",\"yaxis\":\"y6\"},{\"hoverinfo\":\"text\",\"hovertext\":\"Term: recovery\",\"mode\":\"text\",\"opacity\":0.9166666666666666,\"showlegend\":false,\"text\":[\"recovery\"],\"textfont\":{\"color\":\"#8c564b\",\"family\":\"Arial\",\"size\":42.5},\"x\":[3.67394039744206e-17],\"y\":[0.6000000000000001],\"type\":\"scatter\",\"xaxis\":\"x6\",\"yaxis\":\"y6\"},{\"hoverinfo\":\"text\",\"hovertext\":\"Term: action\",\"mode\":\"text\",\"opacity\":0.8333333333333334,\"showlegend\":false,\"text\":[\"action\"],\"textfont\":{\"color\":\"#8c564b\",\"family\":\"Arial\",\"size\":36.12499999999999},\"x\":[-0.22961005941905424],\"y\":[-0.554327719506772],\"type\":\"scatter\",\"xaxis\":\"x6\",\"yaxis\":\"y6\"},{\"hoverinfo\":\"text\",\"hovertext\":\"Term: covid\",\"mode\":\"text\",\"opacity\":0.75,\"showlegend\":false,\"text\":[\"covid\"],\"textfont\":{\"color\":\"#8c564b\",\"family\":\"Arial\",\"size\":30.706249999999997},\"x\":[-0.9000000000000001],\"y\":[1.102182119232618e-16],\"type\":\"scatter\",\"xaxis\":\"x6\",\"yaxis\":\"y6\"},{\"hoverinfo\":\"text\",\"hovertext\":\"Term: pass\",\"mode\":\"text\",\"opacity\":0.6666666666666667,\"showlegend\":false,\"text\":[\"pass\"],\"textfont\":{\"color\":\"#8c564b\",\"family\":\"Arial\",\"size\":26.100312499999994},\"x\":[0.9000000000000001],\"y\":[0.0],\"type\":\"scatter\",\"xaxis\":\"x6\",\"yaxis\":\"y6\"},{\"hoverinfo\":\"text\",\"hovertext\":\"Term: jaketapper\",\"mode\":\"text\",\"opacity\":0.5833333333333333,\"showlegend\":false,\"text\":[\"jaketapper\"],\"textfont\":{\"color\":\"#8c564b\",\"family\":\"Arial\",\"size\":22.185265624999996},\"x\":[0.4500000000000002],\"y\":[-0.7794228634059949],\"type\":\"scatter\",\"xaxis\":\"x6\",\"yaxis\":\"y6\"}],                        {\"template\":{\"data\":{\"histogram2dcontour\":[{\"type\":\"histogram2dcontour\",\"colorbar\":{\"outlinewidth\":0,\"ticks\":\"\"},\"colorscale\":[[0.0,\"#0d0887\"],[0.1111111111111111,\"#46039f\"],[0.2222222222222222,\"#7201a8\"],[0.3333333333333333,\"#9c179e\"],[0.4444444444444444,\"#bd3786\"],[0.5555555555555556,\"#d8576b\"],[0.6666666666666666,\"#ed7953\"],[0.7777777777777778,\"#fb9f3a\"],[0.8888888888888888,\"#fdca26\"],[1.0,\"#f0f921\"]]}],\"choropleth\":[{\"type\":\"choropleth\",\"colorbar\":{\"outlinewidth\":0,\"ticks\":\"\"}}],\"histogram2d\":[{\"type\":\"histogram2d\",\"colorbar\":{\"outlinewidth\":0,\"ticks\":\"\"},\"colorscale\":[[0.0,\"#0d0887\"],[0.1111111111111111,\"#46039f\"],[0.2222222222222222,\"#7201a8\"],[0.3333333333333333,\"#9c179e\"],[0.4444444444444444,\"#bd3786\"],[0.5555555555555556,\"#d8576b\"],[0.6666666666666666,\"#ed7953\"],[0.7777777777777778,\"#fb9f3a\"],[0.8888888888888888,\"#fdca26\"],[1.0,\"#f0f921\"]]}],\"heatmap\":[{\"type\":\"heatmap\",\"colorbar\":{\"outlinewidth\":0,\"ticks\":\"\"},\"colorscale\":[[0.0,\"#0d0887\"],[0.1111111111111111,\"#46039f\"],[0.2222222222222222,\"#7201a8\"],[0.3333333333333333,\"#9c179e\"],[0.4444444444444444,\"#bd3786\"],[0.5555555555555556,\"#d8576b\"],[0.6666666666666666,\"#ed7953\"],[0.7777777777777778,\"#fb9f3a\"],[0.8888888888888888,\"#fdca26\"],[1.0,\"#f0f921\"]]}],\"heatmapgl\":[{\"type\":\"heatmapgl\",\"colorbar\":{\"outlinewidth\":0,\"ticks\":\"\"},\"colorscale\":[[0.0,\"#0d0887\"],[0.1111111111111111,\"#46039f\"],[0.2222222222222222,\"#7201a8\"],[0.3333333333333333,\"#9c179e\"],[0.4444444444444444,\"#bd3786\"],[0.5555555555555556,\"#d8576b\"],[0.6666666666666666,\"#ed7953\"],[0.7777777777777778,\"#fb9f3a\"],[0.8888888888888888,\"#fdca26\"],[1.0,\"#f0f921\"]]}],\"contourcarpet\":[{\"type\":\"contourcarpet\",\"colorbar\":{\"outlinewidth\":0,\"ticks\":\"\"}}],\"contour\":[{\"type\":\"contour\",\"colorbar\":{\"outlinewidth\":0,\"ticks\":\"\"},\"colorscale\":[[0.0,\"#0d0887\"],[0.1111111111111111,\"#46039f\"],[0.2222222222222222,\"#7201a8\"],[0.3333333333333333,\"#9c179e\"],[0.4444444444444444,\"#bd3786\"],[0.5555555555555556,\"#d8576b\"],[0.6666666666666666,\"#ed7953\"],[0.7777777777777778,\"#fb9f3a\"],[0.8888888888888888,\"#fdca26\"],[1.0,\"#f0f921\"]]}],\"surface\":[{\"type\":\"surface\",\"colorbar\":{\"outlinewidth\":0,\"ticks\":\"\"},\"colorscale\":[[0.0,\"#0d0887\"],[0.1111111111111111,\"#46039f\"],[0.2222222222222222,\"#7201a8\"],[0.3333333333333333,\"#9c179e\"],[0.4444444444444444,\"#bd3786\"],[0.5555555555555556,\"#d8576b\"],[0.6666666666666666,\"#ed7953\"],[0.7777777777777778,\"#fb9f3a\"],[0.8888888888888888,\"#fdca26\"],[1.0,\"#f0f921\"]]}],\"mesh3d\":[{\"type\":\"mesh3d\",\"colorbar\":{\"outlinewidth\":0,\"ticks\":\"\"}}],\"scatter\":[{\"fillpattern\":{\"fillmode\":\"overlay\",\"size\":10,\"solidity\":0.2},\"type\":\"scatter\"}],\"parcoords\":[{\"type\":\"parcoords\",\"line\":{\"colorbar\":{\"outlinewidth\":0,\"ticks\":\"\"}}}],\"scatterpolargl\":[{\"type\":\"scatterpolargl\",\"marker\":{\"colorbar\":{\"outlinewidth\":0,\"ticks\":\"\"}}}],\"bar\":[{\"error_x\":{\"color\":\"#2a3f5f\"},\"error_y\":{\"color\":\"#2a3f5f\"},\"marker\":{\"line\":{\"color\":\"#E5ECF6\",\"width\":0.5},\"pattern\":{\"fillmode\":\"overlay\",\"size\":10,\"solidity\":0.2}},\"type\":\"bar\"}],\"scattergeo\":[{\"type\":\"scattergeo\",\"marker\":{\"colorbar\":{\"outlinewidth\":0,\"ticks\":\"\"}}}],\"scatterpolar\":[{\"type\":\"scatterpolar\",\"marker\":{\"colorbar\":{\"outlinewidth\":0,\"ticks\":\"\"}}}],\"histogram\":[{\"marker\":{\"pattern\":{\"fillmode\":\"overlay\",\"size\":10,\"solidity\":0.2}},\"type\":\"histogram\"}],\"scattergl\":[{\"type\":\"scattergl\",\"marker\":{\"colorbar\":{\"outlinewidth\":0,\"ticks\":\"\"}}}],\"scatter3d\":[{\"type\":\"scatter3d\",\"line\":{\"colorbar\":{\"outlinewidth\":0,\"ticks\":\"\"}},\"marker\":{\"colorbar\":{\"outlinewidth\":0,\"ticks\":\"\"}}}],\"scattermapbox\":[{\"type\":\"scattermapbox\",\"marker\":{\"colorbar\":{\"outlinewidth\":0,\"ticks\":\"\"}}}],\"scatterternary\":[{\"type\":\"scatterternary\",\"marker\":{\"colorbar\":{\"outlinewidth\":0,\"ticks\":\"\"}}}],\"scattercarpet\":[{\"type\":\"scattercarpet\",\"marker\":{\"colorbar\":{\"outlinewidth\":0,\"ticks\":\"\"}}}],\"carpet\":[{\"aaxis\":{\"endlinecolor\":\"#2a3f5f\",\"gridcolor\":\"white\",\"linecolor\":\"white\",\"minorgridcolor\":\"white\",\"startlinecolor\":\"#2a3f5f\"},\"baxis\":{\"endlinecolor\":\"#2a3f5f\",\"gridcolor\":\"white\",\"linecolor\":\"white\",\"minorgridcolor\":\"white\",\"startlinecolor\":\"#2a3f5f\"},\"type\":\"carpet\"}],\"table\":[{\"cells\":{\"fill\":{\"color\":\"#EBF0F8\"},\"line\":{\"color\":\"white\"}},\"header\":{\"fill\":{\"color\":\"#C8D4E3\"},\"line\":{\"color\":\"white\"}},\"type\":\"table\"}],\"barpolar\":[{\"marker\":{\"line\":{\"color\":\"#E5ECF6\",\"width\":0.5},\"pattern\":{\"fillmode\":\"overlay\",\"size\":10,\"solidity\":0.2}},\"type\":\"barpolar\"}],\"pie\":[{\"automargin\":true,\"type\":\"pie\"}]},\"layout\":{\"autotypenumbers\":\"strict\",\"colorway\":[\"#636efa\",\"#EF553B\",\"#00cc96\",\"#ab63fa\",\"#FFA15A\",\"#19d3f3\",\"#FF6692\",\"#B6E880\",\"#FF97FF\",\"#FECB52\"],\"font\":{\"color\":\"#2a3f5f\"},\"hovermode\":\"closest\",\"hoverlabel\":{\"align\":\"left\"},\"paper_bgcolor\":\"white\",\"plot_bgcolor\":\"#E5ECF6\",\"polar\":{\"bgcolor\":\"#E5ECF6\",\"angularaxis\":{\"gridcolor\":\"white\",\"linecolor\":\"white\",\"ticks\":\"\"},\"radialaxis\":{\"gridcolor\":\"white\",\"linecolor\":\"white\",\"ticks\":\"\"}},\"ternary\":{\"bgcolor\":\"#E5ECF6\",\"aaxis\":{\"gridcolor\":\"white\",\"linecolor\":\"white\",\"ticks\":\"\"},\"baxis\":{\"gridcolor\":\"white\",\"linecolor\":\"white\",\"ticks\":\"\"},\"caxis\":{\"gridcolor\":\"white\",\"linecolor\":\"white\",\"ticks\":\"\"}},\"coloraxis\":{\"colorbar\":{\"outlinewidth\":0,\"ticks\":\"\"}},\"colorscale\":{\"sequential\":[[0.0,\"#0d0887\"],[0.1111111111111111,\"#46039f\"],[0.2222222222222222,\"#7201a8\"],[0.3333333333333333,\"#9c179e\"],[0.4444444444444444,\"#bd3786\"],[0.5555555555555556,\"#d8576b\"],[0.6666666666666666,\"#ed7953\"],[0.7777777777777778,\"#fb9f3a\"],[0.8888888888888888,\"#fdca26\"],[1.0,\"#f0f921\"]],\"sequentialminus\":[[0.0,\"#0d0887\"],[0.1111111111111111,\"#46039f\"],[0.2222222222222222,\"#7201a8\"],[0.3333333333333333,\"#9c179e\"],[0.4444444444444444,\"#bd3786\"],[0.5555555555555556,\"#d8576b\"],[0.6666666666666666,\"#ed7953\"],[0.7777777777777778,\"#fb9f3a\"],[0.8888888888888888,\"#fdca26\"],[1.0,\"#f0f921\"]],\"diverging\":[[0,\"#8e0152\"],[0.1,\"#c51b7d\"],[0.2,\"#de77ae\"],[0.3,\"#f1b6da\"],[0.4,\"#fde0ef\"],[0.5,\"#f7f7f7\"],[0.6,\"#e6f5d0\"],[0.7,\"#b8e186\"],[0.8,\"#7fbc41\"],[0.9,\"#4d9221\"],[1,\"#276419\"]]},\"xaxis\":{\"gridcolor\":\"white\",\"linecolor\":\"white\",\"ticks\":\"\",\"title\":{\"standoff\":15},\"zerolinecolor\":\"white\",\"automargin\":true,\"zerolinewidth\":2},\"yaxis\":{\"gridcolor\":\"white\",\"linecolor\":\"white\",\"ticks\":\"\",\"title\":{\"standoff\":15},\"zerolinecolor\":\"white\",\"automargin\":true,\"zerolinewidth\":2},\"scene\":{\"xaxis\":{\"backgroundcolor\":\"#E5ECF6\",\"gridcolor\":\"white\",\"linecolor\":\"white\",\"showbackground\":true,\"ticks\":\"\",\"zerolinecolor\":\"white\",\"gridwidth\":2},\"yaxis\":{\"backgroundcolor\":\"#E5ECF6\",\"gridcolor\":\"white\",\"linecolor\":\"white\",\"showbackground\":true,\"ticks\":\"\",\"zerolinecolor\":\"white\",\"gridwidth\":2},\"zaxis\":{\"backgroundcolor\":\"#E5ECF6\",\"gridcolor\":\"white\",\"linecolor\":\"white\",\"showbackground\":true,\"ticks\":\"\",\"zerolinecolor\":\"white\",\"gridwidth\":2}},\"shapedefaults\":{\"line\":{\"color\":\"#2a3f5f\"}},\"annotationdefaults\":{\"arrowcolor\":\"#2a3f5f\",\"arrowhead\":0,\"arrowwidth\":1},\"geo\":{\"bgcolor\":\"white\",\"landcolor\":\"#E5ECF6\",\"subunitcolor\":\"white\",\"showland\":true,\"showlakes\":true,\"lakecolor\":\"white\"},\"title\":{\"x\":0.05},\"mapbox\":{\"style\":\"light\"}}},\"xaxis\":{\"anchor\":\"y\",\"domain\":[0.0,0.3],\"showgrid\":false,\"zeroline\":false,\"showticklabels\":false,\"range\":[-1.2,1.2]},\"yaxis\":{\"anchor\":\"x\",\"domain\":[0.575,1.0],\"showgrid\":false,\"zeroline\":false,\"showticklabels\":false,\"range\":[-1.2,1.2]},\"xaxis2\":{\"anchor\":\"y2\",\"domain\":[0.35,0.6499999999999999],\"showgrid\":false,\"zeroline\":false,\"showticklabels\":false,\"range\":[-1.2,1.2]},\"yaxis2\":{\"anchor\":\"x2\",\"domain\":[0.575,1.0],\"showgrid\":false,\"zeroline\":false,\"showticklabels\":false,\"range\":[-1.2,1.2]},\"xaxis3\":{\"anchor\":\"y3\",\"domain\":[0.7,1.0],\"showgrid\":false,\"zeroline\":false,\"showticklabels\":false,\"range\":[-1.2,1.2]},\"yaxis3\":{\"anchor\":\"x3\",\"domain\":[0.575,1.0],\"showgrid\":false,\"zeroline\":false,\"showticklabels\":false,\"range\":[-1.2,1.2]},\"xaxis4\":{\"anchor\":\"y4\",\"domain\":[0.0,0.3],\"showgrid\":false,\"zeroline\":false,\"showticklabels\":false,\"range\":[-1.2,1.2]},\"yaxis4\":{\"anchor\":\"x4\",\"domain\":[0.0,0.425],\"showgrid\":false,\"zeroline\":false,\"showticklabels\":false,\"range\":[-1.2,1.2]},\"xaxis5\":{\"anchor\":\"y5\",\"domain\":[0.35,0.6499999999999999],\"showgrid\":false,\"zeroline\":false,\"showticklabels\":false,\"range\":[-1.2,1.2]},\"yaxis5\":{\"anchor\":\"x5\",\"domain\":[0.0,0.425],\"showgrid\":false,\"zeroline\":false,\"showticklabels\":false,\"range\":[-1.2,1.2]},\"xaxis6\":{\"anchor\":\"y6\",\"domain\":[0.7,1.0],\"showgrid\":false,\"zeroline\":false,\"showticklabels\":false,\"range\":[-1.2,1.2]},\"yaxis6\":{\"anchor\":\"x6\",\"domain\":[0.0,0.425],\"showgrid\":false,\"zeroline\":false,\"showticklabels\":false,\"range\":[-1.2,1.2]},\"annotations\":[{\"font\":{\"size\":20},\"showarrow\":false,\"text\":\"Cluster 1\\u003cbr\\u003e\\u003csup\\u003e(108976 elements)\\u003c\\u002fsup\\u003e\",\"x\":0.15,\"xanchor\":\"center\",\"xref\":\"paper\",\"y\":1.0,\"yanchor\":\"bottom\",\"yref\":\"paper\"},{\"font\":{\"size\":20},\"showarrow\":false,\"text\":\"Cluster 2\\u003cbr\\u003e\\u003csup\\u003e(49 elements)\\u003c\\u002fsup\\u003e\",\"x\":0.49999999999999994,\"xanchor\":\"center\",\"xref\":\"paper\",\"y\":1.0,\"yanchor\":\"bottom\",\"yref\":\"paper\"},{\"font\":{\"size\":20},\"showarrow\":false,\"text\":\"Cluster 3\\u003cbr\\u003e\\u003csup\\u003e(80 elements)\\u003c\\u002fsup\\u003e\",\"x\":0.85,\"xanchor\":\"center\",\"xref\":\"paper\",\"y\":1.0,\"yanchor\":\"bottom\",\"yref\":\"paper\"},{\"font\":{\"size\":20},\"showarrow\":false,\"text\":\"Cluster 4\\u003cbr\\u003e\\u003csup\\u003e(52 elements)\\u003c\\u002fsup\\u003e\",\"x\":0.15,\"xanchor\":\"center\",\"xref\":\"paper\",\"y\":0.425,\"yanchor\":\"bottom\",\"yref\":\"paper\"},{\"font\":{\"size\":20},\"showarrow\":false,\"text\":\"Cluster 5\\u003cbr\\u003e\\u003csup\\u003e(91 elements)\\u003c\\u002fsup\\u003e\",\"x\":0.49999999999999994,\"xanchor\":\"center\",\"xref\":\"paper\",\"y\":0.425,\"yanchor\":\"bottom\",\"yref\":\"paper\"},{\"font\":{\"size\":20},\"showarrow\":false,\"text\":\"Cluster 6\\u003cbr\\u003e\\u003csup\\u003e(45 elements)\\u003c\\u002fsup\\u003e\",\"x\":0.85,\"xanchor\":\"center\",\"xref\":\"paper\",\"y\":0.425,\"yanchor\":\"bottom\",\"yref\":\"paper\"}],\"title\":{\"font\":{\"size\":35},\"text\":\"Topic Clusters - Word Importance\",\"x\":0.5},\"height\":1200,\"width\":1500,\"showlegend\":false,\"paper_bgcolor\":\"white\",\"plot_bgcolor\":\"white\"},                        {\"responsive\": true}                    ).then(function(){\n",
       "                            \n",
       "var gd = document.getElementById('25f4e8de-cdb5-4f3b-a905-40348f5bf9d7');\n",
       "var x = new MutationObserver(function (mutations, observer) {{\n",
       "        var display = window.getComputedStyle(gd).display;\n",
       "        if (!display || display === 'none') {{\n",
       "            console.log([gd, 'removed!']);\n",
       "            Plotly.purge(gd);\n",
       "            observer.disconnect();\n",
       "        }}\n",
       "}});\n",
       "\n",
       "// Listen for the removal of the full notebook cells\n",
       "var notebookContainer = gd.closest('#notebook-container');\n",
       "if (notebookContainer) {{\n",
       "    x.observe(notebookContainer, {childList: true});\n",
       "}}\n",
       "\n",
       "// Listen for the clearing of the current output cell\n",
       "var outputEl = gd.closest('.output');\n",
       "if (outputEl) {{\n",
       "    x.observe(outputEl, {childList: true});\n",
       "}}\n",
       "\n",
       "                        })                };                });            </script>        </div>"
      ]
     },
     "metadata": {},
     "output_type": "display_data"
    }
   ],
   "source": [
    "POLITICAL_STOP_WORDS = [\n",
    "    \"trump\",\n",
    "    \"biden\",\n",
    "    \"donald\",\n",
    "    \"joe\",\n",
    "    \"potus\",\n",
    "    \"2020\",\n",
    "    \"trumps\",\n",
    "    \"realdonaldtrump\",\n",
    "    \"harris\",\n",
    "    \"save\",\n",
    "    \"yep\",\n",
    "    \"yes\",\n",
    "    \"nope\",\n",
    "    \"no\",\n",
    "    \"fa\",\n",
    "    \"oh\",\n",
    "    \"nytimes\",\n",
    "    \"wow\",\n",
    "    \"tells\",\n",
    "    \"omg\",\n",
    "    \"wait\",\n",
    "    \"look\",\n",
    "    \"abc\" \"abcnews\",\n",
    "    \"cnn\",\n",
    "    \"fox\",\n",
    "    \"foxnews\",\n",
    "    \"msnbc\",\n",
    "    \"nbc\",\n",
    "    \"nbcnews\",\n",
    "    \"cbs\",\n",
    "    \"cbsnews\",\n",
    "    \"news\",\n",
    "    \"joebiden\",\n",
    "    \"did\",\n",
    "    \"won\",\n",
    "    \"wins\",\n",
    "    \"19\",\n",
    "    \"kamala\",\n",
    "    \"wouldn\",\n",
    "    \"rawstory\",\n",
    "]\n",
    "CUSTOM_STOP_WORDS = list(ENGLISH_STOP_WORDS) + POLITICAL_STOP_WORDS\n",
    "MAX_FEATURES = 3000\n",
    "\n",
    "\n",
    "def create_vectorizer(max_features: int = MAX_FEATURES) -> TfidfVectorizer:\n",
    "    \"\"\"Create a consistent TfidfVectorizer with standard parameters\"\"\"\n",
    "    return TfidfVectorizer(\n",
    "        stop_words=CUSTOM_STOP_WORDS,\n",
    "        max_features=max_features,\n",
    "        ngram_range=(1, 1),  # unigrams\n",
    "        min_df=7,  # minimum document frequency\n",
    "        max_df=0.7,  # maximum document frequency\n",
    "    )\n",
    "\n",
    "\n",
    "def create_shingles(text: str, q: int = 5) -> Set[str]:\n",
    "    \"\"\"Convert text into q-grams (shingles)\"\"\"\n",
    "    # Process only if text is long enough\n",
    "    if len(text) < q:\n",
    "        return set()\n",
    "    return set(text[i : i + q] for i in range(len(text) - q + 1))\n",
    "\n",
    "\n",
    "def batch_minhash(\n",
    "    docs: Dict[int, str], batch_size: int = 1000, num_perm: int = 128, q: int = 5\n",
    ") -> Dict[int, MinHash]:\n",
    "    \"\"\"Create MinHash objects in batches\"\"\"\n",
    "    minhashes = {}\n",
    "\n",
    "    def process_batch(batch_items):\n",
    "        batch_results = {}\n",
    "        for doc_id, text in batch_items:\n",
    "            m = MinHash(num_perm=num_perm)\n",
    "            shingles = create_shingles(text, q)\n",
    "            for shingle in shingles:\n",
    "                m.update(shingle.encode(\"utf-8\"))\n",
    "            batch_results[doc_id] = m\n",
    "        return batch_results\n",
    "\n",
    "    # Process documents in batches\n",
    "    items = list(docs.items())\n",
    "    with ThreadPoolExecutor() as executor:\n",
    "        futures = []\n",
    "        for i in range(0, len(items), batch_size):\n",
    "            batch = items[i : i + batch_size]\n",
    "            futures.append(executor.submit(process_batch, batch))\n",
    "\n",
    "        for future in futures:\n",
    "            minhashes.update(future.result())\n",
    "\n",
    "    return minhashes\n",
    "\n",
    "\n",
    "def find_candidate_pairs(\n",
    "    minhashes: Dict[int, MinHash], threshold: float\n",
    ") -> Set[Tuple[int, int]]:\n",
    "    \"\"\"\n",
    "    Memory-efficient candidate pair generation using LSH with iterative processing\n",
    "\n",
    "    Args:\n",
    "        minhashes: Dictionary of document IDs to MinHash signatures\n",
    "        threshold: Jaccard similarity threshold for considering pairs\n",
    "\n",
    "    Returns:\n",
    "        Set of document ID pairs that are potentially similar\n",
    "    \"\"\"\n",
    "    # Limit memory by processing documents in batches\n",
    "    candidate_pairs = set()\n",
    "    doc_ids = list(minhashes.keys())\n",
    "\n",
    "    # Process in manageable chunks to reduce memory pressure\n",
    "    for i in range(0, len(doc_ids), 10000):  # Adjust batch size as needed\n",
    "        batch_doc_ids = doc_ids[i : i + 10000]\n",
    "\n",
    "        # Create a temporary LSH index for this batch\n",
    "        lsh = MinHashLSH(\n",
    "            threshold=threshold, num_perm=len(next(iter(minhashes.values())).hashvalues)\n",
    "        )\n",
    "\n",
    "        # Insert documents from this batch into LSH\n",
    "        for doc_id in batch_doc_ids:\n",
    "            lsh.insert(doc_id, minhashes[doc_id])\n",
    "\n",
    "        # Find pairs within this batch and across previous batches\n",
    "        for doc_id in batch_doc_ids:\n",
    "            similar_ids = lsh.query(minhashes[doc_id])\n",
    "\n",
    "            for similar_id in similar_ids:\n",
    "                if similar_id != doc_id:\n",
    "                    # Ensure consistent pair ordering\n",
    "                    candidate_pair = tuple(sorted((doc_id, similar_id)))\n",
    "                    candidate_pairs.add(candidate_pair)\n",
    "\n",
    "        # Clear LSH to free memory\n",
    "        del lsh\n",
    "\n",
    "    return candidate_pairs\n",
    "\n",
    "\n",
    "def merge_similar_clusters(\n",
    "    clusters: Dict[int, Dict], docs: Dict[int, str], target_clusters: int, n_terms: int\n",
    ") -> Dict[int, Dict]:\n",
    "    \"\"\"Merge similar clusters until reaching target number of clusters\"\"\"\n",
    "    if len(clusters) <= target_clusters:\n",
    "        return clusters\n",
    "\n",
    "    # Create TF-IDF vectors for each cluster\n",
    "    vectorizer = TfidfVectorizer(stop_words=CUSTOM_STOP_WORDS)\n",
    "    cluster_texts = {}\n",
    "    for cluster_id, info in clusters.items():\n",
    "        # Concatenate all texts in cluster\n",
    "        cluster_text = \" \".join([docs[doc_id] for doc_id in info[\"documents\"]])\n",
    "        cluster_texts[cluster_id] = cluster_text\n",
    "\n",
    "    while len(clusters) > target_clusters:\n",
    "        # Recalculate TF-IDF matrix and similarities for current clusters\n",
    "        current_cluster_ids = list(clusters.keys())\n",
    "        tfidf_matrix = vectorizer.fit_transform(\n",
    "            [cluster_texts[cid] for cid in current_cluster_ids]\n",
    "        )\n",
    "        similarities = cosine_similarity(tfidf_matrix)\n",
    "\n",
    "        # Find most similar pair of clusters\n",
    "        max_similarity = -1\n",
    "        merge_pair = None\n",
    "\n",
    "        for i in range(len(current_cluster_ids)):\n",
    "            for j in range(i + 1, len(current_cluster_ids)):\n",
    "                if similarities[i, j] > max_similarity:\n",
    "                    max_similarity = similarities[i, j]\n",
    "                    merge_pair = (current_cluster_ids[i], current_cluster_ids[j])\n",
    "\n",
    "        if merge_pair is None:\n",
    "            break\n",
    "\n",
    "        # Merge clusters\n",
    "        cluster1, cluster2 = merge_pair\n",
    "        new_docs = clusters[cluster1][\"documents\"] + clusters[cluster2][\"documents\"]\n",
    "        new_texts = [docs[doc_id] for doc_id in new_docs]\n",
    "\n",
    "        # Update cluster_texts for the merged cluster\n",
    "        cluster_texts[cluster1] = \" \".join([docs[doc_id] for doc_id in new_docs])\n",
    "\n",
    "        # Create new cluster info\n",
    "        clusters[cluster1] = {\n",
    "            \"documents\": new_docs,\n",
    "            \"size\": len(new_docs),\n",
    "            \"top_terms\": extract_top_terms(new_texts, n_terms=n_terms),\n",
    "        }\n",
    "\n",
    "        # Remove merged cluster and its text\n",
    "        del clusters[cluster2]\n",
    "        del cluster_texts[cluster2]\n",
    "\n",
    "    return clusters\n",
    "\n",
    "\n",
    "def extract_top_terms(texts: List[str], n_terms: int = 5) -> List[str]:\n",
    "    \"\"\"Extract the most significant terms from a group of tweets using TF-IDF\"\"\"\n",
    "    vectorizer = create_vectorizer()\n",
    "    tfidf_matrix = vectorizer.fit_transform(texts)\n",
    "\n",
    "    avg_scores = np.array(tfidf_matrix.mean(axis=0))[0]\n",
    "    top_indices = avg_scores.argsort()[-n_terms:][::-1]\n",
    "\n",
    "    feature_names = vectorizer.get_feature_names_out()\n",
    "    return [feature_names[i] for i in top_indices]\n",
    "\n",
    "\n",
    "def find_topic_clusters(\n",
    "    docs: Dict[int, str],\n",
    "    threshold: float = 0.05,\n",
    "    num_perm: int = 120,\n",
    "    q: int = 4,\n",
    "    min_cluster_size: int = 5,\n",
    "    n_terms: int = 5,\n",
    "    batch_size: int = 1000,\n",
    "    n_clusters: int = 10,\n",
    "    max_docs: int = None,\n",
    ") -> Dict[int, Dict]:\n",
    "    \"\"\"\n",
    "    Optimized version with memory-conscious processing\n",
    "    \"\"\"\n",
    "    # Optionally limit number of documents\n",
    "    if max_docs is not None and len(docs) > max_docs:\n",
    "        print(f\"Warning: Large dataset detected. Using first {max_docs} documents.\")\n",
    "        docs = dict(list(docs.items())[:max_docs])\n",
    "\n",
    "    # Initialize similarity graph\n",
    "    similarity_graph = nx.Graph()\n",
    "    similarity_graph.add_nodes_from(docs.keys())\n",
    "\n",
    "    # Create MinHash signatures in batches\n",
    "    print(\"Creating MinHash signatures...\")\n",
    "    minhashes = batch_minhash(docs, batch_size=batch_size, num_perm=num_perm, q=q)\n",
    "\n",
    "    # Find candidate pairs using LSH banding\n",
    "    print(\"Finding candidate pairs...\")\n",
    "    candidate_pairs = find_candidate_pairs(minhashes, threshold)\n",
    "\n",
    "    # Verify candidate pairs and build similarity graph\n",
    "    print(\"Building similarity graph...\")\n",
    "    for doc_id1, doc_id2 in candidate_pairs:\n",
    "        similarity = minhashes[doc_id1].jaccard(minhashes[doc_id2])\n",
    "        if threshold <= similarity < 0.40:\n",
    "            similarity_graph.add_edge(doc_id1, doc_id2, weight=similarity)\n",
    "\n",
    "    # Find clusters using Louvain\n",
    "    print(\"Finding communities...\")\n",
    "    partition = community_louvain.best_partition(similarity_graph)\n",
    "\n",
    "    # Create cluster dictionary\n",
    "    clusters = defaultdict(list)\n",
    "    for doc_id, cluster_id in partition.items():\n",
    "        clusters[cluster_id].append(doc_id)\n",
    "\n",
    "    # Create cluster info with batched TF-IDF calculation\n",
    "    print(\"Creating cluster information...\")\n",
    "    cluster_info = {}\n",
    "    vectorizer = create_vectorizer()\n",
    "\n",
    "    # Process clusters that meet minimum size requirement\n",
    "    valid_clusters = {\n",
    "        cid: doc_ids\n",
    "        for cid, doc_ids in clusters.items()\n",
    "        if len(doc_ids) >= min_cluster_size\n",
    "    }\n",
    "\n",
    "    if valid_clusters:\n",
    "        # Prepare texts for all valid clusters at once\n",
    "        all_texts = []\n",
    "        cluster_doc_mapping = []\n",
    "        for cluster_id, doc_ids in valid_clusters.items():\n",
    "            cluster_texts = [docs[doc_id] for doc_id in doc_ids]\n",
    "            all_texts.extend(cluster_texts)\n",
    "            cluster_doc_mapping.extend([cluster_id] * len(cluster_texts))\n",
    "\n",
    "        # Calculate TF-IDF for all texts at once\n",
    "        tfidf_matrix = vectorizer.fit_transform(all_texts)\n",
    "        feature_names = vectorizer.get_feature_names_out()\n",
    "\n",
    "        # Process each cluster\n",
    "        current_idx = 0\n",
    "        for cluster_id, doc_ids in valid_clusters.items():\n",
    "            n_docs = len(doc_ids)\n",
    "            cluster_tfidf = tfidf_matrix[current_idx : current_idx + n_docs]\n",
    "\n",
    "            # Calculate average TF-IDF scores for the cluster\n",
    "            avg_scores = np.array(cluster_tfidf.mean(axis=0))[0]\n",
    "            top_indices = avg_scores.argsort()[-n_terms:][::-1]  # Get top n_terms\n",
    "\n",
    "            cluster_info[cluster_id] = {\n",
    "                \"documents\": sorted(doc_ids),\n",
    "                \"size\": n_docs,\n",
    "                \"top_terms\": [feature_names[i] for i in top_indices],\n",
    "            }\n",
    "            current_idx += n_docs\n",
    "\n",
    "    # Merge similar clusters if needed\n",
    "    if len(cluster_info) > n_clusters:\n",
    "        cluster_info = merge_similar_clusters(cluster_info, docs, n_clusters, n_terms)\n",
    "\n",
    "    return cluster_info\n",
    "\n",
    "\n",
    "def create_cluster_wordclouds(clusters, max_terms=10):\n",
    "    \"\"\"\n",
    "    Create a visualization of word clouds for each cluster using Plotly\n",
    "    to maintain consistency with create_cluster_word_viz()\n",
    "    \"\"\"\n",
    "    n_clusters = len(clusters)\n",
    "    n_cols = min(3, n_clusters)\n",
    "    n_rows = math.ceil(n_clusters / n_cols)\n",
    "\n",
    "    fig = make_subplots(\n",
    "        rows=n_rows,\n",
    "        cols=n_cols,\n",
    "        subplot_titles=[f\"Cluster {i+1}\" for i in range(n_clusters)],\n",
    "        vertical_spacing=0.15,\n",
    "        horizontal_spacing=0.05,\n",
    "    )\n",
    "    # Increase font size of subplot titles\n",
    "    for annotation in fig.layout.annotations:\n",
    "        annotation.font.size = 30  # Font size of subplot titles\n",
    "\n",
    "        # Add number of elements to subplot titles\n",
    "        cluster_num = int(annotation.text.split()[-1]) - 1\n",
    "        cluster_size = len(list(clusters.values())[cluster_num][\"documents\"])\n",
    "        annotation.text += f\"<br><sup>({cluster_size} elements)</sup>\"\n",
    "        annotation.font.size = 20  # Smaller font for element count\n",
    "\n",
    "    colors = [\n",
    "        \"#1f77b4\",\n",
    "        \"#ff7f0e\",\n",
    "        \"#2ca02c\",\n",
    "        \"#d62728\",\n",
    "        \"#9467bd\",\n",
    "        \"#8c564b\",\n",
    "        \"#e377c2\",\n",
    "        \"#7f7f7f\",\n",
    "        \"#bcbd22\",\n",
    "        \"#17becf\",\n",
    "    ]\n",
    "\n",
    "    def get_text_dimensions(term, size):\n",
    "        \"\"\"Estimate text dimensions based on term length and font size\"\"\"\n",
    "        char_width = size / 2  # Approximate width per character\n",
    "        char_height = size  # Approximate height\n",
    "        return (\n",
    "            len(term) * char_width / 100,\n",
    "            char_height / 100,\n",
    "        )  # Scale down to plot units\n",
    "\n",
    "    def check_overlap(x1, y1, w1, h1, x2, y2, w2, h2, padding=0.1):\n",
    "        \"\"\"Check if two text boxes overlap\"\"\"\n",
    "        return not (\n",
    "            x1 + w1 / 2 + padding < x2 - w2 / 2\n",
    "            or x1 - w1 / 2 - padding > x2 + w2 / 2\n",
    "            or y1 + h1 / 2 + padding < y2 - h2 / 2\n",
    "            or y1 - h1 / 2 - padding > y2 + h2 / 2\n",
    "        )\n",
    "\n",
    "    def generate_positions(terms, sizes):\n",
    "        \"\"\"Generate non-overlapping positions for terms\"\"\"\n",
    "        positions = []\n",
    "\n",
    "        # Start with center position for first term\n",
    "        first_width, first_height = get_text_dimensions(terms[0], sizes[0])\n",
    "        positions.append((0, 0, first_width, first_height))\n",
    "\n",
    "        # Place remaining terms\n",
    "        for i in range(1, len(terms)):\n",
    "            term = terms[i]\n",
    "            size = sizes[i]\n",
    "            width, height = get_text_dimensions(term, size)\n",
    "\n",
    "            # Try positions at increasing distances from center\n",
    "            base_radius = 0.3  # Start closer to center\n",
    "            radius_step = 0.1\n",
    "            angle_step = np.pi / 8\n",
    "\n",
    "            for radius in np.arange(base_radius, 1.0, radius_step):\n",
    "                for angle in np.arange(0, 2 * np.pi, angle_step):\n",
    "                    x = radius * np.cos(angle)\n",
    "                    y = radius * np.sin(angle)\n",
    "\n",
    "                    # Check overlap with all existing terms\n",
    "                    overlaps = False\n",
    "                    for px, py, pw, ph in positions:\n",
    "                        if check_overlap(x, y, width, height, px, py, pw, ph):\n",
    "                            overlaps = True\n",
    "                            break\n",
    "\n",
    "                    if not overlaps:\n",
    "                        positions.append((x, y, width, height))\n",
    "                        break\n",
    "\n",
    "                if len(positions) > i:  # If position was found\n",
    "                    break\n",
    "\n",
    "            # If no position found, place at default position\n",
    "            if len(positions) <= i:\n",
    "                positions.append(\n",
    "                    (\n",
    "                        radius * np.cos(i * 2 * np.pi / len(terms)),\n",
    "                        radius * np.sin(i * 2 * np.pi / len(terms)),\n",
    "                        width,\n",
    "                        height,\n",
    "                    )\n",
    "                )\n",
    "\n",
    "        return [(x, y) for x, y, w, h in positions]\n",
    "\n",
    "    for idx, (_, info) in enumerate(clusters.items()):\n",
    "        row = idx // n_cols + 1\n",
    "        col = idx % n_cols + 1\n",
    "        color = colors[idx % len(colors)]\n",
    "\n",
    "        terms = info[\"top_terms\"][:max_terms]\n",
    "\n",
    "        # Calculate term sizes\n",
    "        base_size = 50\n",
    "        size_decay = 0.85\n",
    "        term_sizes = [base_size * (size_decay**i) for i in range(len(terms))]\n",
    "\n",
    "        # Generate non-overlapping positions\n",
    "        positions = generate_positions(terms, term_sizes)\n",
    "\n",
    "        # Add terms to plot\n",
    "        for i, (term, size, (x, y)) in enumerate(zip(terms, term_sizes, positions)):\n",
    "            opacity = 1.0 - (i * 0.5 / len(terms))\n",
    "\n",
    "            fig.add_trace(\n",
    "                go.Scatter(\n",
    "                    x=[x],\n",
    "                    y=[y],\n",
    "                    text=[term],\n",
    "                    mode=\"text\",\n",
    "                    textfont=dict(\n",
    "                        size=size,\n",
    "                        color=color,\n",
    "                        family=\"Arial Black\" if i == 0 else \"Arial\",\n",
    "                    ),\n",
    "                    opacity=opacity,\n",
    "                    hoverinfo=\"text\",\n",
    "                    hovertext=f\"Term: {term}\",\n",
    "                    showlegend=False,\n",
    "                ),\n",
    "                row=row,\n",
    "                col=col,\n",
    "            )\n",
    "\n",
    "    fig.update_layout(\n",
    "        title_text=\"Topic Clusters - Word Importance\",\n",
    "        title_x=0.5,\n",
    "        title_font_size=35,\n",
    "        height=600 * n_rows,\n",
    "        width=1500,\n",
    "        showlegend=False,\n",
    "        paper_bgcolor=\"white\",\n",
    "        plot_bgcolor=\"white\",\n",
    "    )\n",
    "\n",
    "    for i in range(1, n_clusters + 1):\n",
    "        fig.update_xaxes(\n",
    "            showgrid=False,\n",
    "            zeroline=False,\n",
    "            showticklabels=False,\n",
    "            range=[-1.2, 1.2],\n",
    "            row=(i - 1) // n_cols + 1,\n",
    "            col=(i - 1) % n_cols + 1,\n",
    "        )\n",
    "        fig.update_yaxes(\n",
    "            showgrid=False,\n",
    "            zeroline=False,\n",
    "            showticklabels=False,\n",
    "            range=[-1.2, 1.2],\n",
    "            row=(i - 1) // n_cols + 1,\n",
    "            col=(i - 1) % n_cols + 1,\n",
    "        )\n",
    "\n",
    "    return fig\n",
    "\n",
    "\n",
    "TERMS = 6\n",
    "docs = {i: tweet for i, tweet in enumerate(df[\"tweet\"])}\n",
    "\n",
    "print(\"Processing hashtags...\")\n",
    "docs = dict(zip(docs.keys(), map(process_tweet, docs.values())))\n",
    "\n",
    "# Find topic clusters\n",
    "clusters = find_topic_clusters(\n",
    "    docs,\n",
    "    threshold=0.2,\n",
    "    num_perm=120,\n",
    "    q=4,\n",
    "    min_cluster_size=40,\n",
    "    n_terms=TERMS,\n",
    "    batch_size=1000,\n",
    "    n_clusters=6,\n",
    "    max_docs=300_000,\n",
    ")\n",
    "\n",
    "print(f\"\\nFound {len(clusters)} topic clusters:\")\n",
    "for cluster_id, info in clusters.items():\n",
    "    print(f\"\\nCluster {cluster_id}:\")\n",
    "    print(f\"Size: {info['size']} documents\")\n",
    "    print(f\"Top terms: {', '.join(info['top_terms'])}\")\n",
    "    print(\"\\nExample documents:\")\n",
    "    for doc_id in info[\"documents\"][:3]:\n",
    "        print(f\"- {docs[doc_id][:100]}...\")\n",
    "    print(24 * \"-\")\n",
    "\n",
    "fig = create_cluster_wordclouds(clusters, max_terms=TERMS)\n",
    "fig.show()"
   ]
  }
 ],
 "metadata": {
  "kernelspec": {
   "display_name": "venv",
   "language": "python",
   "name": "python3"
  },
  "language_info": {
   "codemirror_mode": {
    "name": "ipython",
    "version": 3
   },
   "file_extension": ".py",
   "mimetype": "text/x-python",
   "name": "python",
   "nbconvert_exporter": "python",
   "pygments_lexer": "ipython3",
   "version": "3.12.7"
  }
 },
 "nbformat": 4,
 "nbformat_minor": 2
}
