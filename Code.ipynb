{
 "cells": [
  {
   "cell_type": "code",
   "execution_count": 1,
   "metadata": {},
   "outputs": [],
   "source": [
    "import pandas as pd\n",
    "import os"
   ]
  },
  {
   "cell_type": "code",
   "execution_count": 3,
   "metadata": {},
   "outputs": [],
   "source": [
    "path = os.getcwd()\n",
    "path_trump = path + \"\\\\data\\\\hashtag_donaldtrump.csv\"\n",
    "trump = pd.read_csv(path_trump, lineterminator=\"\\n\")\n",
    "path_biden = path + \"\\\\data\\\\hashtag_joebiden.csv\"\n",
    "biden = pd.read_csv(path_biden, lineterminator=\"\\n\")"
   ]
  },
  {
   "cell_type": "code",
   "execution_count": null,
   "metadata": {},
   "outputs": [
    {
     "name": "stdout",
     "output_type": "stream",
     "text": [
      "1747805\n",
      "created_at                                            2020-10-15 00:00:01\n",
      "tweet_id                                            1316529221557252096.0\n",
      "tweet                   #Elecciones2020 | En #Florida: #JoeBiden dice ...\n",
      "likes                                                                 0.0\n",
      "retweet_count                                                         0.0\n",
      "source                                                          TweetDeck\n",
      "user_id                                                       360666534.0\n",
      "user_name                                              El Sol Latino News\n",
      "user_screen_name                                          elsollatinonews\n",
      "user_description        🌐 Noticias de interés para latinos de la costa...\n",
      "user_join_date                                        2011-08-23 15:33:45\n",
      "user_followers_count                                               1860.0\n",
      "user_location                                Philadelphia, PA / Miami, FL\n",
      "lat                                                              25.77427\n",
      "long                                                            -80.19366\n",
      "city                                                                  NaN\n",
      "country                                          United States of America\n",
      "continent                                                   North America\n",
      "state                                                             Florida\n",
      "state_code                                                             FL\n",
      "collected_at                                          2020-10-21 00:00:00\n",
      "Name: 0, dtype: object\n"
     ]
    }
   ],
   "source": [
    "# print(trump.describe(include=\"all\"))\n",
    "# Get the first tweet\n",
    "# print(len(trump[\"tweet\"]) + len(biden[\"tweet\"]))\n",
    "print(trump.iloc[4])\n",
    "print(len(trump[\"tweet\"]) + len(biden[\"tweet\"]))"
   ]
  },
  {
   "cell_type": "code",
   "execution_count": null,
   "metadata": {},
   "outputs": [],
   "source": []
  }
 ],
 "metadata": {
  "kernelspec": {
   "display_name": "venv",
   "language": "python",
   "name": "python3"
  },
  "language_info": {
   "codemirror_mode": {
    "name": "ipython",
    "version": 3
   },
   "file_extension": ".py",
   "mimetype": "text/x-python",
   "name": "python",
   "nbconvert_exporter": "python",
   "pygments_lexer": "ipython3",
   "version": "3.12.7"
  }
 },
 "nbformat": 4,
 "nbformat_minor": 2
}
