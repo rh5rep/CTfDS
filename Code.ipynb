{
 "cells": [
  {
   "cell_type": "code",
   "execution_count": 60,
   "metadata": {},
   "outputs": [],
   "source": [
    "import pandas as pd\n",
    "import os"
   ]
  },
  {
   "cell_type": "code",
   "execution_count": null,
   "metadata": {},
   "outputs": [],
   "source": [
    "path = os.getcwd()\n",
    "path_trump = path + \"\\\\data\\\\hashtag_donaldtrump.csv\"\n",
    "trump = pd.read_csv(path_trump, lineterminator=\"\\n\")\n",
    "path_biden = path + \"\\\\data\\\\hashtag_joebiden.csv\"\n",
    "biden = pd.read_csv(path_biden, lineterminator=\"\\n\")\n",
    "trump[\"source\"] = \"Trump\"\n",
    "biden[\"source\"] = \"Biden\"\n",
    "# Concatenate and remove duplicates\n",
    "df = pd.concat([trump, biden], ignore_index=True)\n",
    "df = df.drop_duplicates()\n",
    "df = df[df[\"country\"].isin([\"United States of America\", \"United States\"])].dropna(\n",
    "    subset=[\"state\"]\n",
    ")"
   ]
  },
  {
   "cell_type": "code",
   "execution_count": null,
   "metadata": {},
   "outputs": [
    {
     "name": "stdout",
     "output_type": "stream",
     "text": [
      "332467\n",
      "332467\n",
      "332467\n"
     ]
    }
   ],
   "source": [
    "df.isnull().sum()\n",
    "print(len(df[\"country\"]))\n",
    "print(len(df[\"state\"]))\n",
    "print(len(df[\"city\"]))"
   ]
  },
  {
   "cell_type": "code",
   "execution_count": null,
   "metadata": {},
   "outputs": [],
   "source": []
  }
 ],
 "metadata": {
  "kernelspec": {
   "display_name": "venv",
   "language": "python",
   "name": "python3"
  },
  "language_info": {
   "codemirror_mode": {
    "name": "ipython",
    "version": 3
   },
   "file_extension": ".py",
   "mimetype": "text/x-python",
   "name": "python",
   "nbconvert_exporter": "python",
   "pygments_lexer": "ipython3",
   "version": "3.12.7"
  }
 },
 "nbformat": 4,
 "nbformat_minor": 2
}
