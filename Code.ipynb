{
 "cells": [
  {
   "cell_type": "code",
   "execution_count": 60,
   "metadata": {},
   "outputs": [],
   "source": [
    "import pandas as pd\n",
    "import os"
   ]
  },
  {
   "cell_type": "code",
   "execution_count": null,
   "metadata": {},
   "outputs": [],
   "source": [
    "path = os.getcwd()\n",
    "path_trump = path + \"\\\\data\\\\hashtag_donaldtrump.csv\"\n",
    "trump = pd.read_csv(path_trump, lineterminator=\"\\n\")\n",
    "path_biden = path + \"\\\\data\\\\hashtag_joebiden.csv\"\n",
    "biden = pd.read_csv(path_biden, lineterminator=\"\\n\")\n",
    "trump[\"source\"] = \"Trump\"\n",
    "biden[\"source\"] = \"Biden\"\n",
    "# Concatenate and remove duplicates\n",
    "df = pd.concat([trump, biden], ignore_index=True)\n",
    "df = df.drop_duplicates()\n",
    "df = df[df[\"country\"].isin([\"United States of America\", \"United States\"])].dropna(\n",
    "    subset=[\"state\"]\n",
    ")"
   ]
  },
  {
   "cell_type": "code",
   "execution_count": 83,
   "metadata": {},
   "outputs": [
    {
     "name": "stdout",
     "output_type": "stream",
     "text": [
      "Number of tweets containing Trump names but not Biden names, or vice versa: 207552\n",
      "Percentage of filtered tweets: 62.43%\n",
      "\n",
      "Number of tweets containing Trump names but not Biden names: 119153\n",
      "Percentage of filtered tweets Trump: 35.84%\n",
      "\n",
      "Number of tweets containing Biden names but not Trump names: 88399\n",
      "Percentage of filtered tweets Biden: 26.59%\n"
     ]
    }
   ],
   "source": [
    "frequent_names_trump = [\n",
    "    \"Trump\",\n",
    "    \"Donald\" \"Donald Trump\",\n",
    "    \"@realDonaldTrump\",\n",
    "    \"The Donald\",\n",
    "    \"45\",\n",
    "    \"Donald J. Trump\",\n",
    "    \"DJT\",\n",
    "    \"The Trump Administration\",\n",
    "    \"Trumpster\",\n",
    "    \"POTUS\",\n",
    "    \"@POTUS\",\n",
    "]\n",
    "frequent_names_biden = [\n",
    "    \"Biden\",\n",
    "    \"Joe Biden\",\n",
    "    \"@JoeBiden\",\n",
    "    \"The Biden\",\n",
    "    \"46\",\n",
    "    \"Joseph R. Biden\",\n",
    "    \"JRB\",\n",
    "    \"The Biden Administration\",\n",
    "    \"Bidenster\",\n",
    "    \"Joe\",\n",
    "    \"Joseph\",\n",
    "    \"Joseph Biden\",\n",
    "    \"Sleepy Joe\",\n",
    "    \"Uncle Joe\",\n",
    "]\n",
    "\n",
    "# Create regex patterns from the lists of names\n",
    "pattern_trump = \"|\".join(frequent_names_trump)\n",
    "pattern_biden = \"|\".join(frequent_names_biden)\n",
    "\n",
    "# Create boolean masks where tweets contain any of the frequent names\n",
    "mask_trump = df[\"tweet\"].str.contains(pattern_trump, case=False, na=False)\n",
    "mask_biden = df[\"tweet\"].str.contains(pattern_biden, case=False, na=False)\n",
    "\n",
    "# Combine the masks to filter for tweets containing Trump names but not Biden names or vice versa\n",
    "filtered_tweets = df[(mask_trump & ~mask_biden) | (mask_biden & ~mask_trump)]\n",
    "\n",
    "# Count the number of filtered tweets\n",
    "count_filtered = filtered_tweets.shape[0]\n",
    "\n",
    "# Total number of tweets for percentage calculation\n",
    "total_tweets = len(df[\"tweet\"])\n",
    "\n",
    "# Print the results\n",
    "print(\n",
    "    f\"Number of tweets containing Trump names but not Biden names, or vice versa: {count_filtered}\"\n",
    ")\n",
    "print(f\"Percentage of filtered tweets: {count_filtered / total_tweets * 100:.2f}%\")\n",
    "\n",
    "\n",
    "filtered_tweets_trump = df[mask_trump & ~mask_biden]\n",
    "filtered_tweets_biden = df[mask_biden & ~mask_trump]\n",
    "count_filtered_trump = filtered_tweets_trump.shape[0]\n",
    "count_filtered_biden = filtered_tweets_biden.shape[0]\n",
    "print(\n",
    "    f\"\\nNumber of tweets containing Trump names but not Biden names: {count_filtered_trump}\"\n",
    ")\n",
    "print(\n",
    "    f\"Percentage of filtered tweets Trump: {count_filtered_trump / total_tweets * 100:.2f}%\"\n",
    ")\n",
    "print(\n",
    "    f\"\\nNumber of tweets containing Biden names but not Trump names: {count_filtered_biden}\"\n",
    ")\n",
    "print(\n",
    "    f\"Percentage of filtered tweets Biden: {count_filtered_biden / total_tweets * 100:.2f}%\"\n",
    ")"
   ]
  },
  {
   "cell_type": "code",
   "execution_count": null,
   "metadata": {},
   "outputs": [],
   "source": []
  }
 ],
 "metadata": {
  "kernelspec": {
   "display_name": "venv",
   "language": "python",
   "name": "python3"
  },
  "language_info": {
   "codemirror_mode": {
    "name": "ipython",
    "version": 3
   },
   "file_extension": ".py",
   "mimetype": "text/x-python",
   "name": "python",
   "nbconvert_exporter": "python",
   "pygments_lexer": "ipython3",
   "version": "3.12.7"
  }
 },
 "nbformat": 4,
 "nbformat_minor": 2
}
